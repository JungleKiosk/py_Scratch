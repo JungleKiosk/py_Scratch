{
  "nbformat": 4,
  "nbformat_minor": 0,
  "metadata": {
    "colab": {
      "provenance": [],
      "toc_visible": true,
      "authorship_tag": "ABX9TyMkJdQO27y8v4A71fYnUz+W"
    },
    "kernelspec": {
      "name": "python3",
      "display_name": "Python 3"
    },
    "language_info": {
      "name": "python"
    }
  },
  "cells": [
    {
      "cell_type": "code",
      "execution_count": null,
      "metadata": {
        "id": "TLbgX2jTDQ0s"
      },
      "outputs": [],
      "source": []
    },
    {
      "cell_type": "markdown",
      "source": [
        "# **Introduction to Python 🚀✨**\n",
        "\n",
        "> ## Fundamentals:\n",
        "\n",
        "1. Strings\n",
        "2. Numbers\n",
        "3. Arithmetic Operators\n",
        "4. Boolean operators\n",
        "5. Variables and assignments\n",
        "6. Item indexing\n",
        "7. input() function\n",
        "\n",
        "> ## Data structures:\n",
        "\n",
        "8. Lists\n",
        "9. Dictionaries\n",
        "10. tuples\n",
        "11. Sep\n",
        "\n",
        "> ## Control structures:\n",
        "\n",
        "12. Conditionals\n",
        "13.Cycles\n",
        "\n",
        "> ## Functions\n",
        "\n",
        "> ## Libraries"
      ],
      "metadata": {
        "id": "FnM1ciRQnna0"
      }
    },
    {
      "cell_type": "markdown",
      "source": [
        "## Strings\n",
        "Strings are always enclosed in quotes: single ('string') or double (\"string\")"
      ],
      "metadata": {
        "id": "fLVwTzFPsGof"
      }
    },
    {
      "cell_type": "code",
      "source": [
        "'Hello World!'\n",
        "\"Hello World!\""
      ],
      "metadata": {
        "colab": {
          "base_uri": "https://localhost:8080/",
          "height": 36
        },
        "id": "nhr1MYJosi_A",
        "outputId": "9e7b5281-dbda-402c-ec6a-57bc338817e2"
      },
      "execution_count": null,
      "outputs": [
        {
          "output_type": "execute_result",
          "data": {
            "text/plain": [
              "'Hello World!'"
            ],
            "application/vnd.google.colaboratory.intrinsic+json": {
              "type": "string"
            }
          },
          "metadata": {},
          "execution_count": 2
        }
      ]
    },
    {
      "cell_type": "markdown",
      "source": [
        "With the asterisk symbol (#) you create a comment. Comments are essential for remembering in the future what the processed code is for and how it is contextualized in the project."
      ],
      "metadata": {
        "id": "8LGs5za9the1"
      }
    },
    {
      "cell_type": "code",
      "source": [
        "# This is a comment\n",
        "# these lines will not be executed"
      ],
      "metadata": {
        "id": "nqE23gU3tkqj"
      },
      "execution_count": null,
      "outputs": []
    },
    {
      "cell_type": "markdown",
      "source": [
        "A number can be converted to a string"
      ],
      "metadata": {
        "id": "S0v4DhVrt01E"
      }
    },
    {
      "cell_type": "code",
      "source": [
        "str(3) #the str function transforms to string"
      ],
      "metadata": {
        "colab": {
          "base_uri": "https://localhost:8080/",
          "height": 36
        },
        "id": "FWNCoVMzt7xE",
        "outputId": "5f8f4de7-606a-43e8-ff61-6fb85a3e484f"
      },
      "execution_count": null,
      "outputs": [
        {
          "output_type": "execute_result",
          "data": {
            "text/plain": [
              "'3'"
            ],
            "application/vnd.google.colaboratory.intrinsic+json": {
              "type": "string"
            }
          },
          "metadata": {},
          "execution_count": 5
        }
      ]
    },
    {
      "cell_type": "markdown",
      "source": [
        "Strings can be concatenated"
      ],
      "metadata": {
        "id": "-W05YqIqufVF"
      }
    },
    {
      "cell_type": "code",
      "source": [
        "'The number ' + str(5) + ' is greater than ' + '3'"
      ],
      "metadata": {
        "colab": {
          "base_uri": "https://localhost:8080/",
          "height": 36
        },
        "id": "3_sFhXGuugTO",
        "outputId": "838d8d86-2708-4681-f273-e1fa9a741044"
      },
      "execution_count": null,
      "outputs": [
        {
          "output_type": "execute_result",
          "data": {
            "text/plain": [
              "'The number 5 is greater than 3'"
            ],
            "application/vnd.google.colaboratory.intrinsic+json": {
              "type": "string"
            }
          },
          "metadata": {},
          "execution_count": 9
        }
      ]
    },
    {
      "cell_type": "markdown",
      "source": [
        "Encode the apostrophe with double quotes or escape"
      ],
      "metadata": {
        "id": "zQCzgvAjwgnN"
      }
    },
    {
      "cell_type": "code",
      "source": [
        "'We\\'re going to Mario\\'s for dinner tonight'"
      ],
      "metadata": {
        "colab": {
          "base_uri": "https://localhost:8080/",
          "height": 36
        },
        "id": "7bgBPBhbwiXt",
        "outputId": "3b793aad-d75c-43a9-f586-61b724095f72"
      },
      "execution_count": null,
      "outputs": [
        {
          "output_type": "execute_result",
          "data": {
            "text/plain": [
              "\"We're going to Mario's for dinner tonight\""
            ],
            "application/vnd.google.colaboratory.intrinsic+json": {
              "type": "string"
            }
          },
          "metadata": {},
          "execution_count": 13
        }
      ]
    },
    {
      "cell_type": "code",
      "source": [
        "\"We're going to Mario's for dinner tonight\""
      ],
      "metadata": {
        "colab": {
          "base_uri": "https://localhost:8080/",
          "height": 36
        },
        "id": "nXSq5WGSxAsC",
        "outputId": "a091adfb-3c07-471e-d145-b2097bfc3984"
      },
      "execution_count": null,
      "outputs": [
        {
          "output_type": "execute_result",
          "data": {
            "text/plain": [
              "\"We're going to Mario's for dinner tonight\""
            ],
            "application/vnd.google.colaboratory.intrinsic+json": {
              "type": "string"
            }
          },
          "metadata": {},
          "execution_count": 14
        }
      ]
    },
    {
      "cell_type": "markdown",
      "source": [
        "## Numbers"
      ],
      "metadata": {
        "id": "ZIBbquUj0YFQ"
      }
    },
    {
      "cell_type": "markdown",
      "source": [
        "Real numbers in Python are called '**float**'"
      ],
      "metadata": {
        "id": "gv1-0s1X0zxs"
      }
    },
    {
      "cell_type": "code",
      "source": [
        "3.14"
      ],
      "metadata": {
        "colab": {
          "base_uri": "https://localhost:8080/"
        },
        "id": "ILJuh-6h0_uu",
        "outputId": "a55f7b1b-cce9-4afe-c4ff-b9818860bb13"
      },
      "execution_count": null,
      "outputs": [
        {
          "output_type": "execute_result",
          "data": {
            "text/plain": [
              "3.14"
            ]
          },
          "metadata": {},
          "execution_count": 16
        }
      ]
    },
    {
      "cell_type": "markdown",
      "source": [
        "The **type()** function returns the type of objects"
      ],
      "metadata": {
        "id": "pdm9wwOP1DYY"
      }
    },
    {
      "cell_type": "code",
      "source": [
        "type(3)"
      ],
      "metadata": {
        "colab": {
          "base_uri": "https://localhost:8080/"
        },
        "id": "uf6rh1EH1PKM",
        "outputId": "5893da84-4af7-4d21-efe5-b25a0ced5d6d"
      },
      "execution_count": null,
      "outputs": [
        {
          "output_type": "execute_result",
          "data": {
            "text/plain": [
              "int"
            ]
          },
          "metadata": {},
          "execution_count": 17
        }
      ]
    },
    {
      "cell_type": "code",
      "source": [
        "type(3.0)"
      ],
      "metadata": {
        "colab": {
          "base_uri": "https://localhost:8080/"
        },
        "id": "sW_sQURZ1Yi4",
        "outputId": "16cf60f2-1e90-4232-8ba1-7cd4f0a2184d"
      },
      "execution_count": null,
      "outputs": [
        {
          "output_type": "execute_result",
          "data": {
            "text/plain": [
              "float"
            ]
          },
          "metadata": {},
          "execution_count": 18
        }
      ]
    },
    {
      "cell_type": "code",
      "source": [
        "type(3.14)"
      ],
      "metadata": {
        "colab": {
          "base_uri": "https://localhost:8080/"
        },
        "id": "rBYdvUo81dKW",
        "outputId": "41474471-232c-4121-b458-c6a896c5a797"
      },
      "execution_count": null,
      "outputs": [
        {
          "output_type": "execute_result",
          "data": {
            "text/plain": [
              "float"
            ]
          },
          "metadata": {},
          "execution_count": 19
        }
      ]
    },
    {
      "cell_type": "markdown",
      "source": [
        "It is possible to convert objects of type **int** to **float** and vice versa:"
      ],
      "metadata": {
        "id": "zYiWafzz1qYm"
      }
    },
    {
      "cell_type": "code",
      "source": [
        "int(3.0)"
      ],
      "metadata": {
        "colab": {
          "base_uri": "https://localhost:8080/"
        },
        "id": "KrQ19atv1tke",
        "outputId": "1135ff00-2adc-48ae-dae5-2efa3fd56323"
      },
      "execution_count": null,
      "outputs": [
        {
          "output_type": "execute_result",
          "data": {
            "text/plain": [
              "3"
            ]
          },
          "metadata": {},
          "execution_count": 20
        }
      ]
    },
    {
      "cell_type": "code",
      "source": [
        "float(3)"
      ],
      "metadata": {
        "colab": {
          "base_uri": "https://localhost:8080/"
        },
        "id": "Il1beXNR1xxU",
        "outputId": "19a6dbce-2a9b-404b-e28e-e19a82d471be"
      },
      "execution_count": null,
      "outputs": [
        {
          "output_type": "execute_result",
          "data": {
            "text/plain": [
              "3.0"
            ]
          },
          "metadata": {},
          "execution_count": 21
        }
      ]
    },
    {
      "cell_type": "markdown",
      "source": [
        "It is also possible to convert a number saved as a string to an **int** or a **float**:"
      ],
      "metadata": {
        "id": "FA7YE86K2CLs"
      }
    },
    {
      "cell_type": "code",
      "source": [
        "int(\"3\")"
      ],
      "metadata": {
        "colab": {
          "base_uri": "https://localhost:8080/"
        },
        "id": "EA1Skb1Z2Fmz",
        "outputId": "3e196442-eceb-4611-f111-75f131ee0b3b"
      },
      "execution_count": null,
      "outputs": [
        {
          "output_type": "execute_result",
          "data": {
            "text/plain": [
              "3"
            ]
          },
          "metadata": {},
          "execution_count": 24
        }
      ]
    },
    {
      "cell_type": "code",
      "source": [
        "float(\"3\")"
      ],
      "metadata": {
        "colab": {
          "base_uri": "https://localhost:8080/"
        },
        "id": "TlBNiocR2R2P",
        "outputId": "eeac88b3-70d7-4420-8ce6-4c1820bc7397"
      },
      "execution_count": null,
      "outputs": [
        {
          "output_type": "execute_result",
          "data": {
            "text/plain": [
              "3.0"
            ]
          },
          "metadata": {},
          "execution_count": 25
        }
      ]
    },
    {
      "cell_type": "code",
      "source": [
        "type(\"3\")"
      ],
      "metadata": {
        "colab": {
          "base_uri": "https://localhost:8080/"
        },
        "id": "shr6nA9r2ZFz",
        "outputId": "4a065425-7625-4dfd-90ed-a4701483d870"
      },
      "execution_count": null,
      "outputs": [
        {
          "output_type": "execute_result",
          "data": {
            "text/plain": [
              "str"
            ]
          },
          "metadata": {},
          "execution_count": 26
        }
      ]
    },
    {
      "cell_type": "markdown",
      "source": [
        "## Arithmetic Operators"
      ],
      "metadata": {
        "id": "7F_Yj9xu2csa"
      }
    },
    {
      "cell_type": "code",
      "source": [
        "2 + (5*8)"
      ],
      "metadata": {
        "colab": {
          "base_uri": "https://localhost:8080/"
        },
        "id": "wmbL_GmH2g9M",
        "outputId": "b4614a9a-404b-4813-a69c-5f89ee435dd9"
      },
      "execution_count": null,
      "outputs": [
        {
          "output_type": "execute_result",
          "data": {
            "text/plain": [
              "42"
            ]
          },
          "metadata": {},
          "execution_count": 27
        }
      ]
    },
    {
      "cell_type": "code",
      "source": [
        "# squaring\n",
        "3**2"
      ],
      "metadata": {
        "colab": {
          "base_uri": "https://localhost:8080/"
        },
        "id": "4NLVAKRk2n7B",
        "outputId": "a210bd62-4b8a-46b3-b9e8-a4fb08adc0ab"
      },
      "execution_count": null,
      "outputs": [
        {
          "output_type": "execute_result",
          "data": {
            "text/plain": [
              "9"
            ]
          },
          "metadata": {},
          "execution_count": 28
        }
      ]
    },
    {
      "cell_type": "code",
      "source": [
        "# square root (number**0.5)\n",
        "81**0.5"
      ],
      "metadata": {
        "colab": {
          "base_uri": "https://localhost:8080/"
        },
        "id": "bhaiDDxv292p",
        "outputId": "f498f561-89c4-4b49-a34f-61bb28e9b985"
      },
      "execution_count": null,
      "outputs": [
        {
          "output_type": "execute_result",
          "data": {
            "text/plain": [
              "9.0"
            ]
          },
          "metadata": {},
          "execution_count": 29
        }
      ]
    },
    {
      "cell_type": "code",
      "source": [
        "# square root (number**(1/2))\n",
        "81**(1/2)"
      ],
      "metadata": {
        "colab": {
          "base_uri": "https://localhost:8080/"
        },
        "id": "0MqMqyFD3RSd",
        "outputId": "4a613b8e-29c2-4268-982e-baab1dbe41f9"
      },
      "execution_count": null,
      "outputs": [
        {
          "output_type": "execute_result",
          "data": {
            "text/plain": [
              "9.0"
            ]
          },
          "metadata": {},
          "execution_count": 31
        }
      ]
    },
    {
      "cell_type": "code",
      "source": [
        "# cubic root (number**(1/3))\n",
        "81**(1/3)"
      ],
      "metadata": {
        "colab": {
          "base_uri": "https://localhost:8080/"
        },
        "id": "MDZVUvu33cLK",
        "outputId": "f38adabf-e6d6-4ac5-859e-497494bc1882"
      },
      "execution_count": null,
      "outputs": [
        {
          "output_type": "execute_result",
          "data": {
            "text/plain": [
              "4.3267487109222245"
            ]
          },
          "metadata": {},
          "execution_count": 32
        }
      ]
    },
    {
      "cell_type": "markdown",
      "source": [
        "## Boolean operators"
      ],
      "metadata": {
        "id": "yciSBQFz5R3q"
      }
    },
    {
      "cell_type": "markdown",
      "source": [
        "A **Boolean object** can only take on the values `[TRUE, FALSE]` or `[1, 0]`, which represent the two truth values of Boolean logic and algebra.\n",
        "\n",
        "In programming, comparison operators and Boolean values can be used, among other things, to evaluate the truthfulness of a statement. Let's see some examples where we compare numeric values:"
      ],
      "metadata": {
        "id": "pY0XvOXw5VT4"
      }
    },
    {
      "cell_type": "code",
      "source": [
        "# equality\n",
        "3 == 3.0"
      ],
      "metadata": {
        "colab": {
          "base_uri": "https://localhost:8080/"
        },
        "id": "dKw7tLOx5tBF",
        "outputId": "1354b3ea-44fa-4883-9e47-4e800ef8a39f"
      },
      "execution_count": null,
      "outputs": [
        {
          "output_type": "execute_result",
          "data": {
            "text/plain": [
              "True"
            ]
          },
          "metadata": {},
          "execution_count": 33
        }
      ]
    },
    {
      "cell_type": "code",
      "source": [
        "# inequality: greater than\n",
        "9 > 3"
      ],
      "metadata": {
        "colab": {
          "base_uri": "https://localhost:8080/"
        },
        "id": "9Uy-Fvgo58nP",
        "outputId": "0b24d51b-e756-4cae-85a2-45db3951a456"
      },
      "execution_count": null,
      "outputs": [
        {
          "output_type": "execute_result",
          "data": {
            "text/plain": [
              "True"
            ]
          },
          "metadata": {},
          "execution_count": 36
        }
      ]
    },
    {
      "cell_type": "code",
      "source": [
        "# inequality: less than\n",
        "3 < 9"
      ],
      "metadata": {
        "colab": {
          "base_uri": "https://localhost:8080/"
        },
        "id": "NJ4H6jcY6M2H",
        "outputId": "e2f1248a-14ff-4b0e-ba30-948ff1177fc0"
      },
      "execution_count": null,
      "outputs": [
        {
          "output_type": "execute_result",
          "data": {
            "text/plain": [
              "True"
            ]
          },
          "metadata": {},
          "execution_count": 37
        }
      ]
    },
    {
      "cell_type": "code",
      "source": [
        "# different from\n",
        "3 != 9"
      ],
      "metadata": {
        "colab": {
          "base_uri": "https://localhost:8080/"
        },
        "id": "okWf9HRz6VD0",
        "outputId": "5ed57d89-e1fe-481c-bb11-9f390a5826a4"
      },
      "execution_count": null,
      "outputs": [
        {
          "output_type": "execute_result",
          "data": {
            "text/plain": [
              "True"
            ]
          },
          "metadata": {},
          "execution_count": 38
        }
      ]
    },
    {
      "cell_type": "markdown",
      "source": [
        "In Python a boolean operator has variable type `bool`:"
      ],
      "metadata": {
        "id": "lleLzoaI6lPQ"
      }
    },
    {
      "cell_type": "code",
      "source": [
        "type(True)"
      ],
      "metadata": {
        "colab": {
          "base_uri": "https://localhost:8080/"
        },
        "id": "O4dvwvV66sKx",
        "outputId": "74d9f333-105a-4bd9-a870-ac2842aac02b"
      },
      "execution_count": null,
      "outputs": [
        {
          "output_type": "execute_result",
          "data": {
            "text/plain": [
              "bool"
            ]
          },
          "metadata": {},
          "execution_count": 39
        }
      ]
    },
    {
      "cell_type": "markdown",
      "source": [
        "In elementary algebra, we use integer or real numbers and the classic operations of addition, subtraction, etc. In **boolean algebra**, however, we use boolean values and the operations `AND`, `OR` and `NOT`.\n",
        "\n",
        "The three Boolean operators are AND, OR, and NOT.\n",
        "\n",
        "AND narrows your search results by limiting your results to those that contain\n",
        "both words connected with AND.\n",
        "\n",
        "OR expands your search results by including results that contain one word, the other word, or both words.\n",
        "\n",
        "NOT narrows your search results by limiting your results to those that contain the word you designate before NOT, but not the word after NOT.\n",
        "\n",
        "One way to visualize Boolean Operators is to use a Venn diagram. See below or watch the video to the right.\n",
        "\n",
        "<img src = https://s3.amazonaws.com/libapps/accounts/74272/images/PB_and_J_Boolean_Operator_Venn_Diagram.png width = \"800\" >"
      ],
      "metadata": {
        "id": "XjkuS-cb62MW"
      }
    },
    {
      "cell_type": "code",
      "source": [
        "# AND\n",
        "print('5 > 0 and 5 < 10:', 5 > 0 and 5 < 10) # True\n",
        "print('5 > 0 and 15 < 10:', 5 > 0 and 15 < 10) # False: 15 is greater than 10"
      ],
      "metadata": {
        "colab": {
          "base_uri": "https://localhost:8080/"
        },
        "id": "fbOM-fm08BlD",
        "outputId": "3ebf3f7b-fe9e-457f-b4be-acdf96d1fb35"
      },
      "execution_count": null,
      "outputs": [
        {
          "output_type": "stream",
          "name": "stdout",
          "text": [
            "5 > 0 and 5 < 10: True\n",
            "5 > 0 and 15 < 10: False\n"
          ]
        }
      ]
    },
    {
      "cell_type": "code",
      "source": [
        "#OR\n",
        "print('5 > 0 or 5 < 10:', 5 > 0 or 5 < 10) # True\n",
        "print('5 > 0 or 15 < 10:', 5 > 0 or 15 < 10) # True"
      ],
      "metadata": {
        "colab": {
          "base_uri": "https://localhost:8080/"
        },
        "id": "k1rnHdL-8Sto",
        "outputId": "1760e165-8848-466d-db8a-48feb34e2d02"
      },
      "execution_count": null,
      "outputs": [
        {
          "output_type": "stream",
          "name": "stdout",
          "text": [
            "5 > 0 or 5 < 10: True\n",
            "5 > 0 or 15 < 10: True\n"
          ]
        }
      ]
    },
    {
      "cell_type": "code",
      "source": [
        "#NOT\n",
        "print('not True:', not True) # False\n",
        "print('False is not True:', False is not True) # True\n",
        "print('not 5 < 0:', not 5 < 0) # True"
      ],
      "metadata": {
        "colab": {
          "base_uri": "https://localhost:8080/"
        },
        "id": "arPhJjmX8rkj",
        "outputId": "4634f618-c3c2-4adb-81b5-901f8e5fa31f"
      },
      "execution_count": null,
      "outputs": [
        {
          "output_type": "stream",
          "name": "stdout",
          "text": [
            "not True: False\n",
            "False is not True: True\n",
            "not 5 < 0: True\n"
          ]
        }
      ]
    },
    {
      "cell_type": "code",
      "source": [
        "type(5) == int"
      ],
      "metadata": {
        "colab": {
          "base_uri": "https://localhost:8080/"
        },
        "id": "-KlAy0DU-M7y",
        "outputId": "7f04bc90-711b-487c-89f7-d481b2a66e9f"
      },
      "execution_count": null,
      "outputs": [
        {
          "output_type": "execute_result",
          "data": {
            "text/plain": [
              "True"
            ]
          },
          "metadata": {},
          "execution_count": 43
        }
      ]
    },
    {
      "cell_type": "markdown",
      "source": [
        "## Variables and assignments"
      ],
      "metadata": {
        "id": "WvRE8oNF93cV"
      }
    },
    {
      "cell_type": "markdown",
      "source": [
        "You can create a new variable, which we will call `x`, and assign it any value, say 100:"
      ],
      "metadata": {
        "id": "48li3thi9-U8"
      }
    },
    {
      "cell_type": "code",
      "source": [
        "x = 100\n",
        "x"
      ],
      "metadata": {
        "colab": {
          "base_uri": "https://localhost:8080/"
        },
        "id": "RGAXLNn_-HJr",
        "outputId": "d3fafba6-3842-4b57-c0c9-051a921f91ff"
      },
      "execution_count": null,
      "outputs": [
        {
          "output_type": "execute_result",
          "data": {
            "text/plain": [
              "100"
            ]
          },
          "metadata": {},
          "execution_count": 46
        }
      ]
    },
    {
      "cell_type": "markdown",
      "source": [
        "To see the contents of the variable x, we can use the `print()` function:"
      ],
      "metadata": {
        "id": "bCU49lmB-vss"
      }
    },
    {
      "cell_type": "code",
      "source": [
        "print(x)"
      ],
      "metadata": {
        "colab": {
          "base_uri": "https://localhost:8080/"
        },
        "id": "AtlzTqh_-w3o",
        "outputId": "9746eb54-fbe6-4d20-ac2b-5545b328ab3b"
      },
      "execution_count": null,
      "outputs": [
        {
          "output_type": "stream",
          "name": "stdout",
          "text": [
            "100\n"
          ]
        }
      ]
    },
    {
      "cell_type": "markdown",
      "source": [
        "The advantage of defining a variable: in an operation the result can be saved in a variable that can be easily reused in the iterative process."
      ],
      "metadata": {
        "id": "swxZTeDK_5UD"
      }
    },
    {
      "cell_type": "markdown",
      "source": [
        "We can also assign a new value to the variable `x` itself; in this case we will overwrite the old value 100 with the new value 10:"
      ],
      "metadata": {
        "id": "-ZVOJexFAEgn"
      }
    },
    {
      "cell_type": "code",
      "source": [
        "x = 10\n",
        "print(x)"
      ],
      "metadata": {
        "colab": {
          "base_uri": "https://localhost:8080/"
        },
        "id": "wRxlXcSJAFdB",
        "outputId": "1774757e-d7e0-4737-eefe-214e851dfe56"
      },
      "execution_count": null,
      "outputs": [
        {
          "output_type": "stream",
          "name": "stdout",
          "text": [
            "10\n"
          ]
        }
      ]
    },
    {
      "cell_type": "markdown",
      "source": [
        "The variable we have created can be used in various ways, for example within a concatenation of strings or, if numeric, to perform arithmetic operations:"
      ],
      "metadata": {
        "id": "2zMce-zGAUwk"
      }
    },
    {
      "cell_type": "code",
      "source": [
        "print('x is a variable of type', type(x), 'and its value is', x)"
      ],
      "metadata": {
        "colab": {
          "base_uri": "https://localhost:8080/"
        },
        "id": "8z2NuHUwAV9g",
        "outputId": "be7d3c94-c748-46e7-bef9-3756c8b14281"
      },
      "execution_count": null,
      "outputs": [
        {
          "output_type": "stream",
          "name": "stdout",
          "text": [
            "x is a variable of type <class 'int'> and its value is 10\n"
          ]
        }
      ]
    },
    {
      "cell_type": "code",
      "source": [
        "print(x + 5) # addition\n",
        "print(x - 50) # subtraction\n",
        "print(x*2) # multiplication\n",
        "print(x/2) # division\n",
        "print(x**x) # power"
      ],
      "metadata": {
        "colab": {
          "base_uri": "https://localhost:8080/"
        },
        "id": "TK8eVdxPAo3h",
        "outputId": "455b2beb-d03f-4d55-fb74-5c0fb737d446"
      },
      "execution_count": null,
      "outputs": [
        {
          "output_type": "stream",
          "name": "stdout",
          "text": [
            "15\n",
            "-40\n",
            "20\n",
            "5.0\n",
            "10000000000\n"
          ]
        }
      ]
    },
    {
      "cell_type": "markdown",
      "source": [
        "Python allows you to assign multiple values to multiple variables on the same line using the following notation:"
      ],
      "metadata": {
        "id": "uD0YhOHTA0q2"
      }
    },
    {
      "cell_type": "code",
      "source": [
        "a, b, c = 11, 22, 33"
      ],
      "metadata": {
        "id": "3caPXJtpA3HQ"
      },
      "execution_count": null,
      "outputs": []
    },
    {
      "cell_type": "code",
      "source": [
        "print(a)\n",
        "print(b)\n",
        "print(c)"
      ],
      "metadata": {
        "colab": {
          "base_uri": "https://localhost:8080/"
        },
        "id": "JkhHmgqTA_bo",
        "outputId": "2e06adb4-0bfb-4c44-d445-29e862bb635a"
      },
      "execution_count": null,
      "outputs": [
        {
          "output_type": "stream",
          "name": "stdout",
          "text": [
            "11\n",
            "22\n",
            "33\n"
          ]
        }
      ]
    },
    {
      "cell_type": "code",
      "source": [
        "print(a + b + c) # addition\n",
        "print(a, b, c) # concatenation"
      ],
      "metadata": {
        "colab": {
          "base_uri": "https://localhost:8080/"
        },
        "id": "RUemx9gnBFcx",
        "outputId": "6425d5f2-ef11-4e0d-fa8f-286f58d6d80d"
      },
      "execution_count": null,
      "outputs": [
        {
          "output_type": "stream",
          "name": "stdout",
          "text": [
            "66\n",
            "11 22 33\n"
          ]
        }
      ]
    },
    {
      "cell_type": "code",
      "source": [
        "d = e = f = 'Hello'"
      ],
      "metadata": {
        "id": "4HYtsbYeBSKr"
      },
      "execution_count": null,
      "outputs": []
    },
    {
      "cell_type": "code",
      "source": [
        "print(d)\n",
        "print(e)\n",
        "print(f)"
      ],
      "metadata": {
        "colab": {
          "base_uri": "https://localhost:8080/"
        },
        "id": "_pBjRQzTBT-r",
        "outputId": "1bd3d8da-2f70-45bc-c768-064ae5cf16fc"
      },
      "execution_count": null,
      "outputs": [
        {
          "output_type": "stream",
          "name": "stdout",
          "text": [
            "Hello\n",
            "Hello\n",
            "Hello\n"
          ]
        }
      ]
    },
    {
      "cell_type": "code",
      "source": [
        "print(d + e + f)\n",
        "print(d, e, f)"
      ],
      "metadata": {
        "colab": {
          "base_uri": "https://localhost:8080/"
        },
        "id": "YlB5M2TWBoBZ",
        "outputId": "662ca89e-0441-42c6-f99e-e8b22f20323a"
      },
      "execution_count": null,
      "outputs": [
        {
          "output_type": "stream",
          "name": "stdout",
          "text": [
            "HelloHelloHello\n",
            "Hello Hello Hello\n"
          ]
        }
      ]
    },
    {
      "cell_type": "markdown",
      "source": [
        "The **modulo (%)** operator is used to obtain the remainder of a division.\n",
        "\n",
        "For example, dividing 10/2 results in 5 with a remainder of 0, so:"
      ],
      "metadata": {
        "id": "SWJ3csHQBx4Q"
      }
    },
    {
      "cell_type": "code",
      "source": [
        "10 % 2"
      ],
      "metadata": {
        "colab": {
          "base_uri": "https://localhost:8080/"
        },
        "id": "_pnPVTu6B2NB",
        "outputId": "f60ee076-24f3-45a9-ac76-1a9fd712e503"
      },
      "execution_count": null,
      "outputs": [
        {
          "output_type": "execute_result",
          "data": {
            "text/plain": [
              "0"
            ]
          },
          "metadata": {},
          "execution_count": 58
        }
      ]
    },
    {
      "cell_type": "markdown",
      "source": [
        "Conversely, dividing 10/3 results in 3 with a remainder of 1, thus:\n"
      ],
      "metadata": {
        "id": "EOipICVwCAhm"
      }
    },
    {
      "cell_type": "code",
      "source": [
        "10 % 3"
      ],
      "metadata": {
        "colab": {
          "base_uri": "https://localhost:8080/"
        },
        "id": "b7NfFmNGCDEn",
        "outputId": "7a44e8df-35d1-44fd-bf63-33645657e14a"
      },
      "execution_count": null,
      "outputs": [
        {
          "output_type": "execute_result",
          "data": {
            "text/plain": [
              "1"
            ]
          },
          "metadata": {},
          "execution_count": 59
        }
      ]
    },
    {
      "cell_type": "markdown",
      "source": [
        "Of course, you can use the modulus operator with a numeric **variable**:"
      ],
      "metadata": {
        "id": "Xw1i3ntMC6x0"
      }
    },
    {
      "cell_type": "code",
      "source": [
        "x = 10\n",
        "print(x, 'divided three is ', int(x/3), 'with the rest of', x % 3)"
      ],
      "metadata": {
        "colab": {
          "base_uri": "https://localhost:8080/"
        },
        "id": "LMvZDo2LC74I",
        "outputId": "b75f6791-b95a-4227-8db2-da5f6bcff7c8"
      },
      "execution_count": null,
      "outputs": [
        {
          "output_type": "stream",
          "name": "stdout",
          "text": [
            "10 divided three is 3 with the rest of 1\n"
          ]
        }
      ]
    },
    {
      "cell_type": "markdown",
      "source": [
        "## Item indexing"
      ],
      "metadata": {
        "id": "RZsoZcZYDzRO"
      }
    },
    {
      "cell_type": "markdown",
      "source": [
        "Apply element indexing to data structures: Lists, Dictionaries, Strings. is used a lot in **DataFrame**."
      ],
      "metadata": {
        "id": "uMvLK-ucD6Sn"
      }
    },
    {
      "cell_type": "markdown",
      "source": [
        "Unlike other programming languages, indexing in Python starts at 0 (not 1), which means that if we want to extract the first letter from the string \"Boolean\", we need to access the element with index 0.\n",
        "\n",
        "To extract an element from an object (such as a string), we can use the `[]` operator.\n",
        "\n",
        "![python-str-index.webp](data:image/webp;base64,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)\n",
        "\n"
      ],
      "metadata": {
        "id": "Hrb4xYrPEWxM"
      }
    },
    {
      "cell_type": "code",
      "source": [
        "\"Index\"[0] # find out 1st letter"
      ],
      "metadata": {
        "colab": {
          "base_uri": "https://localhost:8080/",
          "height": 36
        },
        "id": "nW5_wTe-EvV_",
        "outputId": "96bb3bb6-d2f0-4acb-e036-66a6b84a7115"
      },
      "execution_count": null,
      "outputs": [
        {
          "output_type": "execute_result",
          "data": {
            "text/plain": [
              "'I'"
            ],
            "application/vnd.google.colaboratory.intrinsic+json": {
              "type": "string"
            }
          },
          "metadata": {},
          "execution_count": 69
        }
      ]
    },
    {
      "cell_type": "code",
      "source": [
        "\"Index\"[3] # find out 4th letter"
      ],
      "metadata": {
        "colab": {
          "base_uri": "https://localhost:8080/",
          "height": 36
        },
        "id": "tBL01TpKFHix",
        "outputId": "467ef4fe-163d-4429-f1ab-4ee8ec9ce320"
      },
      "execution_count": null,
      "outputs": [
        {
          "output_type": "execute_result",
          "data": {
            "text/plain": [
              "'e'"
            ],
            "application/vnd.google.colaboratory.intrinsic+json": {
              "type": "string"
            }
          },
          "metadata": {},
          "execution_count": 70
        }
      ]
    },
    {
      "cell_type": "code",
      "source": [
        "\"Index\"[1:3] # find out 1st letter until 3rd\n",
        "# The range DOES NOT consider\n",
        "# the element corresponding to the last index:\n",
        "# the element 'l' = index 3 is NOT considered"
      ],
      "metadata": {
        "colab": {
          "base_uri": "https://localhost:8080/",
          "height": 36
        },
        "id": "1WAalOEcFTmn",
        "outputId": "f503876c-6726-4316-a56e-68291d8bc772"
      },
      "execution_count": null,
      "outputs": [
        {
          "output_type": "execute_result",
          "data": {
            "text/plain": [
              "'nd'"
            ],
            "application/vnd.google.colaboratory.intrinsic+json": {
              "type": "string"
            }
          },
          "metadata": {},
          "execution_count": 71
        }
      ]
    },
    {
      "cell_type": "markdown",
      "source": [
        "☝ from the example above, we note that the first index (1) is **included**, while the second index (3) is excluded!"
      ],
      "metadata": {
        "id": "46EtRsyWHhij"
      }
    },
    {
      "cell_type": "code",
      "source": [
        "\"Index\"[2:6] # find out 2nd letter until 6th"
      ],
      "metadata": {
        "colab": {
          "base_uri": "https://localhost:8080/",
          "height": 36
        },
        "id": "97jXT8t_Gal_",
        "outputId": "ed459b16-3bc6-44b8-8b2e-c4bc25da9560"
      },
      "execution_count": null,
      "outputs": [
        {
          "output_type": "execute_result",
          "data": {
            "text/plain": [
              "'dex'"
            ],
            "application/vnd.google.colaboratory.intrinsic+json": {
              "type": "string"
            }
          },
          "metadata": {},
          "execution_count": 73
        }
      ]
    },
    {
      "cell_type": "code",
      "source": [
        "\"Index\"[1:] # find out from 3rd untile to the end"
      ],
      "metadata": {
        "colab": {
          "base_uri": "https://localhost:8080/",
          "height": 36
        },
        "id": "U8tsYsd3G283",
        "outputId": "ab5b0334-2d9e-4b26-ed88-67ffa0497978"
      },
      "execution_count": null,
      "outputs": [
        {
          "output_type": "execute_result",
          "data": {
            "text/plain": [
              "'ndex'"
            ],
            "application/vnd.google.colaboratory.intrinsic+json": {
              "type": "string"
            }
          },
          "metadata": {},
          "execution_count": 76
        }
      ]
    },
    {
      "cell_type": "code",
      "source": [
        "\"Index\"[:1]"
      ],
      "metadata": {
        "colab": {
          "base_uri": "https://localhost:8080/",
          "height": 36
        },
        "id": "F8LKwyobHRY2",
        "outputId": "462c1d60-5b9a-4f24-89bf-f933d3c6815c"
      },
      "execution_count": null,
      "outputs": [
        {
          "output_type": "execute_result",
          "data": {
            "text/plain": [
              "'I'"
            ],
            "application/vnd.google.colaboratory.intrinsic+json": {
              "type": "string"
            }
          },
          "metadata": {},
          "execution_count": 77
        }
      ]
    },
    {
      "cell_type": "markdown",
      "source": [
        "You can use a **negative index** to extract items from the end:"
      ],
      "metadata": {
        "id": "fu-MRJKuH2kS"
      }
    },
    {
      "cell_type": "code",
      "source": [
        "\"Boolean\"[:-1]"
      ],
      "metadata": {
        "colab": {
          "base_uri": "https://localhost:8080/",
          "height": 36
        },
        "id": "e9Xzazy2H3dL",
        "outputId": "3f50a3cd-22f8-4abf-f012-a9f61e959d00"
      },
      "execution_count": null,
      "outputs": [
        {
          "output_type": "execute_result",
          "data": {
            "text/plain": [
              "'Boolea'"
            ],
            "application/vnd.google.colaboratory.intrinsic+json": {
              "type": "string"
            }
          },
          "metadata": {},
          "execution_count": 82
        }
      ]
    },
    {
      "cell_type": "code",
      "source": [
        "\"Boolean\"[:-3]"
      ],
      "metadata": {
        "colab": {
          "base_uri": "https://localhost:8080/",
          "height": 36
        },
        "id": "TJzLMY6NH79g",
        "outputId": "fde3767d-a9cb-4b57-9163-369c460c6631"
      },
      "execution_count": null,
      "outputs": [
        {
          "output_type": "execute_result",
          "data": {
            "text/plain": [
              "'Bool'"
            ],
            "application/vnd.google.colaboratory.intrinsic+json": {
              "type": "string"
            }
          },
          "metadata": {},
          "execution_count": 83
        }
      ]
    },
    {
      "cell_type": "markdown",
      "source": [
        "## input() function"
      ],
      "metadata": {
        "id": "VBuZOADyIfqD"
      }
    },
    {
      "cell_type": "markdown",
      "source": [
        "The `input()` function allows you to interact directly with the user through a prompt, allowing him to enter a certain value (numeric or string) which can then be used by our program. For example:"
      ],
      "metadata": {
        "id": "Y04ozL-KIpz4"
      }
    },
    {
      "cell_type": "code",
      "source": [
        "input()"
      ],
      "metadata": {
        "colab": {
          "base_uri": "https://localhost:8080/",
          "height": 53
        },
        "id": "ckJiC3UMIve4",
        "outputId": "4014625a-c7d7-418e-fb25-2cc3ed9d12c3"
      },
      "execution_count": null,
      "outputs": [
        {
          "name": "stdout",
          "output_type": "stream",
          "text": [
            "'Hello'\n"
          ]
        },
        {
          "output_type": "execute_result",
          "data": {
            "text/plain": [
              "\"'Hello'\""
            ],
            "application/vnd.google.colaboratory.intrinsic+json": {
              "type": "string"
            }
          },
          "metadata": {},
          "execution_count": 85
        }
      ]
    },
    {
      "cell_type": "markdown",
      "source": [
        "We can also decide to save the input that has been entered in a new variable:"
      ],
      "metadata": {
        "id": "hEYWJ5bLJKpS"
      }
    },
    {
      "cell_type": "code",
      "source": [
        "nome = input(\"What is your name? \")\n",
        "print(f\"Your name is {nome}\")"
      ],
      "metadata": {
        "colab": {
          "base_uri": "https://localhost:8080/"
        },
        "id": "ZbSWIJnIJPeK",
        "outputId": "bc910ad0-5304-4662-cae4-165cc45a16b8"
      },
      "execution_count": null,
      "outputs": [
        {
          "output_type": "stream",
          "name": "stdout",
          "text": [
            "What is your name? Fra\n",
            "Your name is Fra\n"
          ]
        }
      ]
    },
    {
      "cell_type": "markdown",
      "source": [
        "> ☝️ You may have noticed that in the last `print()` function there is:\n",
        "- an `f` before the string to be printed on the screen\n",
        "- and the object `name` is enclosed in braces `{}`\n",
        "\n",
        "> 🤓 This way of formatting strings is known as **f-strings** and is a fast, convenient and readable method of formatting strings that was introduced with Python 3.\n",
        "\n",
        "> ✨ Check out [this article](https://realpython.com/python-f-strings/) to learn more about f-strings and compare it to other string formatting methods."
      ],
      "metadata": {
        "id": "YOI7YDbAJ16J"
      }
    },
    {
      "cell_type": "markdown",
      "source": [
        "# Data structures\n"
      ],
      "metadata": {
        "id": "hgbMFzz0K7Bm"
      }
    },
    {
      "cell_type": "markdown",
      "source": [
        "Data structures are among the building blocks of Python and indicate a specific way of organizing data so that it can be used as efficiently as possible.\n",
        "\n",
        "Python offers four types of data structures (also known as arrays):\n",
        "- **Lists**: sorted, editable, admit duplicates\n",
        "- **Dictionaries**: sorted, editable, no duplicates allowed.\n",
        "- **Tuples**: ordered, immutable, admit duplicates\n",
        "- **Set**: unsorted, uneditable, unindexed, no duplicates allowed.\n",
        "\n",
        "When we talk about arrays, we mean fixed-size data records that allow you to efficiently locate each element based on its index:"
      ],
      "metadata": {
        "id": "eLx_fRfhLE8v"
      }
    },
    {
      "cell_type": "markdown",
      "source": [
        "![](https://drive.google.com/uc?export=view&id=1rdUtcNX16xxkb7byZRdrMx60AcSiJoim)"
      ],
      "metadata": {
        "id": "vlz07Z1TLW0Y"
      }
    },
    {
      "cell_type": "markdown",
      "source": [
        "Imagine an array as a series of boxes placed next to each other, which:\n",
        "\n",
        "* they can contain objects of the same type (eg: all strings) or even different ones (eg: strings and integers);\n",
        "* can be reordered;\n",
        "* two or more boxes may contain the exact same item (duplicate);\n",
        "* it is possible to extract, replace or leave the element of each box.\n",
        "\n",
        "Let's take a closer look at the four main types of data structures."
      ],
      "metadata": {
        "id": "617KwzDvLanw"
      }
    },
    {
      "cell_type": "markdown",
      "source": [
        "## Lists"
      ],
      "metadata": {
        "id": "ZWIKTf6qLjny"
      }
    },
    {
      "cell_type": "markdown",
      "source": [
        "Lists in Python are used to store elements of different types in a single array that:\n",
        "- be tidy\n",
        "- is modifiable\n",
        "- allow duplicate values\n",
        "\n",
        "Imagine a **series of boxes** in a row, where *each can contain anything*, numeric values (integer or real), strings, booleans, etc\n",
        "\n",
        "You can **create a new list** using square brackets `[]`:"
      ],
      "metadata": {
        "id": "GogdeemOLm1a"
      }
    },
    {
      "cell_type": "code",
      "source": [
        "integers = [1, 2, 3, 4, 5]\n",
        "print(integers)"
      ],
      "metadata": {
        "colab": {
          "base_uri": "https://localhost:8080/"
        },
        "id": "4dJr6TuuLuRY",
        "outputId": "97639f2c-c96f-4b32-f707-c42649688fb0"
      },
      "execution_count": null,
      "outputs": [
        {
          "output_type": "stream",
          "name": "stdout",
          "text": [
            "[1, 2, 3, 4, 5]\n"
          ]
        }
      ]
    },
    {
      "cell_type": "code",
      "source": [
        "reals = [0.1, 0.2, 0.3, 0.4, 0.5]\n",
        "print(reals)"
      ],
      "metadata": {
        "colab": {
          "base_uri": "https://localhost:8080/"
        },
        "id": "62ccgaEXL62P",
        "outputId": "71725343-aea5-41de-c288-205a7dc8aec4"
      },
      "execution_count": null,
      "outputs": [
        {
          "output_type": "stream",
          "name": "stdout",
          "text": [
            "[0.1, 0.2, 0.3, 0.4, 0.5]\n"
          ]
        }
      ]
    },
    {
      "cell_type": "code",
      "source": [
        "strings = [\"Orange\", \"Lemon\", \"Peach\"]\n",
        "print(strings)"
      ],
      "metadata": {
        "colab": {
          "base_uri": "https://localhost:8080/"
        },
        "id": "-iMKMMhEMHcg",
        "outputId": "2a420f5d-330b-4f2e-a46f-bd64b97c51a2"
      },
      "execution_count": null,
      "outputs": [
        {
          "output_type": "stream",
          "name": "stdout",
          "text": [
            "['Orange', 'Lemon', 'Peach']\n"
          ]
        }
      ]
    },
    {
      "cell_type": "code",
      "source": [
        "mix = [1, 0.2, \"orange\", 3, True, 3 < 5, \"5 Lemons, 10 Peaches\"]\n",
        "print(mix)"
      ],
      "metadata": {
        "colab": {
          "base_uri": "https://localhost:8080/"
        },
        "id": "e0amUiVnMfE2",
        "outputId": "d0cb4751-094f-4b5c-bbdc-eef537833b67"
      },
      "execution_count": null,
      "outputs": [
        {
          "output_type": "stream",
          "name": "stdout",
          "text": [
            "[1, 0.2, 'orange', 3, True, True, '5 Lemons, 10 Peaches']\n"
          ]
        }
      ]
    },
    {
      "cell_type": "markdown",
      "source": [
        "Lists in Python are indexed, which means that each element inside them is associated with a progressive number: the first element has index 0, the second has index 1 and so on up to the last element of the list. It is possible to find out the length of the list using the `len()` function."
      ],
      "metadata": {
        "id": "y1JwkdjfM7OP"
      }
    },
    {
      "cell_type": "code",
      "source": [
        "strings[0]"
      ],
      "metadata": {
        "colab": {
          "base_uri": "https://localhost:8080/",
          "height": 36
        },
        "id": "WAbD54NbM-oU",
        "outputId": "1b47b555-e596-4be0-9968-a16e53f38c39"
      },
      "execution_count": null,
      "outputs": [
        {
          "output_type": "execute_result",
          "data": {
            "text/plain": [
              "'Orange'"
            ],
            "application/vnd.google.colaboratory.intrinsic+json": {
              "type": "string"
            }
          },
          "metadata": {},
          "execution_count": 97
        }
      ]
    },
    {
      "cell_type": "code",
      "source": [
        "len(strings) # know the length\n",
        "# the 'strings' List object has 3 elements:\n",
        "# therefore it has length = 3"
      ],
      "metadata": {
        "colab": {
          "base_uri": "https://localhost:8080/"
        },
        "id": "NhaUiLnoNKVG",
        "outputId": "7086c94a-3c56-4267-d6e7-b0c155c967fd"
      },
      "execution_count": null,
      "outputs": [
        {
          "output_type": "execute_result",
          "data": {
            "text/plain": [
              "3"
            ]
          },
          "metadata": {},
          "execution_count": 99
        }
      ]
    },
    {
      "cell_type": "markdown",
      "source": [
        "❗ Remember, **in Python, indices always start at 0**, so the third element of a list will have index 2:"
      ],
      "metadata": {
        "id": "ecxV1iJyNxki"
      }
    },
    {
      "cell_type": "code",
      "source": [
        "# this line will generate an error\n",
        "strings[3]"
      ],
      "metadata": {
        "id": "5xUK_8WON0sg"
      },
      "execution_count": null,
      "outputs": []
    },
    {
      "cell_type": "markdown",
      "source": [
        "---------------------------------------------------------------------------\n",
        "IndexError                                Traceback (most recent call last)\n",
        " in ()\n",
        "      1 # this line will generate an error\n",
        "----> 2 strings[3]\n",
        "\n",
        "IndexError: list index out of range"
      ],
      "metadata": {
        "id": "Iw8TfEMdOTeA"
      }
    },
    {
      "cell_type": "code",
      "source": [
        "strings[2]"
      ],
      "metadata": {
        "colab": {
          "base_uri": "https://localhost:8080/",
          "height": 36
        },
        "id": "zJhpeAdROMzf",
        "outputId": "d102e369-4674-49a7-ec4b-7923121e1edd"
      },
      "execution_count": null,
      "outputs": [
        {
          "output_type": "execute_result",
          "data": {
            "text/plain": [
              "'Peach'"
            ],
            "application/vnd.google.colaboratory.intrinsic+json": {
              "type": "string"
            }
          },
          "metadata": {},
          "execution_count": 101
        }
      ]
    },
    {
      "cell_type": "markdown",
      "source": [
        "The elements of a list can be extracted using the relative index between `[]` as just seen; **the elements of a list can also be changed** by overwriting that element with a new value:"
      ],
      "metadata": {
        "id": "5vrt_WZUOo7j"
      }
    },
    {
      "cell_type": "code",
      "source": [
        "strings[2] = \"Watermelon\"\n",
        "print(strings)"
      ],
      "metadata": {
        "colab": {
          "base_uri": "https://localhost:8080/"
        },
        "id": "ZLEfd2OnOr8N",
        "outputId": "1ae5ce36-6850-4927-d586-393723ca7006"
      },
      "execution_count": null,
      "outputs": [
        {
          "output_type": "stream",
          "name": "stdout",
          "text": [
            "['Orange', 'Lemon', 'Watermelon']\n"
          ]
        }
      ]
    },
    {
      "cell_type": "markdown",
      "source": [
        "The order of the elements of the list has not changed and in fact, as seen above, the lists are ordered; nevertheless, there are some [methods](https://www.w3schools.com/python/python_lists_methods.asp) that can be exploited to change the internal order of a list, such as `sort()` and `reverse ()`."
      ],
      "metadata": {
        "id": "W6-ZAFHzPAMw"
      }
    },
    {
      "cell_type": "code",
      "source": [
        "strings.sort()\n",
        "print(strings)"
      ],
      "metadata": {
        "colab": {
          "base_uri": "https://localhost:8080/"
        },
        "id": "kiV3Dd64PBaw",
        "outputId": "6b13c38e-e765-4182-efef-358c01c495f5"
      },
      "execution_count": null,
      "outputs": [
        {
          "output_type": "stream",
          "name": "stdout",
          "text": [
            "['Lemon', 'Orange', 'Watermelon']\n"
          ]
        }
      ]
    },
    {
      "cell_type": "code",
      "source": [
        "strings.reverse()\n",
        "print(strings)"
      ],
      "metadata": {
        "id": "e4T3eaIjPOOf"
      },
      "execution_count": null,
      "outputs": []
    },
    {
      "cell_type": "markdown",
      "source": [
        "## Dictionaries"
      ],
      "metadata": {
        "id": "SuCrhJ9TQ2Wr"
      }
    },
    {
      "cell_type": "markdown",
      "source": [
        "In Python, dictionaries are used to put `key:value` pairs into them which are:\n",
        "- you order\n",
        "- editable\n",
        "- do not allow the presence of duplicates\n",
        "\n",
        "A nice analogy is the good old **address book**, where the `Key` is the person's name and the `value` is their address.\n",
        "\n",
        "You can **create a new dictionary** using curly braces `{}`:"
      ],
      "metadata": {
        "id": "ilWwo5SvQ7hZ"
      }
    },
    {
      "cell_type": "code",
      "source": [
        "# this dictionary uses integers as keys\n",
        "numbers = {\n",
        "     1:\"one\",\n",
        "     2:\"two\",\n",
        "     3:\"three\"\n",
        "}\n",
        "print(numbers)\n",
        "type(numbers)"
      ],
      "metadata": {
        "colab": {
          "base_uri": "https://localhost:8080/"
        },
        "id": "V-QagiT4Q_s5",
        "outputId": "58bfca25-6962-4548-edcc-10cffdaecb97"
      },
      "execution_count": 117,
      "outputs": [
        {
          "output_type": "stream",
          "name": "stdout",
          "text": [
            "{1: 'one', 2: 'two', 3: 'three'}\n"
          ]
        },
        {
          "output_type": "execute_result",
          "data": {
            "text/plain": [
              "dict"
            ]
          },
          "metadata": {},
          "execution_count": 117
        }
      ]
    },
    {
      "cell_type": "markdown",
      "source": [
        "To access a specific *value* of the dictionary, just index it, referring to the corresponding *key*, using the `[]` operator:"
      ],
      "metadata": {
        "id": "l3dqCpJER4ak"
      }
    },
    {
      "cell_type": "code",
      "source": [
        "numbers[2]"
      ],
      "metadata": {
        "colab": {
          "base_uri": "https://localhost:8080/",
          "height": 36
        },
        "id": "QY5ktScyR8Q7",
        "outputId": "7897cb36-9c5f-4db8-8a35-95a5f373cf03"
      },
      "execution_count": 118,
      "outputs": [
        {
          "output_type": "execute_result",
          "data": {
            "text/plain": [
              "'two'"
            ],
            "application/vnd.google.colaboratory.intrinsic+json": {
              "type": "string"
            }
          },
          "metadata": {},
          "execution_count": 118
        }
      ]
    },
    {
      "cell_type": "code",
      "source": [
        "# this dictionary uses strings as keys\n",
        "shopList = {\n",
        "     \"Lemon\":\"3\",\n",
        "     \"Peach\":\"1 kg\",\n",
        "     \"Tomatoes\":\"2 kg\"\n",
        "}\n",
        "print(shopList)"
      ],
      "metadata": {
        "colab": {
          "base_uri": "https://localhost:8080/"
        },
        "id": "vuR_Ydb-SJRH",
        "outputId": "958ebe75-c7b7-45b1-b668-470b4532435d"
      },
      "execution_count": 120,
      "outputs": [
        {
          "output_type": "stream",
          "name": "stdout",
          "text": [
            "{'Lemon': '3', 'Peach': '1 kg', 'Tomatoes': '2 kg'}\n"
          ]
        }
      ]
    },
    {
      "cell_type": "code",
      "source": [
        "shopList[\"Tomatoes\"]"
      ],
      "metadata": {
        "colab": {
          "base_uri": "https://localhost:8080/",
          "height": 36
        },
        "id": "7gmcbxeLSmNA",
        "outputId": "55c4a34e-1eb2-41e1-8c3c-0e793cbe5b3f"
      },
      "execution_count": 123,
      "outputs": [
        {
          "output_type": "execute_result",
          "data": {
            "text/plain": [
              "'2 kg'"
            ],
            "application/vnd.google.colaboratory.intrinsic+json": {
              "type": "string"
            }
          },
          "metadata": {},
          "execution_count": 123
        }
      ]
    },
    {
      "cell_type": "markdown",
      "source": [
        "## Tuple"
      ],
      "metadata": {
        "id": "gmUMhgy3TJVI"
      }
    },
    {
      "cell_type": "markdown",
      "source": [
        "Tuples in Python are used to store elements of different types in a single array that:\n",
        "- be tidy\n",
        "- is non-editable\n",
        "- allow duplicate values\n",
        "\n",
        "They are very **similar to lists**, except that they **are immutable**. This means that the elements within it **cannot** be added or removed easily: all the elements of a tuple must be defined when creating the tuple itself.\n",
        "\n",
        "You can **create a new tuple** using round brackets `()`"
      ],
      "metadata": {
        "id": "ixG59GT9TMrl"
      }
    },
    {
      "cell_type": "code",
      "source": [
        "tupla = (10, 20, \"Bristol\", \"Coimbra\", \"Heidelberg\", 60, 70)\n",
        "print(tupla)"
      ],
      "metadata": {
        "colab": {
          "base_uri": "https://localhost:8080/"
        },
        "id": "3r-m2PsKTR3r",
        "outputId": "8a382803-8d2a-4710-baad-bb6e3fd1e028"
      },
      "execution_count": 126,
      "outputs": [
        {
          "output_type": "stream",
          "name": "stdout",
          "text": [
            "(10, 20, 'Bristol', 'Coimbra', 'Heidelberg', 60, 70)\n"
          ]
        }
      ]
    },
    {
      "cell_type": "markdown",
      "source": [
        "We can check the object type and length of a tuple with the usual functions:"
      ],
      "metadata": {
        "id": "1qbmF7m1T_Js"
      }
    },
    {
      "cell_type": "code",
      "source": [
        "print(type(tupla))\n",
        "print(len(tupla))"
      ],
      "metadata": {
        "colab": {
          "base_uri": "https://localhost:8080/"
        },
        "id": "rmdz5bRuUCyM",
        "outputId": "fb113c26-d6dc-40b1-97bc-b197f2cd1d24"
      },
      "execution_count": 125,
      "outputs": [
        {
          "output_type": "stream",
          "name": "stdout",
          "text": [
            "<class 'tuple'>\n",
            "7\n"
          ]
        }
      ]
    },
    {
      "cell_type": "markdown",
      "source": [
        "Tuples are also indexed, so its elements can be accessed using the usual `[]` operator:"
      ],
      "metadata": {
        "id": "aI2FQrYsUi10"
      }
    },
    {
      "cell_type": "code",
      "source": [
        "tupla[3]"
      ],
      "metadata": {
        "colab": {
          "base_uri": "https://localhost:8080/",
          "height": 36
        },
        "id": "3BWfx0yrUqQt",
        "outputId": "802ae538-729a-49b3-b4f2-f2adca3eb90f"
      },
      "execution_count": 127,
      "outputs": [
        {
          "output_type": "execute_result",
          "data": {
            "text/plain": [
              "'Coimbra'"
            ],
            "application/vnd.google.colaboratory.intrinsic+json": {
              "type": "string"
            }
          },
          "metadata": {},
          "execution_count": 127
        }
      ]
    },
    {
      "cell_type": "markdown",
      "source": [
        "But, unlike lists, tuples are immutable, so its elements cannot be overridden:"
      ],
      "metadata": {
        "id": "UQ76tDSVUtbP"
      }
    },
    {
      "cell_type": "code",
      "source": [
        "# this line will generate an error\n",
        "tuple[3] = \"Cadiz\""
      ],
      "metadata": {
        "id": "AxqAccejUyYU"
      },
      "execution_count": null,
      "outputs": []
    },
    {
      "cell_type": "markdown",
      "source": [
        "---------------------------------------------------------------------------\n",
        "TypeError                                 Traceback (most recent call last)\n",
        " in ()\n",
        "      1 # this line will generate an error\n",
        "----> 2 tupla[3] = \"Cadiz\"\n",
        "\n",
        "TypeError: 'tuple' object does not support item assignment"
      ],
      "metadata": {
        "id": "jpuOouYXU1Qz"
      }
    },
    {
      "cell_type": "markdown",
      "source": [
        "## Set"
      ],
      "metadata": {
        "id": "sf70v6ZpWI-H"
      }
    },
    {
      "cell_type": "markdown",
      "source": [
        "Sets in Python are used to store elements of different types in a single array that:\n",
        "- it is not ordered\n",
        "- cannot be edited\n",
        "- is not indexed\n",
        "- does not allow duplicate values\n",
        "\n",
        "It can be helpful to think of sets as sets of unique (not duplicate) elements. A common use of sets is to **check if a value already exists in a set of values** or even to merge or intersect two sets of values with each other; you can insert or remove one or more elements from a set.\n",
        "\n",
        "It is possible to **create a new set** using the curly braces `{}` but, to create an empty set it is necessary to use the `set()` function since, using the empty curly braces `{}` we would create a empty dictionary:"
      ],
      "metadata": {
        "id": "NWZtIxF1WLkI"
      }
    },
    {
      "cell_type": "code",
      "source": [
        "shop = {\"Honey\", \"Yogurt\", \"Bread\", \"Tomatoes\", \"Lemons\", \"Cereals\"}\n",
        "print(shop)"
      ],
      "metadata": {
        "colab": {
          "base_uri": "https://localhost:8080/"
        },
        "id": "0kBt6BO0WO3i",
        "outputId": "59d405d9-b88e-4314-ba8f-d18cb5cf29d7"
      },
      "execution_count": 128,
      "outputs": [
        {
          "output_type": "stream",
          "name": "stdout",
          "text": [
            "{'Lemons', 'Honey', 'Bread', 'Tomatoes', 'Cereals', 'Yogurt'}\n"
          ]
        }
      ]
    },
    {
      "cell_type": "markdown",
      "source": [
        "Sets are **NOT** indexed and are immutable, so we cannot access its elements or change them using the usual `[]` operator:"
      ],
      "metadata": {
        "id": "8dY1M6NOW9Oy"
      }
    },
    {
      "cell_type": "code",
      "source": [
        "# this line will generate an error\n",
        "shop[0]"
      ],
      "metadata": {
        "id": "L6_8f9nRXCXw"
      },
      "execution_count": null,
      "outputs": []
    },
    {
      "cell_type": "markdown",
      "source": [
        "---------------------------------------------------------------------------\n",
        "TypeError                                 Traceback (most recent call last)\n",
        " in ()\n",
        "      1 # this line will generate an error\n",
        "----> 2 shop[0]\n",
        "\n",
        "TypeError: 'set' object is not subscriptable"
      ],
      "metadata": {
        "id": "HjC0hcOQXH1G"
      }
    },
    {
      "cell_type": "code",
      "source": [
        "# this line will generate an error\n",
        "shop[0] = \"Butter\""
      ],
      "metadata": {
        "id": "7cIvud4XXOWA"
      },
      "execution_count": null,
      "outputs": []
    },
    {
      "cell_type": "markdown",
      "source": [
        "---------------------------------------------------------------------------\n",
        "TypeError                                 Traceback (most recent call last)\n",
        " in ()\n",
        "      1 # this line will generate an error\n",
        "----> 2 shop[0] = \"Butter\"\n",
        "\n",
        "TypeError: 'set' object does not support item assignment"
      ],
      "metadata": {
        "id": "TdsxCaELXTmJ"
      }
    },
    {
      "cell_type": "markdown",
      "source": [
        "We can check the object type and length of a set with the usual functions:"
      ],
      "metadata": {
        "id": "jLT32TPFXbdv"
      }
    },
    {
      "cell_type": "code",
      "source": [
        "print(type(shop))\n",
        "print(len(shop))"
      ],
      "metadata": {
        "colab": {
          "base_uri": "https://localhost:8080/"
        },
        "id": "LeLnhYohXhdT",
        "outputId": "1113e102-eab1-4dfa-b1af-8256de622098"
      },
      "execution_count": 129,
      "outputs": [
        {
          "output_type": "stream",
          "name": "stdout",
          "text": [
            "<class 'set'>\n",
            "6\n"
          ]
        }
      ]
    },
    {
      "cell_type": "markdown",
      "source": [
        "Sets cannot be modified, but items can be added or removed using the appropriate [methods](https://www.w3schools.com/python/python_sets_methods.asp) such as `add()` and `remove()` :"
      ],
      "metadata": {
        "id": "xAkIkwksXsHr"
      }
    },
    {
      "cell_type": "code",
      "source": [
        "shop.add(\"Onion\")\n",
        "print(shop)"
      ],
      "metadata": {
        "colab": {
          "base_uri": "https://localhost:8080/"
        },
        "id": "fXPNsv5dXwIe",
        "outputId": "13a5d10e-465d-4739-f37c-19d47b81e109"
      },
      "execution_count": 130,
      "outputs": [
        {
          "output_type": "stream",
          "name": "stdout",
          "text": [
            "{'Lemons', 'Honey', 'Bread', 'Tomatoes', 'Cereals', 'Onion', 'Yogurt'}\n"
          ]
        }
      ]
    },
    {
      "cell_type": "code",
      "source": [
        "shop.remove(\"Onion\")\n",
        "print(shop)"
      ],
      "metadata": {
        "colab": {
          "base_uri": "https://localhost:8080/"
        },
        "id": "hOof0xwoYAk_",
        "outputId": "c580f534-243e-4fc9-9935-eaab20795340"
      },
      "execution_count": 131,
      "outputs": [
        {
          "output_type": "stream",
          "name": "stdout",
          "text": [
            "{'Lemons', 'Honey', 'Bread', 'Tomatoes', 'Cereals', 'Yogurt'}\n"
          ]
        }
      ]
    },
    {
      "cell_type": "markdown",
      "source": [
        "Let's recap what we've seen so far:"
      ],
      "metadata": {
        "id": "Kc4juNHQYHgH"
      }
    },
    {
      "cell_type": "markdown",
      "source": [
        "![](https://drive.google.com/uc?export=view&id=1hBHGdKsNHFybyLtCR3VznujRJjohrnH9)\n"
      ],
      "metadata": {
        "id": "yP4MdPWgYK1m"
      }
    },
    {
      "cell_type": "markdown",
      "source": [
        "# Control structures:"
      ],
      "metadata": {
        "id": "wECjSX1vYkry"
      }
    },
    {
      "cell_type": "markdown",
      "source": [
        "Control structures are an essential tool to have in your portfolio. They allow the programmer to interact with program objects and variables and channel the flow of operations down one path rather than another based on pre-established conditions.\n",
        "\n",
        "The basic control structures are:\n",
        "- **sequential**: this is the default situation we have already encountered, a series of lines of code that follow one another in a program;\n",
        "- **conditional**: they represent *selection* criteria, they are used to execute one or more lines of code **if** a certain condition is satisfied;\n",
        "- **cyclic**: add an *iterative* element, the purpose of which is to repeat a certain sequence of actions **for (for)** a certain number of times or **as long as (while)** once certain condition is satisfied."
      ],
      "metadata": {
        "id": "M--NxEJRYp3h"
      }
    },
    {
      "cell_type": "markdown",
      "source": [
        "<img src=\"https://drive.google.com/uc?export=view&id=1HFIxzouzbDuD_0vq1lqaJIbXLiWLQT-J\" width=\"700\">"
      ],
      "metadata": {
        "id": "X1hr9OPJYxLK"
      }
    },
    {
      "cell_type": "markdown",
      "source": [
        "## Conditionals"
      ],
      "metadata": {
        "id": "FlDCWfl8Y9Fj"
      }
    },
    {
      "cell_type": "markdown",
      "source": [
        "Conditional structures allow you to control the flow of code based on **boolean conditions** (true - false) that are specified by the programmer.\n",
        "\n",
        "To initialize a conditional structure we will use the `if` expression; below we see an example in [pseudocode](https://it.wikipedia.org/wiki/Pseudocode):\n",
        "\n",
        "```\n",
        "if <boolean condition>:\n",
        "     <line(s) of code>\n",
        "```\n",
        "\n",
        "Let's see a real example using Python syntax:"
      ],
      "metadata": {
        "id": "bn_C4c1RZALe"
      }
    },
    {
      "cell_type": "code",
      "source": [
        "# beware of indentation!\n",
        "if 10 > 1:\n",
        "     print(\"Correct!\")"
      ],
      "metadata": {
        "colab": {
          "base_uri": "https://localhost:8080/"
        },
        "id": "8jtBOndDZFbu",
        "outputId": "27de5dc8-b858-4674-df9a-dd2ab628a1d7"
      },
      "execution_count": 132,
      "outputs": [
        {
          "output_type": "stream",
          "name": "stdout",
          "text": [
            "Correct!\n"
          ]
        }
      ]
    },
    {
      "cell_type": "markdown",
      "source": [
        "Things to remember about the **if component**:\n",
        "\n",
        "- always starts with the word `if`\n",
        "- the word `if` is always followed by the boolean expression to be evaluated\n",
        "- always put `:` at the end of the boolean expression\n",
        "- the code that must be executed in case the boolean expression is true (the body of the `if` structure) must be **indented**\n",
        "\n",
        "Let's see another example where we first define a variable `a` and then we compare it with another value and, if a certain condition is satisfied, we print an answer on the screen:"
      ],
      "metadata": {
        "id": "0b491x1MZlmX"
      }
    },
    {
      "cell_type": "code",
      "source": [
        "a = 10\n",
        "if a < 20:\n",
        "     print(\"a is less than 20\")"
      ],
      "metadata": {
        "colab": {
          "base_uri": "https://localhost:8080/"
        },
        "id": "FWoA9Ap7ZonP",
        "outputId": "80dc3e0b-45e0-442c-a223-e00c44f4fac0"
      },
      "execution_count": 133,
      "outputs": [
        {
          "output_type": "stream",
          "name": "stdout",
          "text": [
            "a is less than 20\n"
          ]
        }
      ]
    },
    {
      "cell_type": "markdown",
      "source": [
        "And if `a` is greater than 20, what happens?"
      ],
      "metadata": {
        "id": "aNIlfygmZ_BB"
      }
    },
    {
      "cell_type": "code",
      "source": [
        "a = 30\n",
        "if a < 20:\n",
        "    print(\"a is less than 20\")"
      ],
      "metadata": {
        "id": "zA6ffAweaDdz"
      },
      "execution_count": 135,
      "outputs": []
    },
    {
      "cell_type": "markdown",
      "source": [
        "In this case, nothing happens because we didn't specify an **alternative (else)** path. The `else` expression allows you to tell the program what to do if the boolean condition is not satisfied (that is, if it is false):"
      ],
      "metadata": {
        "id": "CT_ko8tBaKm_"
      }
    },
    {
      "cell_type": "code",
      "source": [
        "if a < 20:\n",
        "    print(\"a is less than 20\")\n",
        "else:\n",
        "    print(\"a is greater than 20\")"
      ],
      "metadata": {
        "colab": {
          "base_uri": "https://localhost:8080/"
        },
        "id": "mznKQ6VpaOSn",
        "outputId": "cfc20dcc-4215-44d2-80b5-8f53cb271ef3"
      },
      "execution_count": 136,
      "outputs": [
        {
          "output_type": "stream",
          "name": "stdout",
          "text": [
            "a is greater than 20\n"
          ]
        }
      ]
    },
    {
      "cell_type": "markdown",
      "source": [
        "🐸 Things to remember about the **else component**\n",
        "\n",
        "- the word `else` must be at the same level (indent) as the word `if`\n",
        "- after the word `else` there is no need to specify any boolean conditions\n",
        "- the `:` must always follow the word `else`\n",
        "- the code to execute in case the boolean expression is not respected must be **indented**"
      ],
      "metadata": {
        "id": "YD0w1krJaeDC"
      }
    },
    {
      "cell_type": "markdown",
      "source": [
        "It is also possible to specify more than one alternative; for example, we could specify different outputs depending on whether `a` is:\n",
        "\n",
        "- less than 10\n",
        "- between 10 and 19 (included)\n",
        "- between 20 and 29 (included)\n",
        "- greater than or equal to 30\n",
        "\n",
        "To do this, we introduce the `elif` expression, which allows us to specify multiple conditions:"
      ],
      "metadata": {
        "id": "IIEPKxYjafYz"
      }
    },
    {
      "cell_type": "code",
      "source": [
        "a = 15\n",
        "if a < 10:\n",
        "    print(\"a is less then 10\")\n",
        "elif 10 <= a <= 19:\n",
        "    print(\"a is between 10 and 19 (included)\")\n",
        "elif 20 <= a <= 29:\n",
        "    print(\"a is between 20 and 29 (included)\")\n",
        "else:\n",
        "    print(\"a is greater than or equal then 30\")"
      ],
      "metadata": {
        "colab": {
          "base_uri": "https://localhost:8080/"
        },
        "id": "fHRWU58YahSU",
        "outputId": "82441353-6763-425a-eec7-ab481acfc8d8"
      },
      "execution_count": 137,
      "outputs": [
        {
          "output_type": "stream",
          "name": "stdout",
          "text": [
            "a is between 10 and 19 (included)\n"
          ]
        }
      ]
    },
    {
      "cell_type": "markdown",
      "source": [
        "🐸 Things to remember about the **elif component**:\n",
        "- the word `elif` must be at the same indentation level as the word `if`\n",
        "- the word `elif` is always followed by the boolean expression to be evaluated\n",
        "- always put `:` at the end of the boolean expression\n",
        "- the code that must be executed in case the boolean expression is true must be **indented**\n",
        "\n",
        "With these three new tools, `if`, `elif` and `else` we can build conditional flows of great complexity on the basis of logic predetermined by the programmer."
      ],
      "metadata": {
        "id": "uQuKvLJ8bTU_"
      }
    },
    {
      "cell_type": "markdown",
      "source": [
        "> 🤓 Check out [this article](https://realpython.com/python-conditional-statements/) to learn more about conditional structures."
      ],
      "metadata": {
        "id": "8gi6X_UGbZXL"
      }
    },
    {
      "cell_type": "markdown",
      "source": [
        "## Loops"
      ],
      "metadata": {
        "id": "DDFf2CW2cq6z"
      }
    },
    {
      "cell_type": "markdown",
      "source": [
        "Loops, very common structures in all programming languages, allow you to repeat a sequence of lines of code **for (for)** a certain number of times or **as long as (while)** a certain condition is satisfied .\n",
        "\n",
        "As will be clear from the previous lines, there are two main categories of iterative structures: for loops and while loops."
      ],
      "metadata": {
        "id": "Kl4mnoCzcxJs"
      }
    },
    {
      "cell_type": "markdown",
      "source": [
        "**for loop**\n",
        "\n",
        "The `for` loop is used to iterate over a sequence of items (such as a list, dictionary, string or even a range of numbers) where the number of iterations done (and remaining to be done) is controlled by a counter ( or index); contextually, a piece of code is executed at each iteration.\n",
        "\n",
        "To initialize a for loop we will use the `for` expression; Below we see an example in pseudocode:\n",
        "\n",
        "```\n",
        "for <count> in <sequence>:\n",
        "     <line(s) of code>\n",
        "```\n",
        "\n",
        "Let's see an example in Python:"
      ],
      "metadata": {
        "id": "MsYTbs68c1Dz"
      }
    },
    {
      "cell_type": "code",
      "source": [
        "# beware of indentation!\n",
        "for letter in \"word\":\n",
        "     print(letter)"
      ],
      "metadata": {
        "colab": {
          "base_uri": "https://localhost:8080/"
        },
        "id": "cD5YjsH0c8Zv",
        "outputId": "17ea7c84-32f1-4640-c51e-929287a9647b"
      },
      "execution_count": 138,
      "outputs": [
        {
          "output_type": "stream",
          "name": "stdout",
          "text": [
            "w\n",
            "o\n",
            "r\n",
            "d\n"
          ]
        }
      ]
    },
    {
      "cell_type": "markdown",
      "source": [
        "🐸 Things to remember about the **for loop**:\n",
        "\n",
        "- always starts with the `for` expression\n",
        "- a counter must always be specified (in this case it was called `letter`, but it can be assigned any other name)\n",
        "- it is necessary to have a sequence on which to iterate the counter (in this example the sequence is a string, therefore a sequence of letters, but lists, tuples, and sets are also excellent candidates)\n",
        "- counter and sequence are always followed by a `:`\n",
        "- the line or lines of code that must be executed in each iteration must be **indented**"
      ],
      "metadata": {
        "id": "6lGa97X7egi7"
      }
    },
    {
      "cell_type": "markdown",
      "source": [
        "Behind the scenes the `letter` counter iterates over the elements of the string \"word\" (ie each letter) and each time it encounters a new element it executes the code (ie prints the letter to the screen).\n",
        "\n",
        "As mentioned above, the `counter` is just an alias, so we can call it whatever we want, it can be any word or it can even consist of just one letter:"
      ],
      "metadata": {
        "id": "nNOyIlqfek9P"
      }
    },
    {
      "cell_type": "code",
      "source": [
        "for s in \"string\":\n",
        "    print(s)"
      ],
      "metadata": {
        "colab": {
          "base_uri": "https://localhost:8080/"
        },
        "id": "xiC11J3IesAn",
        "outputId": "b5b7d11a-2bb6-4894-82d9-aecb268b0680"
      },
      "execution_count": 139,
      "outputs": [
        {
          "output_type": "stream",
          "name": "stdout",
          "text": [
            "s\n",
            "t\n",
            "r\n",
            "i\n",
            "n\n",
            "g\n"
          ]
        }
      ]
    },
    {
      "cell_type": "markdown",
      "source": [
        "In molti contesti è necessario ripetere un'operazione per un certo numero di volte; in questi casi è opportuno usare la funzione `range()`:"
      ],
      "metadata": {
        "id": "dWVwHPene2bi"
      }
    },
    {
      "cell_type": "code",
      "source": [
        "for i in range(1, 4):\n",
        "    print(\"Beetlejuice!\")"
      ],
      "metadata": {
        "colab": {
          "base_uri": "https://localhost:8080/"
        },
        "id": "QpqaDscke4Qb",
        "outputId": "6372c4da-28d0-4c3d-e935-831fea466e3f"
      },
      "execution_count": 140,
      "outputs": [
        {
          "output_type": "stream",
          "name": "stdout",
          "text": [
            "Beetlejuice!\n",
            "Beetlejuice!\n",
            "Beetlejuice!\n"
          ]
        }
      ]
    },
    {
      "cell_type": "markdown",
      "source": [
        "The `range()` function takes three parameters as input:\n",
        "\n",
        "```\n",
        "range(start, stop, step)\n",
        "```\n",
        "\n",
        "Where:\n",
        "- `start` is the start (inclusive) of the numeric range (optional parameter, default = 0)\n",
        "- `stop` is the end (not inclusive) of the numeric range\n",
        "- `step` indicates the step size (optional, default = 1).\n",
        "\n",
        "As mentioned above, the `stop` end point is not included in the sequence:"
      ],
      "metadata": {
        "id": "NhvAF9fgfORW"
      }
    },
    {
      "cell_type": "code",
      "source": [
        "for num in range(6):\n",
        "    print(num)"
      ],
      "metadata": {
        "colab": {
          "base_uri": "https://localhost:8080/"
        },
        "id": "Xj73epHNfrkU",
        "outputId": "9cf99a95-dd83-490a-e995-e800d58eb403"
      },
      "execution_count": 141,
      "outputs": [
        {
          "output_type": "stream",
          "name": "stdout",
          "text": [
            "0\n",
            "1\n",
            "2\n",
            "3\n",
            "4\n",
            "5\n"
          ]
        }
      ]
    },
    {
      "cell_type": "markdown",
      "source": [
        "As already announced, any iterable object can be included as an `iterator` in a for loop. Let's see an example with a list:"
      ],
      "metadata": {
        "id": "1Jmu34Dyfzr8"
      }
    },
    {
      "cell_type": "code",
      "source": [
        "list = [1,2,3,4,5]\n",
        "print(list)"
      ],
      "metadata": {
        "colab": {
          "base_uri": "https://localhost:8080/"
        },
        "id": "_8lg7lVbf2Ez",
        "outputId": "1af92faf-02c6-4d49-92e9-89493d434bdf"
      },
      "execution_count": 142,
      "outputs": [
        {
          "output_type": "stream",
          "name": "stdout",
          "text": [
            "[1, 2, 3, 4, 5]\n"
          ]
        }
      ]
    },
    {
      "cell_type": "code",
      "source": [
        "for el in list:\n",
        "    print(el, el**2)"
      ],
      "metadata": {
        "colab": {
          "base_uri": "https://localhost:8080/"
        },
        "id": "pdpJwv6yf7Br",
        "outputId": "779651e6-6002-4097-8a0b-441e266f0392"
      },
      "execution_count": 144,
      "outputs": [
        {
          "output_type": "stream",
          "name": "stdout",
          "text": [
            "1 1\n",
            "2 4\n",
            "3 9\n",
            "4 16\n",
            "5 25\n"
          ]
        }
      ]
    },
    {
      "cell_type": "markdown",
      "source": [
        "**Ciclo While**"
      ],
      "metadata": {
        "id": "aL5a0XePgiSv"
      }
    },
    {
      "cell_type": "markdown",
      "source": [
        "A while loop allows you to execute one or more lines of code as long as a certain boolean condition is true; usually a counter is used which, at the end of each iteration, is increased (or decreased) on the basis of a certain logic decided by the programmer. Once the boolean condition stops being tested, the program exits the loop and stops.\n",
        "\n",
        "To initialize a while loop we will use the expression `while`; Below we see an example in pseudocode:\n",
        "\n",
        "```\n",
        "while <boolean condition>:\n",
        "     <line(s) of code>\n",
        "```\n",
        "\n",
        "Let's see an example with Python syntax:"
      ],
      "metadata": {
        "id": "Miie0rpjgpeL"
      }
    },
    {
      "cell_type": "code",
      "source": [
        "a = 1\n",
        "while a < 6:\n",
        "    print(a)\n",
        "    a = a + 1"
      ],
      "metadata": {
        "colab": {
          "base_uri": "https://localhost:8080/"
        },
        "id": "gOtUl8J8gs-b",
        "outputId": "478df5e2-a5bc-4489-c6db-227eb0ed05d7"
      },
      "execution_count": 145,
      "outputs": [
        {
          "output_type": "stream",
          "name": "stdout",
          "text": [
            "1\n",
            "2\n",
            "3\n",
            "4\n",
            "5\n"
          ]
        }
      ]
    },
    {
      "cell_type": "markdown",
      "source": [
        "It is also possible to specify an `else` condition, in case we want the program to do something (like print a message) as soon as the boolean condition stops being matched:"
      ],
      "metadata": {
        "id": "w0NhHfCHg6iN"
      }
    },
    {
      "cell_type": "code",
      "source": [
        "a = 1\n",
        "while a < 6:\n",
        "    print(a)\n",
        "    a = a + 1\n",
        "else:\n",
        "    print('stop:', a, \"in NOT less then 6\")"
      ],
      "metadata": {
        "colab": {
          "base_uri": "https://localhost:8080/"
        },
        "id": "xlmU6L8Bg8z_",
        "outputId": "56972388-82d1-47d2-c0bd-1e00ed23db87"
      },
      "execution_count": 146,
      "outputs": [
        {
          "output_type": "stream",
          "name": "stdout",
          "text": [
            "1\n",
            "2\n",
            "3\n",
            "4\n",
            "5\n",
            "stop: 6 in NOT less then 6\n"
          ]
        }
      ]
    },
    {
      "cell_type": "markdown",
      "source": [
        "> ❗**Warning**: if the boolean condition is always verified (eg: if we had written: a > 0 in the previous example), the program will never exit the loop and will go on forever (or until the program will not be forced to shut down)."
      ],
      "metadata": {
        "id": "-0kPrK-9hRo_"
      }
    },
    {
      "cell_type": "markdown",
      "source": [
        "In the body of both `for` and `while` loops, it is possible to insert conditional structures (and vice versa); There are several reasons why you might want to do this:\n",
        "- to **stop the loop** preemptively, you can combine an `if` with a `break`\n",
        "- to **skip the current iteration**, you can combine an `if` with a `continue`"
      ],
      "metadata": {
        "id": "GywqgJxPhX7j"
      }
    },
    {
      "cell_type": "code",
      "source": [
        "# break\n",
        "a = 1\n",
        "while a < 6:\n",
        "     print(a)\n",
        "     a = a + 1\n",
        "     if a == 3:\n",
        "         break"
      ],
      "metadata": {
        "colab": {
          "base_uri": "https://localhost:8080/"
        },
        "id": "2epue09Shc3C",
        "outputId": "1d730d19-b386-4a17-f323-f39698c6bb90"
      },
      "execution_count": 147,
      "outputs": [
        {
          "output_type": "stream",
          "name": "stdout",
          "text": [
            "1\n",
            "2\n"
          ]
        }
      ]
    },
    {
      "cell_type": "code",
      "source": [
        "# continue\n",
        "a = 0\n",
        "while a < 6:\n",
        "    a = a + 1\n",
        "    if a == 3:\n",
        "        continue\n",
        "    print(a)"
      ],
      "metadata": {
        "colab": {
          "base_uri": "https://localhost:8080/"
        },
        "id": "aAUFcnlqhw0j",
        "outputId": "d4a9a30f-7e7a-4ca5-8132-92dfa29b2e4d"
      },
      "execution_count": 148,
      "outputs": [
        {
          "output_type": "stream",
          "name": "stdout",
          "text": [
            "1\n",
            "2\n",
            "4\n",
            "5\n",
            "6\n"
          ]
        }
      ]
    },
    {
      "cell_type": "markdown",
      "source": [
        "> 🤓 Check out these two articles to learn more about [for loops](https://realpython.com/python-for-loop/) and [while loops](https://realpython.com/python-while-loop/)"
      ],
      "metadata": {
        "id": "BixhcXDyh87L"
      }
    }
  ]
}