{
  "nbformat": 4,
  "nbformat_minor": 0,
  "metadata": {
    "colab": {
      "provenance": [],
      "authorship_tag": "ABX9TyOidfFoGrpV3rKnNwJzk4pU",
      "include_colab_link": true
    },
    "kernelspec": {
      "name": "python3",
      "display_name": "Python 3"
    },
    "language_info": {
      "name": "python"
    }
  },
  "cells": [
    {
      "cell_type": "markdown",
      "metadata": {
        "id": "view-in-github",
        "colab_type": "text"
      },
      "source": [
        "<a href=\"https://colab.research.google.com/github/JungleKiosk/py_Scratch/blob/main/pyScratch.ipynb\" target=\"_parent\"><img src=\"https://colab.research.google.com/assets/colab-badge.svg\" alt=\"Open In Colab\"/></a>"
      ]
    },
    {
      "cell_type": "code",
      "execution_count": null,
      "metadata": {
        "id": "TLbgX2jTDQ0s"
      },
      "outputs": [],
      "source": []
    },
    {
      "cell_type": "markdown",
      "source": [
        "# **Introduction to Python 🚀✨**\n",
        "\n",
        "> ## Python:\n",
        "\n",
        "1. Strings\n",
        "2.Numbers\n",
        "3. Arithmetic Operators\n",
        "4. Boolean operators\n",
        "5. Variables and assignments\n",
        "6. Item indexing\n",
        "7. input() function\n",
        "\n",
        "> ## Data structures:\n",
        "\n",
        "8. Lists\n",
        "9. Dictionaries\n",
        "10. tuples\n",
        "11. Sep\n",
        "\n",
        "> ## Control structures:\n",
        "\n",
        "12. Conditionals\n",
        "13.Cycles\n",
        "\n",
        "> ## Functions\n",
        "\n",
        "> ## Libraries"
      ],
      "metadata": {
        "id": "FnM1ciRQnna0"
      }
    },
    {
      "cell_type": "markdown",
      "source": [
        "## Strings\n",
        "Strings are always enclosed in quotes: single ('string') or double (\"string\")"
      ],
      "metadata": {
        "id": "fLVwTzFPsGof"
      }
    },
    {
      "cell_type": "code",
      "source": [
        "'Hello World!'\n",
        "\"Hello World!\""
      ],
      "metadata": {
        "colab": {
          "base_uri": "https://localhost:8080/",
          "height": 36
        },
        "id": "nhr1MYJosi_A",
        "outputId": "9e7b5281-dbda-402c-ec6a-57bc338817e2"
      },
      "execution_count": 2,
      "outputs": [
        {
          "output_type": "execute_result",
          "data": {
            "text/plain": [
              "'Hello World!'"
            ],
            "application/vnd.google.colaboratory.intrinsic+json": {
              "type": "string"
            }
          },
          "metadata": {},
          "execution_count": 2
        }
      ]
    },
    {
      "cell_type": "markdown",
      "source": [
        "With the asterisk symbol (#) you create a comment. Comments are essential for remembering in the future what the processed code is for and how it is contextualized in the project."
      ],
      "metadata": {
        "id": "8LGs5za9the1"
      }
    },
    {
      "cell_type": "code",
      "source": [
        "# This is a comment\n",
        "# these lines will not be executed"
      ],
      "metadata": {
        "id": "nqE23gU3tkqj"
      },
      "execution_count": 3,
      "outputs": []
    },
    {
      "cell_type": "markdown",
      "source": [
        "A number can be converted to a string"
      ],
      "metadata": {
        "id": "S0v4DhVrt01E"
      }
    },
    {
      "cell_type": "code",
      "source": [
        "str(3) #the str function transforms to string"
      ],
      "metadata": {
        "colab": {
          "base_uri": "https://localhost:8080/",
          "height": 36
        },
        "id": "FWNCoVMzt7xE",
        "outputId": "5f8f4de7-606a-43e8-ff61-6fb85a3e484f"
      },
      "execution_count": 5,
      "outputs": [
        {
          "output_type": "execute_result",
          "data": {
            "text/plain": [
              "'3'"
            ],
            "application/vnd.google.colaboratory.intrinsic+json": {
              "type": "string"
            }
          },
          "metadata": {},
          "execution_count": 5
        }
      ]
    },
    {
      "cell_type": "markdown",
      "source": [
        "Strings can be concatenated"
      ],
      "metadata": {
        "id": "-W05YqIqufVF"
      }
    },
    {
      "cell_type": "code",
      "source": [
        "'The number ' + str(5) + ' is greater than ' + '3'"
      ],
      "metadata": {
        "colab": {
          "base_uri": "https://localhost:8080/",
          "height": 36
        },
        "id": "3_sFhXGuugTO",
        "outputId": "838d8d86-2708-4681-f273-e1fa9a741044"
      },
      "execution_count": 9,
      "outputs": [
        {
          "output_type": "execute_result",
          "data": {
            "text/plain": [
              "'The number 5 is greater than 3'"
            ],
            "application/vnd.google.colaboratory.intrinsic+json": {
              "type": "string"
            }
          },
          "metadata": {},
          "execution_count": 9
        }
      ]
    },
    {
      "cell_type": "markdown",
      "source": [
        "Encode the apostrophe with double quotes or escape"
      ],
      "metadata": {
        "id": "zQCzgvAjwgnN"
      }
    },
    {
      "cell_type": "code",
      "source": [
        "'We\\'re going to Mario\\'s for dinner tonight'"
      ],
      "metadata": {
        "colab": {
          "base_uri": "https://localhost:8080/",
          "height": 36
        },
        "id": "7bgBPBhbwiXt",
        "outputId": "3b793aad-d75c-43a9-f586-61b724095f72"
      },
      "execution_count": 13,
      "outputs": [
        {
          "output_type": "execute_result",
          "data": {
            "text/plain": [
              "\"We're going to Mario's for dinner tonight\""
            ],
            "application/vnd.google.colaboratory.intrinsic+json": {
              "type": "string"
            }
          },
          "metadata": {},
          "execution_count": 13
        }
      ]
    },
    {
      "cell_type": "code",
      "source": [
        "\"We're going to Mario's for dinner tonight\""
      ],
      "metadata": {
        "colab": {
          "base_uri": "https://localhost:8080/",
          "height": 36
        },
        "id": "nXSq5WGSxAsC",
        "outputId": "a091adfb-3c07-471e-d145-b2097bfc3984"
      },
      "execution_count": 14,
      "outputs": [
        {
          "output_type": "execute_result",
          "data": {
            "text/plain": [
              "\"We're going to Mario's for dinner tonight\""
            ],
            "application/vnd.google.colaboratory.intrinsic+json": {
              "type": "string"
            }
          },
          "metadata": {},
          "execution_count": 14
        }
      ]
    }
  ]
}