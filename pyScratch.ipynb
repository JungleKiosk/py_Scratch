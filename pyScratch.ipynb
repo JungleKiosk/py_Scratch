{
  "nbformat": 4,
  "nbformat_minor": 0,
  "metadata": {
    "colab": {
      "provenance": [],
      "authorship_tag": "ABX9TyN1cFOP1TnHyxFMz4Gn0+m0",
      "include_colab_link": true
    },
    "kernelspec": {
      "name": "python3",
      "display_name": "Python 3"
    },
    "language_info": {
      "name": "python"
    }
  },
  "cells": [
    {
      "cell_type": "markdown",
      "metadata": {
        "id": "view-in-github",
        "colab_type": "text"
      },
      "source": [
        "<a href=\"https://colab.research.google.com/github/JungleKiosk/py_Scratch/blob/main/pyScratch.ipynb\" target=\"_parent\"><img src=\"https://colab.research.google.com/assets/colab-badge.svg\" alt=\"Open In Colab\"/></a>"
      ]
    },
    {
      "cell_type": "code",
      "execution_count": null,
      "metadata": {
        "id": "TLbgX2jTDQ0s"
      },
      "outputs": [],
      "source": []
    },
    {
      "cell_type": "markdown",
      "source": [
        "# **Introduction to Python 🚀✨**\n",
        "\n",
        "> ## Python:\n",
        "\n",
        "1. Strings\n",
        "2.Numbers\n",
        "3. Arithmetic Operators\n",
        "4. Boolean operators\n",
        "5. Variables and assignments\n",
        "6. Item indexing\n",
        "7. input() function\n",
        "\n",
        "> ## Data structures:\n",
        "\n",
        "8. Lists\n",
        "9. Dictionaries\n",
        "10. tuples\n",
        "11. Sep\n",
        "\n",
        "> ## Control structures:\n",
        "\n",
        "12. Conditionals\n",
        "13.Cycles\n",
        "\n",
        "> ## Functions\n",
        "\n",
        "> ## Libraries"
      ],
      "metadata": {
        "id": "FnM1ciRQnna0"
      }
    }
  ]
}