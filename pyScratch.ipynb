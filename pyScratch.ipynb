{
  "nbformat": 4,
  "nbformat_minor": 0,
  "metadata": {
    "colab": {
      "provenance": [],
      "authorship_tag": "ABX9TyPjLjsX6IVMtRTrbVzHjU7I"
    },
    "kernelspec": {
      "name": "python3",
      "display_name": "Python 3"
    },
    "language_info": {
      "name": "python"
    }
  },
  "cells": [
    {
      "cell_type": "code",
      "execution_count": null,
      "metadata": {
        "id": "TLbgX2jTDQ0s"
      },
      "outputs": [],
      "source": []
    },
    {
      "cell_type": "markdown",
      "source": [
        "# **Introduction to Python 🚀✨**\n",
        "\n",
        "> ## Python:\n",
        "\n",
        "1. Strings\n",
        "2.Numbers\n",
        "3. Arithmetic Operators\n",
        "4. Boolean operators\n",
        "5. Variables and assignments\n",
        "6. Item indexing\n",
        "7. input() function\n",
        "\n",
        "> ## Data structures:\n",
        "\n",
        "8. Lists\n",
        "9. Dictionaries\n",
        "10. tuples\n",
        "11. Sep\n",
        "\n",
        "> ## Control structures:\n",
        "\n",
        "12. Conditionals\n",
        "13.Cycles\n",
        "\n",
        "> ## Functions\n",
        "\n",
        "> ## Libraries"
      ],
      "metadata": {
        "id": "FnM1ciRQnna0"
      }
    },
    {
      "cell_type": "markdown",
      "source": [
        "## Strings\n",
        "Strings are always enclosed in quotes: single ('string') or double (\"string\")"
      ],
      "metadata": {
        "id": "fLVwTzFPsGof"
      }
    },
    {
      "cell_type": "code",
      "source": [
        "'Hello World!'\n",
        "\"Hello World!\""
      ],
      "metadata": {
        "colab": {
          "base_uri": "https://localhost:8080/",
          "height": 36
        },
        "id": "nhr1MYJosi_A",
        "outputId": "9e7b5281-dbda-402c-ec6a-57bc338817e2"
      },
      "execution_count": 2,
      "outputs": [
        {
          "output_type": "execute_result",
          "data": {
            "text/plain": [
              "'Hello World!'"
            ],
            "application/vnd.google.colaboratory.intrinsic+json": {
              "type": "string"
            }
          },
          "metadata": {},
          "execution_count": 2
        }
      ]
    },
    {
      "cell_type": "markdown",
      "source": [
        "With the asterisk symbol (#) you create a comment. Comments are essential for remembering in the future what the processed code is for and how it is contextualized in the project."
      ],
      "metadata": {
        "id": "8LGs5za9the1"
      }
    },
    {
      "cell_type": "code",
      "source": [
        "# This is a comment\n",
        "# these lines will not be executed"
      ],
      "metadata": {
        "id": "nqE23gU3tkqj"
      },
      "execution_count": 3,
      "outputs": []
    },
    {
      "cell_type": "markdown",
      "source": [
        "A number can be converted to a string"
      ],
      "metadata": {
        "id": "S0v4DhVrt01E"
      }
    },
    {
      "cell_type": "code",
      "source": [
        "str(3) #the str function transforms to string"
      ],
      "metadata": {
        "colab": {
          "base_uri": "https://localhost:8080/",
          "height": 36
        },
        "id": "FWNCoVMzt7xE",
        "outputId": "5f8f4de7-606a-43e8-ff61-6fb85a3e484f"
      },
      "execution_count": 5,
      "outputs": [
        {
          "output_type": "execute_result",
          "data": {
            "text/plain": [
              "'3'"
            ],
            "application/vnd.google.colaboratory.intrinsic+json": {
              "type": "string"
            }
          },
          "metadata": {},
          "execution_count": 5
        }
      ]
    },
    {
      "cell_type": "markdown",
      "source": [
        "Strings can be concatenated"
      ],
      "metadata": {
        "id": "-W05YqIqufVF"
      }
    },
    {
      "cell_type": "code",
      "source": [
        "'The number ' + str(5) + ' is greater than ' + '3'"
      ],
      "metadata": {
        "colab": {
          "base_uri": "https://localhost:8080/",
          "height": 36
        },
        "id": "3_sFhXGuugTO",
        "outputId": "838d8d86-2708-4681-f273-e1fa9a741044"
      },
      "execution_count": 9,
      "outputs": [
        {
          "output_type": "execute_result",
          "data": {
            "text/plain": [
              "'The number 5 is greater than 3'"
            ],
            "application/vnd.google.colaboratory.intrinsic+json": {
              "type": "string"
            }
          },
          "metadata": {},
          "execution_count": 9
        }
      ]
    },
    {
      "cell_type": "markdown",
      "source": [
        "Encode the apostrophe with double quotes or escape"
      ],
      "metadata": {
        "id": "zQCzgvAjwgnN"
      }
    },
    {
      "cell_type": "code",
      "source": [
        "'We\\'re going to Mario\\'s for dinner tonight'"
      ],
      "metadata": {
        "colab": {
          "base_uri": "https://localhost:8080/",
          "height": 36
        },
        "id": "7bgBPBhbwiXt",
        "outputId": "3b793aad-d75c-43a9-f586-61b724095f72"
      },
      "execution_count": 13,
      "outputs": [
        {
          "output_type": "execute_result",
          "data": {
            "text/plain": [
              "\"We're going to Mario's for dinner tonight\""
            ],
            "application/vnd.google.colaboratory.intrinsic+json": {
              "type": "string"
            }
          },
          "metadata": {},
          "execution_count": 13
        }
      ]
    },
    {
      "cell_type": "code",
      "source": [
        "\"We're going to Mario's for dinner tonight\""
      ],
      "metadata": {
        "colab": {
          "base_uri": "https://localhost:8080/",
          "height": 36
        },
        "id": "nXSq5WGSxAsC",
        "outputId": "a091adfb-3c07-471e-d145-b2097bfc3984"
      },
      "execution_count": 14,
      "outputs": [
        {
          "output_type": "execute_result",
          "data": {
            "text/plain": [
              "\"We're going to Mario's for dinner tonight\""
            ],
            "application/vnd.google.colaboratory.intrinsic+json": {
              "type": "string"
            }
          },
          "metadata": {},
          "execution_count": 14
        }
      ]
    },
    {
      "cell_type": "markdown",
      "source": [
        "## Numbers"
      ],
      "metadata": {
        "id": "ZIBbquUj0YFQ"
      }
    },
    {
      "cell_type": "markdown",
      "source": [
        "Real numbers in Python are called '**float**'"
      ],
      "metadata": {
        "id": "gv1-0s1X0zxs"
      }
    },
    {
      "cell_type": "code",
      "source": [
        "3.14"
      ],
      "metadata": {
        "colab": {
          "base_uri": "https://localhost:8080/"
        },
        "id": "ILJuh-6h0_uu",
        "outputId": "a55f7b1b-cce9-4afe-c4ff-b9818860bb13"
      },
      "execution_count": 16,
      "outputs": [
        {
          "output_type": "execute_result",
          "data": {
            "text/plain": [
              "3.14"
            ]
          },
          "metadata": {},
          "execution_count": 16
        }
      ]
    },
    {
      "cell_type": "markdown",
      "source": [
        "The **type()** function returns the type of objects"
      ],
      "metadata": {
        "id": "pdm9wwOP1DYY"
      }
    },
    {
      "cell_type": "code",
      "source": [
        "type(3)"
      ],
      "metadata": {
        "colab": {
          "base_uri": "https://localhost:8080/"
        },
        "id": "uf6rh1EH1PKM",
        "outputId": "5893da84-4af7-4d21-efe5-b25a0ced5d6d"
      },
      "execution_count": 17,
      "outputs": [
        {
          "output_type": "execute_result",
          "data": {
            "text/plain": [
              "int"
            ]
          },
          "metadata": {},
          "execution_count": 17
        }
      ]
    },
    {
      "cell_type": "code",
      "source": [
        "type(3.0)"
      ],
      "metadata": {
        "colab": {
          "base_uri": "https://localhost:8080/"
        },
        "id": "sW_sQURZ1Yi4",
        "outputId": "16cf60f2-1e90-4232-8ba1-7cd4f0a2184d"
      },
      "execution_count": 18,
      "outputs": [
        {
          "output_type": "execute_result",
          "data": {
            "text/plain": [
              "float"
            ]
          },
          "metadata": {},
          "execution_count": 18
        }
      ]
    },
    {
      "cell_type": "code",
      "source": [
        "type(3.14)"
      ],
      "metadata": {
        "colab": {
          "base_uri": "https://localhost:8080/"
        },
        "id": "rBYdvUo81dKW",
        "outputId": "41474471-232c-4121-b458-c6a896c5a797"
      },
      "execution_count": 19,
      "outputs": [
        {
          "output_type": "execute_result",
          "data": {
            "text/plain": [
              "float"
            ]
          },
          "metadata": {},
          "execution_count": 19
        }
      ]
    },
    {
      "cell_type": "markdown",
      "source": [
        "It is possible to convert objects of type **int** to **float** and vice versa:"
      ],
      "metadata": {
        "id": "zYiWafzz1qYm"
      }
    },
    {
      "cell_type": "code",
      "source": [
        "int(3.0)"
      ],
      "metadata": {
        "colab": {
          "base_uri": "https://localhost:8080/"
        },
        "id": "KrQ19atv1tke",
        "outputId": "1135ff00-2adc-48ae-dae5-2efa3fd56323"
      },
      "execution_count": 20,
      "outputs": [
        {
          "output_type": "execute_result",
          "data": {
            "text/plain": [
              "3"
            ]
          },
          "metadata": {},
          "execution_count": 20
        }
      ]
    },
    {
      "cell_type": "code",
      "source": [
        "float(3)"
      ],
      "metadata": {
        "colab": {
          "base_uri": "https://localhost:8080/"
        },
        "id": "Il1beXNR1xxU",
        "outputId": "19a6dbce-2a9b-404b-e28e-e19a82d471be"
      },
      "execution_count": 21,
      "outputs": [
        {
          "output_type": "execute_result",
          "data": {
            "text/plain": [
              "3.0"
            ]
          },
          "metadata": {},
          "execution_count": 21
        }
      ]
    },
    {
      "cell_type": "markdown",
      "source": [
        "It is also possible to convert a number saved as a string to an **int** or a **float**:"
      ],
      "metadata": {
        "id": "FA7YE86K2CLs"
      }
    },
    {
      "cell_type": "code",
      "source": [
        "int(\"3\")"
      ],
      "metadata": {
        "colab": {
          "base_uri": "https://localhost:8080/"
        },
        "id": "EA1Skb1Z2Fmz",
        "outputId": "3e196442-eceb-4611-f111-75f131ee0b3b"
      },
      "execution_count": 24,
      "outputs": [
        {
          "output_type": "execute_result",
          "data": {
            "text/plain": [
              "3"
            ]
          },
          "metadata": {},
          "execution_count": 24
        }
      ]
    },
    {
      "cell_type": "code",
      "source": [
        "float(\"3\")"
      ],
      "metadata": {
        "colab": {
          "base_uri": "https://localhost:8080/"
        },
        "id": "TlBNiocR2R2P",
        "outputId": "eeac88b3-70d7-4420-8ce6-4c1820bc7397"
      },
      "execution_count": 25,
      "outputs": [
        {
          "output_type": "execute_result",
          "data": {
            "text/plain": [
              "3.0"
            ]
          },
          "metadata": {},
          "execution_count": 25
        }
      ]
    },
    {
      "cell_type": "code",
      "source": [
        "type(\"3\")"
      ],
      "metadata": {
        "colab": {
          "base_uri": "https://localhost:8080/"
        },
        "id": "shr6nA9r2ZFz",
        "outputId": "4a065425-7625-4dfd-90ed-a4701483d870"
      },
      "execution_count": 26,
      "outputs": [
        {
          "output_type": "execute_result",
          "data": {
            "text/plain": [
              "str"
            ]
          },
          "metadata": {},
          "execution_count": 26
        }
      ]
    },
    {
      "cell_type": "markdown",
      "source": [
        "## Arithmetic Operators"
      ],
      "metadata": {
        "id": "7F_Yj9xu2csa"
      }
    },
    {
      "cell_type": "code",
      "source": [
        "2 + (5*8)"
      ],
      "metadata": {
        "colab": {
          "base_uri": "https://localhost:8080/"
        },
        "id": "wmbL_GmH2g9M",
        "outputId": "b4614a9a-404b-4813-a69c-5f89ee435dd9"
      },
      "execution_count": 27,
      "outputs": [
        {
          "output_type": "execute_result",
          "data": {
            "text/plain": [
              "42"
            ]
          },
          "metadata": {},
          "execution_count": 27
        }
      ]
    },
    {
      "cell_type": "code",
      "source": [
        "# squaring\n",
        "3**2"
      ],
      "metadata": {
        "colab": {
          "base_uri": "https://localhost:8080/"
        },
        "id": "4NLVAKRk2n7B",
        "outputId": "a210bd62-4b8a-46b3-b9e8-a4fb08adc0ab"
      },
      "execution_count": 28,
      "outputs": [
        {
          "output_type": "execute_result",
          "data": {
            "text/plain": [
              "9"
            ]
          },
          "metadata": {},
          "execution_count": 28
        }
      ]
    },
    {
      "cell_type": "code",
      "source": [
        "# square root (number**0.5)\n",
        "81**0.5"
      ],
      "metadata": {
        "colab": {
          "base_uri": "https://localhost:8080/"
        },
        "id": "bhaiDDxv292p",
        "outputId": "f498f561-89c4-4b49-a34f-61bb28e9b985"
      },
      "execution_count": 29,
      "outputs": [
        {
          "output_type": "execute_result",
          "data": {
            "text/plain": [
              "9.0"
            ]
          },
          "metadata": {},
          "execution_count": 29
        }
      ]
    },
    {
      "cell_type": "code",
      "source": [
        "# square root (number**(1/2))\n",
        "81**(1/2)"
      ],
      "metadata": {
        "colab": {
          "base_uri": "https://localhost:8080/"
        },
        "id": "0MqMqyFD3RSd",
        "outputId": "4a613b8e-29c2-4268-982e-baab1dbe41f9"
      },
      "execution_count": 31,
      "outputs": [
        {
          "output_type": "execute_result",
          "data": {
            "text/plain": [
              "9.0"
            ]
          },
          "metadata": {},
          "execution_count": 31
        }
      ]
    },
    {
      "cell_type": "code",
      "source": [
        "# cubic root (number**(1/3))\n",
        "81**(1/3)"
      ],
      "metadata": {
        "colab": {
          "base_uri": "https://localhost:8080/"
        },
        "id": "MDZVUvu33cLK",
        "outputId": "f38adabf-e6d6-4ac5-859e-497494bc1882"
      },
      "execution_count": 32,
      "outputs": [
        {
          "output_type": "execute_result",
          "data": {
            "text/plain": [
              "4.3267487109222245"
            ]
          },
          "metadata": {},
          "execution_count": 32
        }
      ]
    }
  ]
}