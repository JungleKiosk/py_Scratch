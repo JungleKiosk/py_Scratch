{
  "nbformat": 4,
  "nbformat_minor": 0,
  "metadata": {
    "colab": {
      "provenance": [],
      "authorship_tag": "ABX9TyPigZJqUgmrmuBsMKykWDCp"
    },
    "kernelspec": {
      "name": "python3",
      "display_name": "Python 3"
    },
    "language_info": {
      "name": "python"
    }
  },
  "cells": [
    {
      "cell_type": "markdown",
      "source": [
        "# Guess the number 🍀\n",
        "\n",
        "In this little project, we want to **create a program** that generates a random number between two integers `a` and `b` and allows us to try to guess that number by giving us hints at each attempt (such as: too low or too high). Specifically, our algorithm must have the following characteristics:"
      ],
      "metadata": {
        "id": "1dIDZKsaG50v"
      }
    },
    {
      "cell_type": "markdown",
      "source": [
        "1. ask as input the range of numbers (between `a` and `b`) that the program can generate\n",
        "2. print the range of possible numbers on the screen\n",
        "3. until the user guesses correctly (loop):\n",
        "   - ask the user for a number as input\n",
        "   - tell if the given number is too high or too low\n",
        "   - if the number provided by the user is correct, exit the loop and congratulate"
      ],
      "metadata": {
        "id": "3mlRq9zGHo0a"
      }
    },
    {
      "cell_type": "markdown",
      "source": [
        "> useful tools:\n",
        "*   library rabdom\n",
        "*   function randint()\n",
        "*   input()\n",
        "*   while loop\n",
        "*   if statement\n",
        "*   def function()\n",
        "\n",
        "\n"
      ],
      "metadata": {
        "id": "7ATdIwBPH3y3"
      }
    },
    {
      "cell_type": "markdown",
      "source": [
        "## 1st Step\n",
        "\n",
        "First we load the `random` library and introduce the `randint()` function (see the [documentation](https://docs.python.org/3/library/random.html#random.randint)) to generate the random number that we will have to go to estimate:"
      ],
      "metadata": {
        "id": "UuO5AjSFI0Y-"
      }
    },
    {
      "cell_type": "code",
      "source": [
        "import random\n",
        "random.randint(1,10)"
      ],
      "metadata": {
        "colab": {
          "base_uri": "https://localhost:8080/"
        },
        "id": "9fJiCgxxJTSj",
        "outputId": "eb539696-d14b-406f-9966-3080b4e6caba"
      },
      "execution_count": 2,
      "outputs": [
        {
          "output_type": "execute_result",
          "data": {
            "text/plain": [
              "8"
            ]
          },
          "metadata": {},
          "execution_count": 2
        }
      ]
    },
    {
      "cell_type": "markdown",
      "source": [
        "This function takes two parameters `a` and `b` as input and returns a randomly chosen integer between `a` and `b` (inclusive)."
      ],
      "metadata": {
        "id": "ADgkljbLJkGK"
      }
    },
    {
      "cell_type": "markdown",
      "source": [
        "Now let's *assign* the generated number to a new *object*, a variable that we will call `generated`. We do this so that we can refer to this number later.\n",
        "\n",
        "In order to be able to print the extremes of the possible results of the generated number on the screen, let's assign the two extremes to two variables `a` and `b` before defining the function."
      ],
      "metadata": {
        "id": "ih816Fr5JqtK"
      }
    },
    {
      "cell_type": "code",
      "source": [
        "a = 1\n",
        "b = 10\n",
        "nr_generated = random.randint(a, b)\n",
        "print(f'The generated number is contained between {a} and {b}.')"
      ],
      "metadata": {
        "colab": {
          "base_uri": "https://localhost:8080/"
        },
        "id": "MyaHXczaJvZi",
        "outputId": "eac7e66e-b15d-44fb-975d-0ce9de83176c"
      },
      "execution_count": 6,
      "outputs": [
        {
          "output_type": "stream",
          "name": "stdout",
          "text": [
            "The generated number is contained between 1 and 10.\n"
          ]
        }
      ]
    },
    {
      "cell_type": "markdown",
      "source": [
        "## 2nd Step\n",
        "\n",
        "The next step is to start guessing our number, so we'll use the `input()` function to ask the user to choose a number (between `a` and `b`):"
      ],
      "metadata": {
        "id": "Ux3_IZ_BKhYy"
      }
    },
    {
      "cell_type": "code",
      "source": [
        "nr_chosen = int(input(f'Scegli un numero tra {a} e {b}: '))"
      ],
      "metadata": {
        "id": "hMXZmN8oKqbb"
      },
      "execution_count": null,
      "outputs": []
    }
  ]
}