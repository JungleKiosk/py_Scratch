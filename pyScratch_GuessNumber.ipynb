{
  "nbformat": 4,
  "nbformat_minor": 0,
  "metadata": {
    "colab": {
      "provenance": [],
      "toc_visible": true,
      "authorship_tag": "ABX9TyM6a3bvQO3RMxlvJRGj2HMI"
    },
    "kernelspec": {
      "name": "python3",
      "display_name": "Python 3"
    },
    "language_info": {
      "name": "python"
    }
  },
  "cells": [
    {
      "cell_type": "markdown",
      "source": [
        "# Guess the number 🍀\n",
        "\n",
        "In this little project, we want to **create a program** that generates a random number between two integers `a` and `b` and allows us to try to guess that number by giving us hints at each attempt (such as: too low or too high). Specifically, our algorithm must have the following characteristics:"
      ],
      "metadata": {
        "id": "1dIDZKsaG50v"
      }
    },
    {
      "cell_type": "markdown",
      "source": [
        "1. ask as input the range of numbers (between `a` and `b`) that the program can generate\n",
        "2. print the range of possible numbers on the screen\n",
        "3. until the user guesses correctly (loop):\n",
        "   - ask the user for a number as input\n",
        "   - tell if the given number is too high or too low\n",
        "   - if the number provided by the user is correct, exit the loop and congratulate"
      ],
      "metadata": {
        "id": "3mlRq9zGHo0a"
      }
    },
    {
      "cell_type": "markdown",
      "source": [
        "> useful tools:\n",
        "*   library rabdom\n",
        "*   function randint()\n",
        "*   input()\n",
        "*   while loop\n",
        "*   if statement\n",
        "*   def function()\n",
        "\n",
        "\n"
      ],
      "metadata": {
        "id": "7ATdIwBPH3y3"
      }
    },
    {
      "cell_type": "markdown",
      "source": [
        "## 1st Step\n",
        "\n",
        "First we load the `random` library and introduce the `randint()` function (see the [documentation](https://docs.python.org/3/library/random.html#random.randint)) to generate the random number that we will have to go to estimate:"
      ],
      "metadata": {
        "id": "UuO5AjSFI0Y-"
      }
    },
    {
      "cell_type": "code",
      "source": [
        "import random\n",
        "random.randint(1,10)"
      ],
      "metadata": {
        "colab": {
          "base_uri": "https://localhost:8080/"
        },
        "id": "9fJiCgxxJTSj",
        "outputId": "eb539696-d14b-406f-9966-3080b4e6caba"
      },
      "execution_count": 2,
      "outputs": [
        {
          "output_type": "execute_result",
          "data": {
            "text/plain": [
              "8"
            ]
          },
          "metadata": {},
          "execution_count": 2
        }
      ]
    },
    {
      "cell_type": "markdown",
      "source": [
        "This function takes two parameters `a` and `b` as input and returns a randomly chosen integer between `a` and `b` (inclusive)."
      ],
      "metadata": {
        "id": "ADgkljbLJkGK"
      }
    },
    {
      "cell_type": "markdown",
      "source": [
        "Now let's *assign* the generated number to a new *object*, a variable that we will call `generated`. We do this so that we can refer to this number later.\n",
        "\n",
        "In order to be able to print the extremes of the possible results of the generated number on the screen, let's assign the two extremes to two variables `a` and `b` before defining the function."
      ],
      "metadata": {
        "id": "ih816Fr5JqtK"
      }
    },
    {
      "cell_type": "code",
      "source": [
        "a = 1\n",
        "b = 10\n",
        "nr_generated = random.randint(a, b)\n",
        "print(f'The generated number is contained between {a} and {b}.')"
      ],
      "metadata": {
        "colab": {
          "base_uri": "https://localhost:8080/"
        },
        "id": "MyaHXczaJvZi",
        "outputId": "3f8606b1-fd67-4ff7-f882-99a28f13c1a5"
      },
      "execution_count": 11,
      "outputs": [
        {
          "output_type": "stream",
          "name": "stdout",
          "text": [
            "The generated number is contained between 1 and 10.\n"
          ]
        }
      ]
    },
    {
      "cell_type": "markdown",
      "source": [
        "## 2nd Step\n",
        "\n",
        "The next step is to start guessing our number, so we'll use the `input()` function to ask the user to choose a number (between `a` and `b`):"
      ],
      "metadata": {
        "id": "Ux3_IZ_BKhYy"
      }
    },
    {
      "cell_type": "code",
      "source": [
        "nr_chosen = int(input(f'Scegli un numero tra {a} e {b}: '))"
      ],
      "metadata": {
        "colab": {
          "base_uri": "https://localhost:8080/"
        },
        "id": "hMXZmN8oKqbb",
        "outputId": "48138d9f-c61b-469a-9622-05ea347def26"
      },
      "execution_count": 7,
      "outputs": [
        {
          "name": "stdout",
          "output_type": "stream",
          "text": [
            "Scegli un numero tra 1 e 10: 5\n"
          ]
        }
      ]
    },
    {
      "cell_type": "markdown",
      "source": [
        "Now the program will have to make a comparison to check if the number chosen by the user is greater or less than the one generated. To do this we use an if-else **control structure**:"
      ],
      "metadata": {
        "id": "w9OjNe_OLPfQ"
      }
    },
    {
      "cell_type": "code",
      "source": [
        "if (nr_chosen > nr_generated):\n",
        "  print('Try again, number too high!')\n",
        "elif (nr_chosen < nr_generated):\n",
        "  print('Try again, number too low!')\n",
        "else:\n",
        "  print('Congratulations, you guessed the number!')"
      ],
      "metadata": {
        "colab": {
          "base_uri": "https://localhost:8080/"
        },
        "id": "Kw9ZonvZLUU0",
        "outputId": "e6de22c7-7b12-4efa-a804-30a9552f2f38"
      },
      "execution_count": 13,
      "outputs": [
        {
          "output_type": "stream",
          "name": "stdout",
          "text": [
            "Try again, number too low!\n"
          ]
        }
      ]
    },
    {
      "cell_type": "markdown",
      "source": [
        "## 3rd Step\n",
        "\n",
        "At this point we only need to implement the iterative part. To do this we will use a **while loop** inside which we will have to put both the user's choice (`input()` function) and the comparison with the generated number (if-else structure):"
      ],
      "metadata": {
        "id": "diuWZYGzNQHO"
      }
    },
    {
      "cell_type": "code",
      "source": [
        "nr_chosen = 0 # we must initialize nr_chosen to be able to use it in the loop\n",
        "\n",
        "while nr_chosen != nr_generated:\n",
        "   # ask the user to choose a number\n",
        "   nr_chosen = int(input(f'Choose a number between {a} and {b}: '))\n",
        "\n",
        "   # let's compare the number chosen by the user and the number generated\n",
        "   if (nr_chosen > nr_generated):\n",
        "     print('Try again, number too high!')\n",
        "   elif (nr_chosen < nr_generated):\n",
        "     print('Try again, number too low!')\n",
        "\n",
        "# this print (which was previously in the else clause) can be taken out of the loop\n",
        "# because if the program has exited the while loop, it means that nr_chosen == nr_generated\n",
        "# and thus the user guessed the number\n",
        "else:\n",
        "   print('Congratulations, you guessed the number!')"
      ],
      "metadata": {
        "colab": {
          "base_uri": "https://localhost:8080/"
        },
        "id": "dJOCOOHBNXFe",
        "outputId": "29ab4256-5e80-4e29-fe67-b44baa827302"
      },
      "execution_count": 15,
      "outputs": [
        {
          "output_type": "stream",
          "name": "stdout",
          "text": [
            "Choose a number between 1 and 10: 3\n",
            "Try again, number too low!\n",
            "Choose a number between 1 and 10: 9\n",
            "Try again, number too high!\n",
            "Choose a number between 1 and 10: 5\n",
            "Try again, number too low!\n",
            "Choose a number between 1 and 10: 8\n",
            "Congratulations, you guessed the number!\n"
          ]
        }
      ]
    },
    {
      "cell_type": "markdown",
      "source": [
        "## 4th Step\n",
        "\n",
        "The last thing we have to do is enclose everything in a `function` that asks for input the two extremes `a` and `b` and allows the game to continue until the user has guessed the number.\n"
      ],
      "metadata": {
        "id": "NKGakbK8OSjB"
      }
    },
    {
      "cell_type": "code",
      "source": [
        "def guessNumber(min, max):\n",
        "\n",
        "   a = min\n",
        "   b = max\n",
        "   nr_generated = random.randint(a, b)\n",
        "\n",
        "   nr_chosen = 0 # we must initialize nr_chosen to be able to use it in the loop\n",
        "\n",
        "   while nr_chosen != nr_generated:\n",
        "     # ask the user to choose a number\n",
        "     nr_chosen = int(input(f'Choose a number between {a} and {b}: '))\n",
        "\n",
        "     # let's compare the number chosen by the user and the number generated\n",
        "     if (nr_chosen > nr_generated):\n",
        "       print('Try again, number too high!')\n",
        "     elif (nr_chosen < nr_generated):\n",
        "       print('Try again, number too low!')\n",
        "\n",
        "   # this print (which was previously in the else clause) can be taken out of the loop\n",
        "   # because if the program has exited the while loop, it means that nr_chosen == nr_generated\n",
        "   # and thus the user guessed the number\n",
        "   else:\n",
        "     print('Congratulations, you guessed the number!')"
      ],
      "metadata": {
        "id": "Afy7znyFObnO"
      },
      "execution_count": 22,
      "outputs": []
    },
    {
      "cell_type": "code",
      "source": [
        "guessNumber(1,10)"
      ],
      "metadata": {
        "colab": {
          "base_uri": "https://localhost:8080/"
        },
        "id": "qMAwuIDxOtFi",
        "outputId": "48b0a534-7281-440c-fcca-391b1e8d0532"
      },
      "execution_count": 25,
      "outputs": [
        {
          "output_type": "stream",
          "name": "stdout",
          "text": [
            "Choose a number between 1 and 10: 1\n",
            "Try again, number too low!\n",
            "Choose a number between 1 and 10: 9\n",
            "Try again, number too high!\n",
            "Choose a number between 1 and 10: 8\n",
            "Try again, number too high!\n",
            "Choose a number between 1 and 10: 4\n",
            "Try again, number too low!\n",
            "Choose a number between 1 and 10: 3\n",
            "Try again, number too low!\n",
            "Choose a number between 1 and 10: 6\n",
            "Try again, number too low!\n",
            "Choose a number between 1 and 10: 7\n",
            "Congratulations, you guessed the number!\n"
          ]
        }
      ]
    },
    {
      "cell_type": "markdown",
      "source": [
        "## Extra"
      ],
      "metadata": {
        "id": "Nrb4MdXNPeS1"
      }
    },
    {
      "cell_type": "markdown",
      "source": [
        "Write a new `guessSpecial()` function that allows you to play *Guess the number* but this time, instead of getting \"number too low\" or \"number too high\" feedback, the user will get the following clues as feedback:\n",
        "- if the absolute value of `nr_chosen - nr_generated` is less than 3 >>> `Fire!`\n",
        "- if instead the absolute value of `nr_scelto - nr_generato` is between 3 and 5 (inclusive) >>> `Flame!`\n",
        "- if instead the absolute value of `nr_scelto - nr_generato` is between 6 and 10 (inclusive) >>> `Drop!`\n",
        "- otherwise >>> `Water!`\n",
        "\n",
        "\n",
        "\n",
        "*Please Note: in Python you can calculate the absolute value of an `x` value with the `abs(x)` function.*"
      ],
      "metadata": {
        "id": "Lf45XeK1P2_P"
      }
    },
    {
      "cell_type": "code",
      "source": [
        "# define the guess2() function\n",
        "def guessSpecial(min, max):\n",
        "\n",
        "   a = min\n",
        "   b = max\n",
        "   nr_generated = random.randint(a, b)\n",
        "\n",
        "   nr_chosen = 0 # we must initialize nr_scelto otherwise the program will give us an error\n",
        "\n",
        "   while nr_chosen != nr_generated:\n",
        "     # ask the user to choose a number\n",
        "     nr_chosen = int(input(f'Choose a number between {a} and {b}: '))\n",
        "\n",
        "     # let's compare the number chosen by the user and the number generated\n",
        "     if (nr_chosen != nr_generated):\n",
        "       if (abs(nr_chosen - nr_generated) < 3):\n",
        "         print('Fire!')\n",
        "       elif (abs(nr_chosen - nr_generated) <= 5):\n",
        "         print('Flame!')\n",
        "       elif (abs(nr_chosen - nr_generated) <= 10):\n",
        "         print('Drop!')\n",
        "       else:\n",
        "         print('Water!')\n",
        "\n",
        "   # this print (which was previously in the else clause) can be taken out of the loop\n",
        "   # because if the program has exited the while loop, it means that nr_chosen == nr_generated\n",
        "   # and thus the user guessed the number\n",
        "   else:\n",
        "     print('Congratulations, you guessed the number!')"
      ],
      "metadata": {
        "id": "-sifHO4PP4PC"
      },
      "execution_count": 28,
      "outputs": []
    },
    {
      "cell_type": "code",
      "source": [
        "guessSpecial(1, 100)"
      ],
      "metadata": {
        "colab": {
          "base_uri": "https://localhost:8080/"
        },
        "id": "K4NfgkebRL9C",
        "outputId": "df25d576-1c80-4b31-84a7-f116a85009a7"
      },
      "execution_count": 29,
      "outputs": [
        {
          "output_type": "stream",
          "name": "stdout",
          "text": [
            "Choose a number between 1 and 100: 50\n",
            "Flame!\n",
            "Choose a number between 1 and 100: 55\n",
            "Drop!\n",
            "Choose a number between 1 and 100: 45\n",
            "Congratulations, you guessed the number!\n"
          ]
        }
      ]
    }
  ]
}