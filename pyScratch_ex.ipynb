{
  "nbformat": 4,
  "nbformat_minor": 0,
  "metadata": {
    "colab": {
      "provenance": [],
      "toc_visible": true,
      "authorship_tag": "ABX9TyMmMnvy65RVfe5m5uauWdGD"
    },
    "kernelspec": {
      "name": "python3",
      "display_name": "Python 3"
    },
    "language_info": {
      "name": "python"
    }
  },
  "cells": [
    {
      "cell_type": "markdown",
      "source": [
        "# Exercise 1: EVEN or ODD\n",
        "print ten numbers and determine if they are EVEN or ODD.\n"
      ],
      "metadata": {
        "id": "-h0fZLlvm_SD"
      }
    },
    {
      "cell_type": "markdown",
      "source": [
        "> useful tools:\n",
        "* for loop\n",
        "* module (%)\n",
        "* if statement\n",
        "\n"
      ],
      "metadata": {
        "id": "wSU25h5ZnK1M"
      }
    },
    {
      "cell_type": "markdown",
      "source": [
        "## 1st Step\n",
        "print the ten numbers\n",
        "> The  `for` loop is used to iterate through a sequence of numbers from 1 to 10."
      ],
      "metadata": {
        "id": "AJa3Ryx6npLz"
      }
    },
    {
      "cell_type": "code",
      "source": [
        "for number in range(1, 11):\n",
        "  print(number)"
      ],
      "metadata": {
        "colab": {
          "base_uri": "https://localhost:8080/"
        },
        "id": "emNC0S6_oH9g",
        "outputId": "fe9d8d29-d3c7-44e5-ac8d-645fe4fd06a4"
      },
      "execution_count": null,
      "outputs": [
        {
          "output_type": "stream",
          "name": "stdout",
          "text": [
            "1\n",
            "2\n",
            "3\n",
            "4\n",
            "5\n",
            "6\n",
            "7\n",
            "8\n",
            "9\n",
            "10\n"
          ]
        }
      ]
    },
    {
      "cell_type": "markdown",
      "source": [
        "## 2nd Step\n",
        "understand when a number is **even**.\n",
        "\n",
        "> The modulus operator `%`returns the remainder after dividing two numbers. In our case, we're using it to determine `if` a number is even. If the remainder of division by 2 is zero then the number is even."
      ],
      "metadata": {
        "id": "ZZlkLBA5oajP"
      }
    },
    {
      "cell_type": "code",
      "source": [
        "x = 8\n",
        "if x % 2 == 0:\n",
        "    print(f\"The number {x} is EVEN.\")\n",
        "\n"
      ],
      "metadata": {
        "colab": {
          "base_uri": "https://localhost:8080/"
        },
        "id": "ipqrxgYcoaMi",
        "outputId": "f95efbf0-7222-48e6-9026-03c63c513dba"
      },
      "execution_count": null,
      "outputs": [
        {
          "output_type": "stream",
          "name": "stdout",
          "text": [
            "The number 8 is EVEN.\n"
          ]
        }
      ]
    },
    {
      "cell_type": "markdown",
      "source": [
        "## 3rd Step\n",
        "Find out if the number is **even** or **odd**\n",
        "> define, through `else:` if the number is odd"
      ],
      "metadata": {
        "id": "niMl0cJuqVuv"
      }
    },
    {
      "cell_type": "code",
      "source": [
        "x = 5\n",
        "if x % 2 == 0:\n",
        "    print(f\"The number {x} is EVEN.\")\n",
        "else:\n",
        "    print(f\"The number {x} is ODD.\")"
      ],
      "metadata": {
        "colab": {
          "base_uri": "https://localhost:8080/"
        },
        "id": "j4mOZA6qrWcm",
        "outputId": "5e16b476-2208-47b6-f97c-83227630be4d"
      },
      "execution_count": null,
      "outputs": [
        {
          "output_type": "stream",
          "name": "stdout",
          "text": [
            "The number 5 is ODD.\n"
          ]
        }
      ]
    },
    {
      "cell_type": "markdown",
      "source": [
        "## 4th Step\n",
        "print the ten numbers with the relative string: \"is EVEN\" or \"is ODD\"\n"
      ],
      "metadata": {
        "id": "FoFCdGWprn_O"
      }
    },
    {
      "cell_type": "code",
      "source": [
        "for number in range(1, 11):\n",
        " if number % 2 == 0:\n",
        "    print(f\"The number {number} is EVEN.\")\n",
        " else:\n",
        "    print(f\"The number {number} is ODD.\")"
      ],
      "metadata": {
        "colab": {
          "base_uri": "https://localhost:8080/"
        },
        "id": "q6R_OExNsQ84",
        "outputId": "b332916e-aa84-4461-b5d2-9944319d6b7a"
      },
      "execution_count": null,
      "outputs": [
        {
          "output_type": "stream",
          "name": "stdout",
          "text": [
            "The number 1 is ODD.\n",
            "The number 2 is EVEN.\n",
            "The number 3 is ODD.\n",
            "The number 4 is EVEN.\n",
            "The number 5 is ODD.\n",
            "The number 6 is EVEN.\n",
            "The number 7 is ODD.\n",
            "The number 8 is EVEN.\n",
            "The number 9 is ODD.\n",
            "The number 10 is EVEN.\n"
          ]
        }
      ]
    },
    {
      "cell_type": "markdown",
      "source": [
        "## Explanation\n",
        "\n",
        "In short, the code examines each number from 1 to 10, calculates the remainder on division to see if it's odd or even, and then prints an appropriate message based on that verification.\n",
        "\n",
        "> The for loop begins with a number that assumes values from 1 to 10, one at a time, thanks to the use of the function range(1, 11). This means that the cycle repeats itself 10 times, with the number taking values from 1 to 10.\n",
        "\n",
        "> Inside the for loop, for each value of number, we're doing a conditional check to see if the number is even or odd.\n",
        "\n",
        "> The % (module) operator is used to calculate the remainder after dividing number by 2. If the remainder is 0, then the number is divisible by 2, which makes it even. If the remainder is not 0, the number is odd.\n",
        "\n",
        "> The if statement checks if the remainder of the division (number % 2) equals 0. If true, it means that the number is even, so the first part of the if statement is executed:\n",
        "```\n",
        "print(f\"The number {number} is EVEN.\")\n",
        "```\n",
        "> If the if statement is not satisfied (ie the remainder of division is not equal to 0), then control passes to the else statement. This means the number is odd, so the else part of the statement is executed:\n",
        "```\n",
        "print(f\"The number {number} is ODD.\")\n",
        "```\n",
        "\n",
        "> At the end of the for loop, the whole process will repeat for every number from 1 to 10. As a result, you will see 10 messages printed on the screen, each with the corresponding number and whether it is even or odd.\n",
        "\n"
      ],
      "metadata": {
        "id": "jvK6Lft8sg4f"
      }
    },
    {
      "cell_type": "markdown",
      "source": [
        "## Extra\n",
        "distinguish even from odd with two different colors: EVEN = red , ODD = blue"
      ],
      "metadata": {
        "id": "2m8SYHIvuxVF"
      }
    },
    {
      "cell_type": "code",
      "source": [
        "for number in range(1, 11):\n",
        "    if number % 2 == 0:\n",
        "        print(\"\\033[31m\" + f\"The number {number} is EVEN.\" + \"\\033[0m\")  # red\n",
        "    else:\n",
        "        print(\"\\033[34m\" + f\"The number {number} is ODD.\" + \"\\033[0m\")  # blue\n"
      ],
      "metadata": {
        "colab": {
          "base_uri": "https://localhost:8080/"
        },
        "id": "zIvwxVT-u8Yr",
        "outputId": "3565f7fc-5b1c-4c14-8c13-dada62947dc9"
      },
      "execution_count": null,
      "outputs": [
        {
          "output_type": "stream",
          "name": "stdout",
          "text": [
            "\u001b[34mThe number 1 is ODD.\u001b[0m\n",
            "\u001b[31mThe number 2 is EVEN.\u001b[0m\n",
            "\u001b[34mThe number 3 is ODD.\u001b[0m\n",
            "\u001b[31mThe number 4 is EVEN.\u001b[0m\n",
            "\u001b[34mThe number 5 is ODD.\u001b[0m\n",
            "\u001b[31mThe number 6 is EVEN.\u001b[0m\n",
            "\u001b[34mThe number 7 is ODD.\u001b[0m\n",
            "\u001b[31mThe number 8 is EVEN.\u001b[0m\n",
            "\u001b[34mThe number 9 is ODD.\u001b[0m\n",
            "\u001b[31mThe number 10 is EVEN.\u001b[0m\n"
          ]
        }
      ]
    },
    {
      "cell_type": "markdown",
      "source": [
        "# Exercise 2: Fuzzy & Buzz\n",
        "prints the numbers from 1 to 50, for multiples of 3 it prints the word \"Fuzzy\", for multiples of 5 the word \"Buzz\""
      ],
      "metadata": {
        "id": "6QCE1zRXxWZO"
      }
    },
    {
      "cell_type": "markdown",
      "source": [
        "> useful tools:\n",
        "* for loop\n",
        "* module (%)\n",
        "* if statement\n",
        "* AND boolean operator\n"
      ],
      "metadata": {
        "id": "tD3kEJbF7EvO"
      }
    },
    {
      "cell_type": "markdown",
      "source": [
        "## 1st Step\n",
        "\n",
        "Through a loop to iterate through the numbers from 1 to 50."
      ],
      "metadata": {
        "id": "CmPC_iSzzt7D"
      }
    },
    {
      "cell_type": "code",
      "source": [
        "for number in range(1, 51):\n",
        "  print(number)"
      ],
      "metadata": {
        "colab": {
          "base_uri": "https://localhost:8080/"
        },
        "id": "k9IStKanz6fS",
        "outputId": "75ce7786-3290-484a-c1fe-e5db1fabee37"
      },
      "execution_count": null,
      "outputs": [
        {
          "output_type": "stream",
          "name": "stdout",
          "text": [
            "1\n",
            "2\n",
            "3\n",
            "4\n",
            "5\n",
            "6\n",
            "7\n",
            "8\n",
            "9\n",
            "10\n",
            "11\n",
            "12\n",
            "13\n",
            "14\n",
            "15\n",
            "16\n",
            "17\n",
            "18\n",
            "19\n",
            "20\n",
            "21\n",
            "22\n",
            "23\n",
            "24\n",
            "25\n",
            "26\n",
            "27\n",
            "28\n",
            "29\n",
            "30\n",
            "31\n",
            "32\n",
            "33\n",
            "34\n",
            "35\n",
            "36\n",
            "37\n",
            "38\n",
            "39\n",
            "40\n",
            "41\n",
            "42\n",
            "43\n",
            "44\n",
            "45\n",
            "46\n",
            "47\n",
            "48\n",
            "49\n",
            "50\n"
          ]
        }
      ]
    },
    {
      "cell_type": "markdown",
      "source": [
        "## 2nd Step\n",
        "\n",
        "Create a variable in which to save the result.\n",
        "\n",
        "We use the form % to check if the number is a multiple of 3 and print \"Fuzzy\"."
      ],
      "metadata": {
        "id": "-xPJ780p0WzP"
      }
    },
    {
      "cell_type": "code",
      "source": [
        "for number in range (1, 51):\n",
        "    output = \"\"\n",
        "    if number % 3 == 0:\n",
        "        output += \"Fuzzy\"\n",
        "        print(output)\n",
        "    else:\n",
        "      output == \"\"\n",
        "      print(number)"
      ],
      "metadata": {
        "colab": {
          "base_uri": "https://localhost:8080/"
        },
        "id": "Rz2xngBQ0-U1",
        "outputId": "f0e272cc-8cd2-47db-988c-650bb7f60157"
      },
      "execution_count": null,
      "outputs": [
        {
          "output_type": "stream",
          "name": "stdout",
          "text": [
            "1\n",
            "2\n",
            "Fuzzy\n",
            "4\n",
            "5\n",
            "Fuzzy\n",
            "7\n",
            "8\n",
            "Fuzzy\n",
            "10\n",
            "11\n",
            "Fuzzy\n",
            "13\n",
            "14\n",
            "Fuzzy\n",
            "16\n",
            "17\n",
            "Fuzzy\n",
            "19\n",
            "20\n",
            "Fuzzy\n",
            "22\n",
            "23\n",
            "Fuzzy\n",
            "25\n",
            "26\n",
            "Fuzzy\n",
            "28\n",
            "29\n",
            "Fuzzy\n",
            "31\n",
            "32\n",
            "Fuzzy\n",
            "34\n",
            "35\n",
            "Fuzzy\n",
            "37\n",
            "38\n",
            "Fuzzy\n",
            "40\n",
            "41\n",
            "Fuzzy\n",
            "43\n",
            "44\n",
            "Fuzzy\n",
            "46\n",
            "47\n",
            "Fuzzy\n",
            "49\n",
            "50\n"
          ]
        }
      ]
    },
    {
      "cell_type": "markdown",
      "source": [
        "## 3rd Step\n",
        "\n",
        "We use the form % to check if the number is a multiple of 3 and print \"Fuzzy\" or if the number is a multiple of 5 and print \"Buzz\"."
      ],
      "metadata": {
        "id": "GapqVc2L25vB"
      }
    },
    {
      "cell_type": "code",
      "source": [
        "for number in range (1, 51):\n",
        "    output = \"\"\n",
        "    if number % 3 == 0:\n",
        "        output += \"Fuzzy\"\n",
        "        print(output)\n",
        "    elif number % 5 == 0:\n",
        "        output += \"Buzz\"\n",
        "        print(output)\n",
        "    else:\n",
        "      output == \"\"\n",
        "      print(number)"
      ],
      "metadata": {
        "colab": {
          "base_uri": "https://localhost:8080/"
        },
        "id": "FYQEGECx2IlU",
        "outputId": "43ec9107-a60b-43e9-d569-1d3151203bd1"
      },
      "execution_count": null,
      "outputs": [
        {
          "output_type": "stream",
          "name": "stdout",
          "text": [
            "1\n",
            "2\n",
            "Fuzzy\n",
            "4\n",
            "Buzz\n",
            "Fuzzy\n",
            "7\n",
            "8\n",
            "Fuzzy\n",
            "Buzz\n",
            "11\n",
            "Fuzzy\n",
            "13\n",
            "14\n",
            "Fuzzy\n",
            "16\n",
            "17\n",
            "Fuzzy\n",
            "19\n",
            "Buzz\n",
            "Fuzzy\n",
            "22\n",
            "23\n",
            "Fuzzy\n",
            "Buzz\n",
            "26\n",
            "Fuzzy\n",
            "28\n",
            "29\n",
            "Fuzzy\n",
            "31\n",
            "32\n",
            "Fuzzy\n",
            "34\n",
            "Buzz\n",
            "Fuzzy\n",
            "37\n",
            "38\n",
            "Fuzzy\n",
            "Buzz\n",
            "41\n",
            "Fuzzy\n",
            "43\n",
            "44\n",
            "Fuzzy\n",
            "46\n",
            "47\n",
            "Fuzzy\n",
            "49\n",
            "Buzz\n"
          ]
        }
      ]
    },
    {
      "cell_type": "markdown",
      "source": [
        "## 4th Step\n",
        "\n",
        "prints \"BOTH\" for numbers that are multiples of 3 and even multiples of 5."
      ],
      "metadata": {
        "id": "bV9Hag276sOo"
      }
    },
    {
      "cell_type": "code",
      "source": [
        "for number in range(1, 51):\n",
        "    output = \"\"\n",
        "\n",
        "    if number % 3 == 0 and number % 5 == 0:\n",
        "        output = \"BOTH\"\n",
        "    elif number % 3 == 0:\n",
        "        output = \"Fuzzy\"\n",
        "    elif number % 5 == 0:\n",
        "        output = \"Buzz\"\n",
        "    else:\n",
        "        output = number\n",
        "\n",
        "    print(output)\n"
      ],
      "metadata": {
        "colab": {
          "base_uri": "https://localhost:8080/"
        },
        "id": "avKinslj4IGx",
        "outputId": "de3efe1f-ec73-43c8-ea50-cf3d1963e964"
      },
      "execution_count": null,
      "outputs": [
        {
          "output_type": "stream",
          "name": "stdout",
          "text": [
            "1\n",
            "2\n",
            "Fuzzy\n",
            "4\n",
            "Buzz\n",
            "Fuzzy\n",
            "7\n",
            "8\n",
            "Fuzzy\n",
            "Buzz\n",
            "11\n",
            "Fuzzy\n",
            "13\n",
            "14\n",
            "BOTH\n",
            "16\n",
            "17\n",
            "Fuzzy\n",
            "19\n",
            "Buzz\n",
            "Fuzzy\n",
            "22\n",
            "23\n",
            "Fuzzy\n",
            "Buzz\n",
            "26\n",
            "Fuzzy\n",
            "28\n",
            "29\n",
            "BOTH\n",
            "31\n",
            "32\n",
            "Fuzzy\n",
            "34\n",
            "Buzz\n",
            "Fuzzy\n",
            "37\n",
            "38\n",
            "Fuzzy\n",
            "Buzz\n",
            "41\n",
            "Fuzzy\n",
            "43\n",
            "44\n",
            "BOTH\n",
            "46\n",
            "47\n",
            "Fuzzy\n",
            "49\n",
            "Buzz\n"
          ]
        }
      ]
    },
    {
      "cell_type": "markdown",
      "source": [
        "## Explanation\n",
        "\n",
        "in short, the code checks whether the number is a multiple of 3, 5, or both, and builds an output string accordingly. This output string is then printed for each number in the range 1 to 50, showing \"BOTH\" for common multiples of 3 and 5, \"Fuzzy\" for multiples of 3, \"Buzz\" for multiples of 5, and the number same for all other cases.\n",
        "\n",
        "> A  `for` loop is used to iterate through the numbers from 1 to 50. In each iteration, the number variable takes on one of the numbers in the range.\n",
        "\n",
        "> An empty `output` variable is created which will be used to construct the output message for each number.\n",
        "\n",
        "> The first `if` block tests whether the number is a multiple of both 3 and 5. If true, it assigns the value \"**BOTH**\" to the output variable. This handles the case where the number is a common multiple of 3 and 5 (for example, 15).\n",
        "\n",
        "> The next `elif` statement checks if the number is only a multiple of 3. If so, it assigns \"**Fuzzy**\" to the output variable.\n",
        "\n",
        "> The next `elif` statement checks if the number is just a multiple of 5. If so, it assigns \"**Buzz**\" to the output variable.\n",
        "\n",
        "> At the end of each iteration, the contents of the output variable are printed.\n",
        "\n",
        "\n",
        "\n"
      ],
      "metadata": {
        "id": "qJNpSDhP7SJv"
      }
    },
    {
      "cell_type": "markdown",
      "source": [
        "## Extra\n",
        "\n",
        "the three strings must have a different colour:\n",
        "\n",
        "* \"BOTH\" = green\n",
        "* \"Fuzzy\" = red\n",
        "* \"Buzz\" = blue"
      ],
      "metadata": {
        "id": "Z0RMgoyT9Ks-"
      }
    },
    {
      "cell_type": "code",
      "source": [
        "for number in range(1, 51):\n",
        "    output = \"\"\n",
        "\n",
        "    if number % 3 == 0 and number % 5 == 0:\n",
        "        output = \"\\033[32m\" + \"BOTH\" + \"\\033[0m\"  # green\n",
        "    elif number % 3 == 0:\n",
        "        output = \"\\033[31m\" + \"Fuzzy\" + \"\\033[0m\"  # red\n",
        "    elif number % 5 == 0:\n",
        "        output = \"\\033[34m\" + \"Buzz\" + \"\\033[0m\"  # blue\n",
        "    else:\n",
        "        output = number\n",
        "\n",
        "    print(output)\n"
      ],
      "metadata": {
        "colab": {
          "base_uri": "https://localhost:8080/"
        },
        "id": "lXFr8UG79KMA",
        "outputId": "ee7c5862-a739-480c-b394-fcae10544611"
      },
      "execution_count": null,
      "outputs": [
        {
          "output_type": "stream",
          "name": "stdout",
          "text": [
            "1\n",
            "2\n",
            "\u001b[31mFuzzy\u001b[0m\n",
            "4\n",
            "\u001b[34mBuzz\u001b[0m\n",
            "\u001b[31mFuzzy\u001b[0m\n",
            "7\n",
            "8\n",
            "\u001b[31mFuzzy\u001b[0m\n",
            "\u001b[34mBuzz\u001b[0m\n",
            "11\n",
            "\u001b[31mFuzzy\u001b[0m\n",
            "13\n",
            "14\n",
            "\u001b[32mBOTH\u001b[0m\n",
            "16\n",
            "17\n",
            "\u001b[31mFuzzy\u001b[0m\n",
            "19\n",
            "\u001b[34mBuzz\u001b[0m\n",
            "\u001b[31mFuzzy\u001b[0m\n",
            "22\n",
            "23\n",
            "\u001b[31mFuzzy\u001b[0m\n",
            "\u001b[34mBuzz\u001b[0m\n",
            "26\n",
            "\u001b[31mFuzzy\u001b[0m\n",
            "28\n",
            "29\n",
            "\u001b[32mBOTH\u001b[0m\n",
            "31\n",
            "32\n",
            "\u001b[31mFuzzy\u001b[0m\n",
            "34\n",
            "\u001b[34mBuzz\u001b[0m\n",
            "\u001b[31mFuzzy\u001b[0m\n",
            "37\n",
            "38\n",
            "\u001b[31mFuzzy\u001b[0m\n",
            "\u001b[34mBuzz\u001b[0m\n",
            "41\n",
            "\u001b[31mFuzzy\u001b[0m\n",
            "43\n",
            "44\n",
            "\u001b[32mBOTH\u001b[0m\n",
            "46\n",
            "47\n",
            "\u001b[31mFuzzy\u001b[0m\n",
            "49\n",
            "\u001b[34mBuzz\u001b[0m\n"
          ]
        }
      ]
    }
  ]
}