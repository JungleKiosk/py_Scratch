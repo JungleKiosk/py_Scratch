{
  "nbformat": 4,
  "nbformat_minor": 0,
  "metadata": {
    "colab": {
      "provenance": [],
      "toc_visible": true,
      "collapsed_sections": [
        "vpBRUxvqAVB9",
        "O06AXv8lCEEd",
        "6AYDdJumCnH3",
        "wlQ17PmCD4gc",
        "jlLTO7waFNdk",
        "-xYXYEbFFiPM",
        "JSrNoSBHGcvU",
        "NnPlKw9fG1sg",
        "p9AxJGpRLxwT",
        "HhWcE0NrMXPG",
        "RJ2L-94LQDXQ"
      ],
      "authorship_tag": "ABX9TyPZU7jl5hKNSkvWNMyI7xEB"
    },
    "kernelspec": {
      "name": "python3",
      "display_name": "Python 3"
    },
    "language_info": {
      "name": "python"
    }
  },
  "cells": [
    {
      "cell_type": "markdown",
      "source": [
        "# Data Analysis"
      ],
      "metadata": {
        "id": "ZHy88RbV_OhB"
      }
    },
    {
      "cell_type": "markdown",
      "source": [
        "\n",
        "0. Pandas library\n",
        "1. Upload data\n",
        "2. Methods of data management\n",
        "3. Slicing\n",
        "4. Slicing per column\n",
        "5. Distinct values\n",
        "7. Aggregate functions\n",
        "8. Data grouping\n",
        "9. Data visualization\n",
        "10. Distribution\n",
        "11. Relation"
      ],
      "metadata": {
        "id": "Jvb14E84zI0O"
      }
    },
    {
      "cell_type": "markdown",
      "source": [
        "----"
      ],
      "metadata": {
        "id": "W3t_IN200dMV"
      }
    },
    {
      "cell_type": "markdown",
      "source": [
        "# Pandas library 🐼\n"
      ],
      "metadata": {
        "id": "Rm0Gz4Zj_qFj"
      }
    },
    {
      "cell_type": "markdown",
      "source": [
        "Pandas is the most used library in data analysis, in fact it allows you to load a dataset in Python and save it in a particular object called **Data Frame**\n",
        "\n",
        "First we need to import the library and it is common practice to import `pandas` using the `pd` alias for simple convenience:"
      ],
      "metadata": {
        "id": "8T58faJH_6OW"
      }
    },
    {
      "cell_type": "code",
      "source": [
        "import pandas as pd"
      ],
      "metadata": {
        "id": "89NFcs6mAN1H"
      },
      "execution_count": null,
      "outputs": []
    },
    {
      "cell_type": "markdown",
      "source": [
        "## Upload data"
      ],
      "metadata": {
        "id": "vpBRUxvqAVB9"
      }
    },
    {
      "cell_type": "markdown",
      "source": [
        "There are different ways to upload data, which can be in different formats. We start by uploading a dataset in csv format ( Comma Separated Values ) and which was saved in [this web page](https://raw.githubusercontent.com/mwaskom/seaborn-data/master/penguins.csv):"
      ],
      "metadata": {
        "id": "3tacSoogAZ3S"
      }
    },
    {
      "cell_type": "code",
      "source": [
        "df = pd.read_csv('https://raw.githubusercontent.com/mwaskom/seaborn-data/master/penguins.csv')\n",
        "df"
      ],
      "metadata": {
        "colab": {
          "base_uri": "https://localhost:8080/",
          "height": 423
        },
        "id": "xvhHIpukAucx",
        "outputId": "3118bdc0-f319-454f-85e5-6f8e6a45b0d6"
      },
      "execution_count": null,
      "outputs": [
        {
          "output_type": "execute_result",
          "data": {
            "text/plain": [
              "    species     island  bill_length_mm  bill_depth_mm  flipper_length_mm  \\\n",
              "0    Adelie  Torgersen            39.1           18.7              181.0   \n",
              "1    Adelie  Torgersen            39.5           17.4              186.0   \n",
              "2    Adelie  Torgersen            40.3           18.0              195.0   \n",
              "3    Adelie  Torgersen             NaN            NaN                NaN   \n",
              "4    Adelie  Torgersen            36.7           19.3              193.0   \n",
              "..      ...        ...             ...            ...                ...   \n",
              "339  Gentoo     Biscoe             NaN            NaN                NaN   \n",
              "340  Gentoo     Biscoe            46.8           14.3              215.0   \n",
              "341  Gentoo     Biscoe            50.4           15.7              222.0   \n",
              "342  Gentoo     Biscoe            45.2           14.8              212.0   \n",
              "343  Gentoo     Biscoe            49.9           16.1              213.0   \n",
              "\n",
              "     body_mass_g     sex  \n",
              "0         3750.0    MALE  \n",
              "1         3800.0  FEMALE  \n",
              "2         3250.0  FEMALE  \n",
              "3            NaN     NaN  \n",
              "4         3450.0  FEMALE  \n",
              "..           ...     ...  \n",
              "339          NaN     NaN  \n",
              "340       4850.0  FEMALE  \n",
              "341       5750.0    MALE  \n",
              "342       5200.0  FEMALE  \n",
              "343       5400.0    MALE  \n",
              "\n",
              "[344 rows x 7 columns]"
            ],
            "text/html": [
              "\n",
              "\n",
              "  <div id=\"df-1237c704-cb77-4cf0-9d05-3b5aeb2cefa4\">\n",
              "    <div class=\"colab-df-container\">\n",
              "      <div>\n",
              "<style scoped>\n",
              "    .dataframe tbody tr th:only-of-type {\n",
              "        vertical-align: middle;\n",
              "    }\n",
              "\n",
              "    .dataframe tbody tr th {\n",
              "        vertical-align: top;\n",
              "    }\n",
              "\n",
              "    .dataframe thead th {\n",
              "        text-align: right;\n",
              "    }\n",
              "</style>\n",
              "<table border=\"1\" class=\"dataframe\">\n",
              "  <thead>\n",
              "    <tr style=\"text-align: right;\">\n",
              "      <th></th>\n",
              "      <th>species</th>\n",
              "      <th>island</th>\n",
              "      <th>bill_length_mm</th>\n",
              "      <th>bill_depth_mm</th>\n",
              "      <th>flipper_length_mm</th>\n",
              "      <th>body_mass_g</th>\n",
              "      <th>sex</th>\n",
              "    </tr>\n",
              "  </thead>\n",
              "  <tbody>\n",
              "    <tr>\n",
              "      <th>0</th>\n",
              "      <td>Adelie</td>\n",
              "      <td>Torgersen</td>\n",
              "      <td>39.1</td>\n",
              "      <td>18.7</td>\n",
              "      <td>181.0</td>\n",
              "      <td>3750.0</td>\n",
              "      <td>MALE</td>\n",
              "    </tr>\n",
              "    <tr>\n",
              "      <th>1</th>\n",
              "      <td>Adelie</td>\n",
              "      <td>Torgersen</td>\n",
              "      <td>39.5</td>\n",
              "      <td>17.4</td>\n",
              "      <td>186.0</td>\n",
              "      <td>3800.0</td>\n",
              "      <td>FEMALE</td>\n",
              "    </tr>\n",
              "    <tr>\n",
              "      <th>2</th>\n",
              "      <td>Adelie</td>\n",
              "      <td>Torgersen</td>\n",
              "      <td>40.3</td>\n",
              "      <td>18.0</td>\n",
              "      <td>195.0</td>\n",
              "      <td>3250.0</td>\n",
              "      <td>FEMALE</td>\n",
              "    </tr>\n",
              "    <tr>\n",
              "      <th>3</th>\n",
              "      <td>Adelie</td>\n",
              "      <td>Torgersen</td>\n",
              "      <td>NaN</td>\n",
              "      <td>NaN</td>\n",
              "      <td>NaN</td>\n",
              "      <td>NaN</td>\n",
              "      <td>NaN</td>\n",
              "    </tr>\n",
              "    <tr>\n",
              "      <th>4</th>\n",
              "      <td>Adelie</td>\n",
              "      <td>Torgersen</td>\n",
              "      <td>36.7</td>\n",
              "      <td>19.3</td>\n",
              "      <td>193.0</td>\n",
              "      <td>3450.0</td>\n",
              "      <td>FEMALE</td>\n",
              "    </tr>\n",
              "    <tr>\n",
              "      <th>...</th>\n",
              "      <td>...</td>\n",
              "      <td>...</td>\n",
              "      <td>...</td>\n",
              "      <td>...</td>\n",
              "      <td>...</td>\n",
              "      <td>...</td>\n",
              "      <td>...</td>\n",
              "    </tr>\n",
              "    <tr>\n",
              "      <th>339</th>\n",
              "      <td>Gentoo</td>\n",
              "      <td>Biscoe</td>\n",
              "      <td>NaN</td>\n",
              "      <td>NaN</td>\n",
              "      <td>NaN</td>\n",
              "      <td>NaN</td>\n",
              "      <td>NaN</td>\n",
              "    </tr>\n",
              "    <tr>\n",
              "      <th>340</th>\n",
              "      <td>Gentoo</td>\n",
              "      <td>Biscoe</td>\n",
              "      <td>46.8</td>\n",
              "      <td>14.3</td>\n",
              "      <td>215.0</td>\n",
              "      <td>4850.0</td>\n",
              "      <td>FEMALE</td>\n",
              "    </tr>\n",
              "    <tr>\n",
              "      <th>341</th>\n",
              "      <td>Gentoo</td>\n",
              "      <td>Biscoe</td>\n",
              "      <td>50.4</td>\n",
              "      <td>15.7</td>\n",
              "      <td>222.0</td>\n",
              "      <td>5750.0</td>\n",
              "      <td>MALE</td>\n",
              "    </tr>\n",
              "    <tr>\n",
              "      <th>342</th>\n",
              "      <td>Gentoo</td>\n",
              "      <td>Biscoe</td>\n",
              "      <td>45.2</td>\n",
              "      <td>14.8</td>\n",
              "      <td>212.0</td>\n",
              "      <td>5200.0</td>\n",
              "      <td>FEMALE</td>\n",
              "    </tr>\n",
              "    <tr>\n",
              "      <th>343</th>\n",
              "      <td>Gentoo</td>\n",
              "      <td>Biscoe</td>\n",
              "      <td>49.9</td>\n",
              "      <td>16.1</td>\n",
              "      <td>213.0</td>\n",
              "      <td>5400.0</td>\n",
              "      <td>MALE</td>\n",
              "    </tr>\n",
              "  </tbody>\n",
              "</table>\n",
              "<p>344 rows × 7 columns</p>\n",
              "</div>\n",
              "      <button class=\"colab-df-convert\" onclick=\"convertToInteractive('df-1237c704-cb77-4cf0-9d05-3b5aeb2cefa4')\"\n",
              "              title=\"Convert this dataframe to an interactive table.\"\n",
              "              style=\"display:none;\">\n",
              "\n",
              "  <svg xmlns=\"http://www.w3.org/2000/svg\" height=\"24px\"viewBox=\"0 0 24 24\"\n",
              "       width=\"24px\">\n",
              "    <path d=\"M0 0h24v24H0V0z\" fill=\"none\"/>\n",
              "    <path d=\"M18.56 5.44l.94 2.06.94-2.06 2.06-.94-2.06-.94-.94-2.06-.94 2.06-2.06.94zm-11 1L8.5 8.5l.94-2.06 2.06-.94-2.06-.94L8.5 2.5l-.94 2.06-2.06.94zm10 10l.94 2.06.94-2.06 2.06-.94-2.06-.94-.94-2.06-.94 2.06-2.06.94z\"/><path d=\"M17.41 7.96l-1.37-1.37c-.4-.4-.92-.59-1.43-.59-.52 0-1.04.2-1.43.59L10.3 9.45l-7.72 7.72c-.78.78-.78 2.05 0 2.83L4 21.41c.39.39.9.59 1.41.59.51 0 1.02-.2 1.41-.59l7.78-7.78 2.81-2.81c.8-.78.8-2.07 0-2.86zM5.41 20L4 18.59l7.72-7.72 1.47 1.35L5.41 20z\"/>\n",
              "  </svg>\n",
              "      </button>\n",
              "\n",
              "\n",
              "\n",
              "    <div id=\"df-b22afd9a-02a6-4908-bb86-12ae2bc4d6ec\">\n",
              "      <button class=\"colab-df-quickchart\" onclick=\"quickchart('df-b22afd9a-02a6-4908-bb86-12ae2bc4d6ec')\"\n",
              "              title=\"Suggest charts.\"\n",
              "              style=\"display:none;\">\n",
              "\n",
              "<svg xmlns=\"http://www.w3.org/2000/svg\" height=\"24px\"viewBox=\"0 0 24 24\"\n",
              "     width=\"24px\">\n",
              "    <g>\n",
              "        <path d=\"M19 3H5c-1.1 0-2 .9-2 2v14c0 1.1.9 2 2 2h14c1.1 0 2-.9 2-2V5c0-1.1-.9-2-2-2zM9 17H7v-7h2v7zm4 0h-2V7h2v10zm4 0h-2v-4h2v4z\"/>\n",
              "    </g>\n",
              "</svg>\n",
              "      </button>\n",
              "    </div>\n",
              "\n",
              "<style>\n",
              "  .colab-df-quickchart {\n",
              "    background-color: #E8F0FE;\n",
              "    border: none;\n",
              "    border-radius: 50%;\n",
              "    cursor: pointer;\n",
              "    display: none;\n",
              "    fill: #1967D2;\n",
              "    height: 32px;\n",
              "    padding: 0 0 0 0;\n",
              "    width: 32px;\n",
              "  }\n",
              "\n",
              "  .colab-df-quickchart:hover {\n",
              "    background-color: #E2EBFA;\n",
              "    box-shadow: 0px 1px 2px rgba(60, 64, 67, 0.3), 0px 1px 3px 1px rgba(60, 64, 67, 0.15);\n",
              "    fill: #174EA6;\n",
              "  }\n",
              "\n",
              "  [theme=dark] .colab-df-quickchart {\n",
              "    background-color: #3B4455;\n",
              "    fill: #D2E3FC;\n",
              "  }\n",
              "\n",
              "  [theme=dark] .colab-df-quickchart:hover {\n",
              "    background-color: #434B5C;\n",
              "    box-shadow: 0px 1px 3px 1px rgba(0, 0, 0, 0.15);\n",
              "    filter: drop-shadow(0px 1px 2px rgba(0, 0, 0, 0.3));\n",
              "    fill: #FFFFFF;\n",
              "  }\n",
              "</style>\n",
              "\n",
              "    <script>\n",
              "      async function quickchart(key) {\n",
              "        const containerElement = document.querySelector('#' + key);\n",
              "        const charts = await google.colab.kernel.invokeFunction(\n",
              "            'suggestCharts', [key], {});\n",
              "      }\n",
              "    </script>\n",
              "\n",
              "      <script>\n",
              "\n",
              "function displayQuickchartButton(domScope) {\n",
              "  let quickchartButtonEl =\n",
              "    domScope.querySelector('#df-b22afd9a-02a6-4908-bb86-12ae2bc4d6ec button.colab-df-quickchart');\n",
              "  quickchartButtonEl.style.display =\n",
              "    google.colab.kernel.accessAllowed ? 'block' : 'none';\n",
              "}\n",
              "\n",
              "        displayQuickchartButton(document);\n",
              "      </script>\n",
              "      <style>\n",
              "    .colab-df-container {\n",
              "      display:flex;\n",
              "      flex-wrap:wrap;\n",
              "      gap: 12px;\n",
              "    }\n",
              "\n",
              "    .colab-df-convert {\n",
              "      background-color: #E8F0FE;\n",
              "      border: none;\n",
              "      border-radius: 50%;\n",
              "      cursor: pointer;\n",
              "      display: none;\n",
              "      fill: #1967D2;\n",
              "      height: 32px;\n",
              "      padding: 0 0 0 0;\n",
              "      width: 32px;\n",
              "    }\n",
              "\n",
              "    .colab-df-convert:hover {\n",
              "      background-color: #E2EBFA;\n",
              "      box-shadow: 0px 1px 2px rgba(60, 64, 67, 0.3), 0px 1px 3px 1px rgba(60, 64, 67, 0.15);\n",
              "      fill: #174EA6;\n",
              "    }\n",
              "\n",
              "    [theme=dark] .colab-df-convert {\n",
              "      background-color: #3B4455;\n",
              "      fill: #D2E3FC;\n",
              "    }\n",
              "\n",
              "    [theme=dark] .colab-df-convert:hover {\n",
              "      background-color: #434B5C;\n",
              "      box-shadow: 0px 1px 3px 1px rgba(0, 0, 0, 0.15);\n",
              "      filter: drop-shadow(0px 1px 2px rgba(0, 0, 0, 0.3));\n",
              "      fill: #FFFFFF;\n",
              "    }\n",
              "  </style>\n",
              "\n",
              "      <script>\n",
              "        const buttonEl =\n",
              "          document.querySelector('#df-1237c704-cb77-4cf0-9d05-3b5aeb2cefa4 button.colab-df-convert');\n",
              "        buttonEl.style.display =\n",
              "          google.colab.kernel.accessAllowed ? 'block' : 'none';\n",
              "\n",
              "        async function convertToInteractive(key) {\n",
              "          const element = document.querySelector('#df-1237c704-cb77-4cf0-9d05-3b5aeb2cefa4');\n",
              "          const dataTable =\n",
              "            await google.colab.kernel.invokeFunction('convertToInteractive',\n",
              "                                                     [key], {});\n",
              "          if (!dataTable) return;\n",
              "\n",
              "          const docLinkHtml = 'Like what you see? Visit the ' +\n",
              "            '<a target=\"_blank\" href=https://colab.research.google.com/notebooks/data_table.ipynb>data table notebook</a>'\n",
              "            + ' to learn more about interactive tables.';\n",
              "          element.innerHTML = '';\n",
              "          dataTable['output_type'] = 'display_data';\n",
              "          await google.colab.output.renderOutput(dataTable, element);\n",
              "          const docLink = document.createElement('div');\n",
              "          docLink.innerHTML = docLinkHtml;\n",
              "          element.appendChild(docLink);\n",
              "        }\n",
              "      </script>\n",
              "    </div>\n",
              "  </div>\n"
            ]
          },
          "metadata": {},
          "execution_count": 3
        }
      ]
    },
    {
      "cell_type": "markdown",
      "source": [
        "The dataset, which we just saved as a **Data Frame** on an object named `df`, contains data on measurements of the physical characteristics of some penguin populations.\n",
        "\n",
        "We can use the `.info()` method on our `df` Data Frame to get general information about the composition of our data:"
      ],
      "metadata": {
        "id": "QDS-YHIsBYCj"
      }
    },
    {
      "cell_type": "markdown",
      "source": [
        "![peng_smile.jpg](data:image/jpeg;base64,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)"
      ],
      "metadata": {
        "id": "E3Jcr2VpBgnZ"
      }
    },
    {
      "cell_type": "code",
      "source": [
        "df.info()"
      ],
      "metadata": {
        "colab": {
          "base_uri": "https://localhost:8080/"
        },
        "id": "5OiexQFMBcM8",
        "outputId": "0e0da003-1503-4836-b3f5-58372bfcb2a7"
      },
      "execution_count": null,
      "outputs": [
        {
          "output_type": "stream",
          "name": "stdout",
          "text": [
            "<class 'pandas.core.frame.DataFrame'>\n",
            "RangeIndex: 344 entries, 0 to 343\n",
            "Data columns (total 7 columns):\n",
            " #   Column             Non-Null Count  Dtype  \n",
            "---  ------             --------------  -----  \n",
            " 0   species            344 non-null    object \n",
            " 1   island             344 non-null    object \n",
            " 2   bill_length_mm     342 non-null    float64\n",
            " 3   bill_depth_mm      342 non-null    float64\n",
            " 4   flipper_length_mm  342 non-null    float64\n",
            " 5   body_mass_g        342 non-null    float64\n",
            " 6   sex                333 non-null    object \n",
            "dtypes: float64(4), object(3)\n",
            "memory usage: 18.9+ KB\n"
          ]
        }
      ]
    },
    {
      "cell_type": "markdown",
      "source": [
        "In addition to providing us with information about the column names and the type of variable (string or numeric), the output also tells us how many rows there are in the dataset and if and how many missing values there are for each column; for example:\n",
        "\n",
        "* the `species` column has no missing values\n",
        "* the `sex` column has 344 - 333 = 11 missing values"
      ],
      "metadata": {
        "id": "D2NvJxpBB_3H"
      }
    },
    {
      "cell_type": "markdown",
      "source": [
        "## Methods of data management"
      ],
      "metadata": {
        "id": "O06AXv8lCEEd"
      }
    },
    {
      "cell_type": "markdown",
      "source": [
        "Pandas offers several **attributes** and **methods** that can be applied to objects of type Data Frame:\n",
        "- an *attribute is a data or a function that specifies a characteristic* of an object;\n",
        "- a *method is a function that performs operations on an object*;\n",
        "- these objects have in turn been instantiated by a **class**, such as the DataFrame class for example.\n",
        "\n",
        "> 🤓 Check out [this article](https://towardsdatascience.com/explaining-python-classes-in-a-simple-way-e3742827c8b5) for a soft introduction to the subject of classes in Python."
      ],
      "metadata": {
        "id": "kYtTZT3mChJR"
      }
    },
    {
      "cell_type": "markdown",
      "source": [
        "## Slicing"
      ],
      "metadata": {
        "id": "6AYDdJumCnH3"
      }
    },
    {
      "cell_type": "markdown",
      "source": [
        "As we have seen for strings, it is also possible to index DataFrames, which have a double index: one for the rows and one for the columns of the dataset. There are [several ways](https://pandas.pydata.org/docs/user_guide/indexing.html) to obtain a specific row or column from a Data Frame but, in order not to confuse the ideas too much, we will only look at a few.\n",
        "\n",
        "**Slicing per row**\n",
        "\n",
        "The `.loc[]` indicator allows us to locate a certain row by specifying the \"label\" of the row (in this case the index itself) that we want to obtain:"
      ],
      "metadata": {
        "id": "p072nJNxC6Lg"
      }
    },
    {
      "cell_type": "code",
      "source": [
        "df.loc[8]"
      ],
      "metadata": {
        "colab": {
          "base_uri": "https://localhost:8080/"
        },
        "id": "dThOG6uXDAoN",
        "outputId": "94e70dce-65ad-4538-8675-08421cef4209"
      },
      "execution_count": null,
      "outputs": [
        {
          "output_type": "execute_result",
          "data": {
            "text/plain": [
              "species                 Adelie\n",
              "island               Torgersen\n",
              "bill_length_mm            34.1\n",
              "bill_depth_mm             18.1\n",
              "flipper_length_mm        193.0\n",
              "body_mass_g             3475.0\n",
              "sex                        NaN\n",
              "Name: 8, dtype: object"
            ]
          },
          "metadata": {},
          "execution_count": 6
        }
      ]
    },
    {
      "cell_type": "code",
      "source": [
        "# to select multiple rows\n",
        "df.loc[[2,8]]"
      ],
      "metadata": {
        "colab": {
          "base_uri": "https://localhost:8080/",
          "height": 112
        },
        "id": "Vm2ZrBjmDg9s",
        "outputId": "d66d5e3c-2763-4f1d-af46-ea9210adc18c"
      },
      "execution_count": null,
      "outputs": [
        {
          "output_type": "execute_result",
          "data": {
            "text/plain": [
              "  species     island  bill_length_mm  bill_depth_mm  flipper_length_mm  \\\n",
              "2  Adelie  Torgersen            40.3           18.0              195.0   \n",
              "8  Adelie  Torgersen            34.1           18.1              193.0   \n",
              "\n",
              "   body_mass_g     sex  \n",
              "2       3250.0  FEMALE  \n",
              "8       3475.0     NaN  "
            ],
            "text/html": [
              "\n",
              "\n",
              "  <div id=\"df-e65bbeae-2e96-445a-aa7a-12353fe6337f\">\n",
              "    <div class=\"colab-df-container\">\n",
              "      <div>\n",
              "<style scoped>\n",
              "    .dataframe tbody tr th:only-of-type {\n",
              "        vertical-align: middle;\n",
              "    }\n",
              "\n",
              "    .dataframe tbody tr th {\n",
              "        vertical-align: top;\n",
              "    }\n",
              "\n",
              "    .dataframe thead th {\n",
              "        text-align: right;\n",
              "    }\n",
              "</style>\n",
              "<table border=\"1\" class=\"dataframe\">\n",
              "  <thead>\n",
              "    <tr style=\"text-align: right;\">\n",
              "      <th></th>\n",
              "      <th>species</th>\n",
              "      <th>island</th>\n",
              "      <th>bill_length_mm</th>\n",
              "      <th>bill_depth_mm</th>\n",
              "      <th>flipper_length_mm</th>\n",
              "      <th>body_mass_g</th>\n",
              "      <th>sex</th>\n",
              "    </tr>\n",
              "  </thead>\n",
              "  <tbody>\n",
              "    <tr>\n",
              "      <th>2</th>\n",
              "      <td>Adelie</td>\n",
              "      <td>Torgersen</td>\n",
              "      <td>40.3</td>\n",
              "      <td>18.0</td>\n",
              "      <td>195.0</td>\n",
              "      <td>3250.0</td>\n",
              "      <td>FEMALE</td>\n",
              "    </tr>\n",
              "    <tr>\n",
              "      <th>8</th>\n",
              "      <td>Adelie</td>\n",
              "      <td>Torgersen</td>\n",
              "      <td>34.1</td>\n",
              "      <td>18.1</td>\n",
              "      <td>193.0</td>\n",
              "      <td>3475.0</td>\n",
              "      <td>NaN</td>\n",
              "    </tr>\n",
              "  </tbody>\n",
              "</table>\n",
              "</div>\n",
              "      <button class=\"colab-df-convert\" onclick=\"convertToInteractive('df-e65bbeae-2e96-445a-aa7a-12353fe6337f')\"\n",
              "              title=\"Convert this dataframe to an interactive table.\"\n",
              "              style=\"display:none;\">\n",
              "\n",
              "  <svg xmlns=\"http://www.w3.org/2000/svg\" height=\"24px\"viewBox=\"0 0 24 24\"\n",
              "       width=\"24px\">\n",
              "    <path d=\"M0 0h24v24H0V0z\" fill=\"none\"/>\n",
              "    <path d=\"M18.56 5.44l.94 2.06.94-2.06 2.06-.94-2.06-.94-.94-2.06-.94 2.06-2.06.94zm-11 1L8.5 8.5l.94-2.06 2.06-.94-2.06-.94L8.5 2.5l-.94 2.06-2.06.94zm10 10l.94 2.06.94-2.06 2.06-.94-2.06-.94-.94-2.06-.94 2.06-2.06.94z\"/><path d=\"M17.41 7.96l-1.37-1.37c-.4-.4-.92-.59-1.43-.59-.52 0-1.04.2-1.43.59L10.3 9.45l-7.72 7.72c-.78.78-.78 2.05 0 2.83L4 21.41c.39.39.9.59 1.41.59.51 0 1.02-.2 1.41-.59l7.78-7.78 2.81-2.81c.8-.78.8-2.07 0-2.86zM5.41 20L4 18.59l7.72-7.72 1.47 1.35L5.41 20z\"/>\n",
              "  </svg>\n",
              "      </button>\n",
              "\n",
              "\n",
              "\n",
              "    <div id=\"df-46803d0c-fed0-4c92-9c8f-68ad73ba5368\">\n",
              "      <button class=\"colab-df-quickchart\" onclick=\"quickchart('df-46803d0c-fed0-4c92-9c8f-68ad73ba5368')\"\n",
              "              title=\"Suggest charts.\"\n",
              "              style=\"display:none;\">\n",
              "\n",
              "<svg xmlns=\"http://www.w3.org/2000/svg\" height=\"24px\"viewBox=\"0 0 24 24\"\n",
              "     width=\"24px\">\n",
              "    <g>\n",
              "        <path d=\"M19 3H5c-1.1 0-2 .9-2 2v14c0 1.1.9 2 2 2h14c1.1 0 2-.9 2-2V5c0-1.1-.9-2-2-2zM9 17H7v-7h2v7zm4 0h-2V7h2v10zm4 0h-2v-4h2v4z\"/>\n",
              "    </g>\n",
              "</svg>\n",
              "      </button>\n",
              "    </div>\n",
              "\n",
              "<style>\n",
              "  .colab-df-quickchart {\n",
              "    background-color: #E8F0FE;\n",
              "    border: none;\n",
              "    border-radius: 50%;\n",
              "    cursor: pointer;\n",
              "    display: none;\n",
              "    fill: #1967D2;\n",
              "    height: 32px;\n",
              "    padding: 0 0 0 0;\n",
              "    width: 32px;\n",
              "  }\n",
              "\n",
              "  .colab-df-quickchart:hover {\n",
              "    background-color: #E2EBFA;\n",
              "    box-shadow: 0px 1px 2px rgba(60, 64, 67, 0.3), 0px 1px 3px 1px rgba(60, 64, 67, 0.15);\n",
              "    fill: #174EA6;\n",
              "  }\n",
              "\n",
              "  [theme=dark] .colab-df-quickchart {\n",
              "    background-color: #3B4455;\n",
              "    fill: #D2E3FC;\n",
              "  }\n",
              "\n",
              "  [theme=dark] .colab-df-quickchart:hover {\n",
              "    background-color: #434B5C;\n",
              "    box-shadow: 0px 1px 3px 1px rgba(0, 0, 0, 0.15);\n",
              "    filter: drop-shadow(0px 1px 2px rgba(0, 0, 0, 0.3));\n",
              "    fill: #FFFFFF;\n",
              "  }\n",
              "</style>\n",
              "\n",
              "    <script>\n",
              "      async function quickchart(key) {\n",
              "        const containerElement = document.querySelector('#' + key);\n",
              "        const charts = await google.colab.kernel.invokeFunction(\n",
              "            'suggestCharts', [key], {});\n",
              "      }\n",
              "    </script>\n",
              "\n",
              "      <script>\n",
              "\n",
              "function displayQuickchartButton(domScope) {\n",
              "  let quickchartButtonEl =\n",
              "    domScope.querySelector('#df-46803d0c-fed0-4c92-9c8f-68ad73ba5368 button.colab-df-quickchart');\n",
              "  quickchartButtonEl.style.display =\n",
              "    google.colab.kernel.accessAllowed ? 'block' : 'none';\n",
              "}\n",
              "\n",
              "        displayQuickchartButton(document);\n",
              "      </script>\n",
              "      <style>\n",
              "    .colab-df-container {\n",
              "      display:flex;\n",
              "      flex-wrap:wrap;\n",
              "      gap: 12px;\n",
              "    }\n",
              "\n",
              "    .colab-df-convert {\n",
              "      background-color: #E8F0FE;\n",
              "      border: none;\n",
              "      border-radius: 50%;\n",
              "      cursor: pointer;\n",
              "      display: none;\n",
              "      fill: #1967D2;\n",
              "      height: 32px;\n",
              "      padding: 0 0 0 0;\n",
              "      width: 32px;\n",
              "    }\n",
              "\n",
              "    .colab-df-convert:hover {\n",
              "      background-color: #E2EBFA;\n",
              "      box-shadow: 0px 1px 2px rgba(60, 64, 67, 0.3), 0px 1px 3px 1px rgba(60, 64, 67, 0.15);\n",
              "      fill: #174EA6;\n",
              "    }\n",
              "\n",
              "    [theme=dark] .colab-df-convert {\n",
              "      background-color: #3B4455;\n",
              "      fill: #D2E3FC;\n",
              "    }\n",
              "\n",
              "    [theme=dark] .colab-df-convert:hover {\n",
              "      background-color: #434B5C;\n",
              "      box-shadow: 0px 1px 3px 1px rgba(0, 0, 0, 0.15);\n",
              "      filter: drop-shadow(0px 1px 2px rgba(0, 0, 0, 0.3));\n",
              "      fill: #FFFFFF;\n",
              "    }\n",
              "  </style>\n",
              "\n",
              "      <script>\n",
              "        const buttonEl =\n",
              "          document.querySelector('#df-e65bbeae-2e96-445a-aa7a-12353fe6337f button.colab-df-convert');\n",
              "        buttonEl.style.display =\n",
              "          google.colab.kernel.accessAllowed ? 'block' : 'none';\n",
              "\n",
              "        async function convertToInteractive(key) {\n",
              "          const element = document.querySelector('#df-e65bbeae-2e96-445a-aa7a-12353fe6337f');\n",
              "          const dataTable =\n",
              "            await google.colab.kernel.invokeFunction('convertToInteractive',\n",
              "                                                     [key], {});\n",
              "          if (!dataTable) return;\n",
              "\n",
              "          const docLinkHtml = 'Like what you see? Visit the ' +\n",
              "            '<a target=\"_blank\" href=https://colab.research.google.com/notebooks/data_table.ipynb>data table notebook</a>'\n",
              "            + ' to learn more about interactive tables.';\n",
              "          element.innerHTML = '';\n",
              "          dataTable['output_type'] = 'display_data';\n",
              "          await google.colab.output.renderOutput(dataTable, element);\n",
              "          const docLink = document.createElement('div');\n",
              "          docLink.innerHTML = docLinkHtml;\n",
              "          element.appendChild(docLink);\n",
              "        }\n",
              "      </script>\n",
              "    </div>\n",
              "  </div>\n"
            ]
          },
          "metadata": {},
          "execution_count": 8
        }
      ]
    },
    {
      "cell_type": "markdown",
      "source": [
        "## Slicing per column"
      ],
      "metadata": {
        "id": "wlQ17PmCD4gc"
      }
    },
    {
      "cell_type": "markdown",
      "source": [
        "The `.loc[]` flag also works for columns, but this time we'll need to specify that we're interested in them (and not rows). To do this we use the `:` operator to ask to return **all rows** and after the `,` we specify the column (or columns) we want to select:"
      ],
      "metadata": {
        "id": "j6S6uehPD9zu"
      }
    },
    {
      "cell_type": "code",
      "source": [
        "df.loc[:,'island']"
      ],
      "metadata": {
        "colab": {
          "base_uri": "https://localhost:8080/"
        },
        "id": "lwHaFvVtEC3n",
        "outputId": "bb46da44-a3f0-4ae4-d8cd-c6371b78f160"
      },
      "execution_count": null,
      "outputs": [
        {
          "output_type": "execute_result",
          "data": {
            "text/plain": [
              "0      Torgersen\n",
              "1      Torgersen\n",
              "2      Torgersen\n",
              "3      Torgersen\n",
              "4      Torgersen\n",
              "         ...    \n",
              "339       Biscoe\n",
              "340       Biscoe\n",
              "341       Biscoe\n",
              "342       Biscoe\n",
              "343       Biscoe\n",
              "Name: island, Length: 344, dtype: object"
            ]
          },
          "metadata": {},
          "execution_count": 10
        }
      ]
    },
    {
      "cell_type": "code",
      "source": [
        "# to select specific rows and columns\n",
        "df.loc[:10,['species','bill_length_mm']]"
      ],
      "metadata": {
        "colab": {
          "base_uri": "https://localhost:8080/",
          "height": 394
        },
        "id": "VqpIGCZlEMzr",
        "outputId": "6eebe8a6-e05a-4887-b537-aa38021451c4"
      },
      "execution_count": null,
      "outputs": [
        {
          "output_type": "execute_result",
          "data": {
            "text/plain": [
              "   species  bill_length_mm\n",
              "0   Adelie            39.1\n",
              "1   Adelie            39.5\n",
              "2   Adelie            40.3\n",
              "3   Adelie             NaN\n",
              "4   Adelie            36.7\n",
              "5   Adelie            39.3\n",
              "6   Adelie            38.9\n",
              "7   Adelie            39.2\n",
              "8   Adelie            34.1\n",
              "9   Adelie            42.0\n",
              "10  Adelie            37.8"
            ],
            "text/html": [
              "\n",
              "\n",
              "  <div id=\"df-6bf24e7a-0c0a-4861-b826-3ccb395125a6\">\n",
              "    <div class=\"colab-df-container\">\n",
              "      <div>\n",
              "<style scoped>\n",
              "    .dataframe tbody tr th:only-of-type {\n",
              "        vertical-align: middle;\n",
              "    }\n",
              "\n",
              "    .dataframe tbody tr th {\n",
              "        vertical-align: top;\n",
              "    }\n",
              "\n",
              "    .dataframe thead th {\n",
              "        text-align: right;\n",
              "    }\n",
              "</style>\n",
              "<table border=\"1\" class=\"dataframe\">\n",
              "  <thead>\n",
              "    <tr style=\"text-align: right;\">\n",
              "      <th></th>\n",
              "      <th>species</th>\n",
              "      <th>bill_length_mm</th>\n",
              "    </tr>\n",
              "  </thead>\n",
              "  <tbody>\n",
              "    <tr>\n",
              "      <th>0</th>\n",
              "      <td>Adelie</td>\n",
              "      <td>39.1</td>\n",
              "    </tr>\n",
              "    <tr>\n",
              "      <th>1</th>\n",
              "      <td>Adelie</td>\n",
              "      <td>39.5</td>\n",
              "    </tr>\n",
              "    <tr>\n",
              "      <th>2</th>\n",
              "      <td>Adelie</td>\n",
              "      <td>40.3</td>\n",
              "    </tr>\n",
              "    <tr>\n",
              "      <th>3</th>\n",
              "      <td>Adelie</td>\n",
              "      <td>NaN</td>\n",
              "    </tr>\n",
              "    <tr>\n",
              "      <th>4</th>\n",
              "      <td>Adelie</td>\n",
              "      <td>36.7</td>\n",
              "    </tr>\n",
              "    <tr>\n",
              "      <th>5</th>\n",
              "      <td>Adelie</td>\n",
              "      <td>39.3</td>\n",
              "    </tr>\n",
              "    <tr>\n",
              "      <th>6</th>\n",
              "      <td>Adelie</td>\n",
              "      <td>38.9</td>\n",
              "    </tr>\n",
              "    <tr>\n",
              "      <th>7</th>\n",
              "      <td>Adelie</td>\n",
              "      <td>39.2</td>\n",
              "    </tr>\n",
              "    <tr>\n",
              "      <th>8</th>\n",
              "      <td>Adelie</td>\n",
              "      <td>34.1</td>\n",
              "    </tr>\n",
              "    <tr>\n",
              "      <th>9</th>\n",
              "      <td>Adelie</td>\n",
              "      <td>42.0</td>\n",
              "    </tr>\n",
              "    <tr>\n",
              "      <th>10</th>\n",
              "      <td>Adelie</td>\n",
              "      <td>37.8</td>\n",
              "    </tr>\n",
              "  </tbody>\n",
              "</table>\n",
              "</div>\n",
              "      <button class=\"colab-df-convert\" onclick=\"convertToInteractive('df-6bf24e7a-0c0a-4861-b826-3ccb395125a6')\"\n",
              "              title=\"Convert this dataframe to an interactive table.\"\n",
              "              style=\"display:none;\">\n",
              "\n",
              "  <svg xmlns=\"http://www.w3.org/2000/svg\" height=\"24px\"viewBox=\"0 0 24 24\"\n",
              "       width=\"24px\">\n",
              "    <path d=\"M0 0h24v24H0V0z\" fill=\"none\"/>\n",
              "    <path d=\"M18.56 5.44l.94 2.06.94-2.06 2.06-.94-2.06-.94-.94-2.06-.94 2.06-2.06.94zm-11 1L8.5 8.5l.94-2.06 2.06-.94-2.06-.94L8.5 2.5l-.94 2.06-2.06.94zm10 10l.94 2.06.94-2.06 2.06-.94-2.06-.94-.94-2.06-.94 2.06-2.06.94z\"/><path d=\"M17.41 7.96l-1.37-1.37c-.4-.4-.92-.59-1.43-.59-.52 0-1.04.2-1.43.59L10.3 9.45l-7.72 7.72c-.78.78-.78 2.05 0 2.83L4 21.41c.39.39.9.59 1.41.59.51 0 1.02-.2 1.41-.59l7.78-7.78 2.81-2.81c.8-.78.8-2.07 0-2.86zM5.41 20L4 18.59l7.72-7.72 1.47 1.35L5.41 20z\"/>\n",
              "  </svg>\n",
              "      </button>\n",
              "\n",
              "\n",
              "\n",
              "    <div id=\"df-9d048d6b-7808-46fd-ac38-0b0baf75385f\">\n",
              "      <button class=\"colab-df-quickchart\" onclick=\"quickchart('df-9d048d6b-7808-46fd-ac38-0b0baf75385f')\"\n",
              "              title=\"Suggest charts.\"\n",
              "              style=\"display:none;\">\n",
              "\n",
              "<svg xmlns=\"http://www.w3.org/2000/svg\" height=\"24px\"viewBox=\"0 0 24 24\"\n",
              "     width=\"24px\">\n",
              "    <g>\n",
              "        <path d=\"M19 3H5c-1.1 0-2 .9-2 2v14c0 1.1.9 2 2 2h14c1.1 0 2-.9 2-2V5c0-1.1-.9-2-2-2zM9 17H7v-7h2v7zm4 0h-2V7h2v10zm4 0h-2v-4h2v4z\"/>\n",
              "    </g>\n",
              "</svg>\n",
              "      </button>\n",
              "    </div>\n",
              "\n",
              "<style>\n",
              "  .colab-df-quickchart {\n",
              "    background-color: #E8F0FE;\n",
              "    border: none;\n",
              "    border-radius: 50%;\n",
              "    cursor: pointer;\n",
              "    display: none;\n",
              "    fill: #1967D2;\n",
              "    height: 32px;\n",
              "    padding: 0 0 0 0;\n",
              "    width: 32px;\n",
              "  }\n",
              "\n",
              "  .colab-df-quickchart:hover {\n",
              "    background-color: #E2EBFA;\n",
              "    box-shadow: 0px 1px 2px rgba(60, 64, 67, 0.3), 0px 1px 3px 1px rgba(60, 64, 67, 0.15);\n",
              "    fill: #174EA6;\n",
              "  }\n",
              "\n",
              "  [theme=dark] .colab-df-quickchart {\n",
              "    background-color: #3B4455;\n",
              "    fill: #D2E3FC;\n",
              "  }\n",
              "\n",
              "  [theme=dark] .colab-df-quickchart:hover {\n",
              "    background-color: #434B5C;\n",
              "    box-shadow: 0px 1px 3px 1px rgba(0, 0, 0, 0.15);\n",
              "    filter: drop-shadow(0px 1px 2px rgba(0, 0, 0, 0.3));\n",
              "    fill: #FFFFFF;\n",
              "  }\n",
              "</style>\n",
              "\n",
              "    <script>\n",
              "      async function quickchart(key) {\n",
              "        const containerElement = document.querySelector('#' + key);\n",
              "        const charts = await google.colab.kernel.invokeFunction(\n",
              "            'suggestCharts', [key], {});\n",
              "      }\n",
              "    </script>\n",
              "\n",
              "      <script>\n",
              "\n",
              "function displayQuickchartButton(domScope) {\n",
              "  let quickchartButtonEl =\n",
              "    domScope.querySelector('#df-9d048d6b-7808-46fd-ac38-0b0baf75385f button.colab-df-quickchart');\n",
              "  quickchartButtonEl.style.display =\n",
              "    google.colab.kernel.accessAllowed ? 'block' : 'none';\n",
              "}\n",
              "\n",
              "        displayQuickchartButton(document);\n",
              "      </script>\n",
              "      <style>\n",
              "    .colab-df-container {\n",
              "      display:flex;\n",
              "      flex-wrap:wrap;\n",
              "      gap: 12px;\n",
              "    }\n",
              "\n",
              "    .colab-df-convert {\n",
              "      background-color: #E8F0FE;\n",
              "      border: none;\n",
              "      border-radius: 50%;\n",
              "      cursor: pointer;\n",
              "      display: none;\n",
              "      fill: #1967D2;\n",
              "      height: 32px;\n",
              "      padding: 0 0 0 0;\n",
              "      width: 32px;\n",
              "    }\n",
              "\n",
              "    .colab-df-convert:hover {\n",
              "      background-color: #E2EBFA;\n",
              "      box-shadow: 0px 1px 2px rgba(60, 64, 67, 0.3), 0px 1px 3px 1px rgba(60, 64, 67, 0.15);\n",
              "      fill: #174EA6;\n",
              "    }\n",
              "\n",
              "    [theme=dark] .colab-df-convert {\n",
              "      background-color: #3B4455;\n",
              "      fill: #D2E3FC;\n",
              "    }\n",
              "\n",
              "    [theme=dark] .colab-df-convert:hover {\n",
              "      background-color: #434B5C;\n",
              "      box-shadow: 0px 1px 3px 1px rgba(0, 0, 0, 0.15);\n",
              "      filter: drop-shadow(0px 1px 2px rgba(0, 0, 0, 0.3));\n",
              "      fill: #FFFFFF;\n",
              "    }\n",
              "  </style>\n",
              "\n",
              "      <script>\n",
              "        const buttonEl =\n",
              "          document.querySelector('#df-6bf24e7a-0c0a-4861-b826-3ccb395125a6 button.colab-df-convert');\n",
              "        buttonEl.style.display =\n",
              "          google.colab.kernel.accessAllowed ? 'block' : 'none';\n",
              "\n",
              "        async function convertToInteractive(key) {\n",
              "          const element = document.querySelector('#df-6bf24e7a-0c0a-4861-b826-3ccb395125a6');\n",
              "          const dataTable =\n",
              "            await google.colab.kernel.invokeFunction('convertToInteractive',\n",
              "                                                     [key], {});\n",
              "          if (!dataTable) return;\n",
              "\n",
              "          const docLinkHtml = 'Like what you see? Visit the ' +\n",
              "            '<a target=\"_blank\" href=https://colab.research.google.com/notebooks/data_table.ipynb>data table notebook</a>'\n",
              "            + ' to learn more about interactive tables.';\n",
              "          element.innerHTML = '';\n",
              "          dataTable['output_type'] = 'display_data';\n",
              "          await google.colab.output.renderOutput(dataTable, element);\n",
              "          const docLink = document.createElement('div');\n",
              "          docLink.innerHTML = docLinkHtml;\n",
              "          element.appendChild(docLink);\n",
              "        }\n",
              "      </script>\n",
              "    </div>\n",
              "  </div>\n"
            ]
          },
          "metadata": {},
          "execution_count": 11
        }
      ]
    },
    {
      "cell_type": "markdown",
      "source": [
        "## Distinct values"
      ],
      "metadata": {
        "id": "jlLTO7waFNdk"
      }
    },
    {
      "cell_type": "markdown",
      "source": [
        "The `.unique()` method, when applied to a column of a Data Frame, returns the **distinct (or unique)** values contained in that column:"
      ],
      "metadata": {
        "id": "g4TPbDC_FUCL"
      }
    },
    {
      "cell_type": "code",
      "source": [
        "df['species'].unique()"
      ],
      "metadata": {
        "colab": {
          "base_uri": "https://localhost:8080/"
        },
        "id": "0PUMv6zyFZ7b",
        "outputId": "08a5c28f-834d-4073-c5ce-73a620b143de"
      },
      "execution_count": null,
      "outputs": [
        {
          "output_type": "execute_result",
          "data": {
            "text/plain": [
              "array(['Adelie', 'Chinstrap', 'Gentoo'], dtype=object)"
            ]
          },
          "metadata": {},
          "execution_count": 12
        }
      ]
    },
    {
      "cell_type": "markdown",
      "source": [
        "> ☝️ The spreadsheet equivalent of the `.unique()` method is the \"remove duplicates\" feature or the `=UNIQUE()` function."
      ],
      "metadata": {
        "id": "CjcKOJ0PFdJW"
      }
    },
    {
      "cell_type": "markdown",
      "source": [
        "### Filter data"
      ],
      "metadata": {
        "id": "-xYXYEbFFiPM"
      }
    },
    {
      "cell_type": "markdown",
      "source": [
        "We see that there are a total of three penguin species in the dataset. If we wanted to **filter** the Data Frame and see only the observations belonging to the 'Gentoo' species we can insert a **boolean mask** inside the `[]` operator like this:"
      ],
      "metadata": {
        "id": "6YIsrhxeFqla"
      }
    },
    {
      "cell_type": "code",
      "source": [
        "df[df['species'] == 'Gentoo']"
      ],
      "metadata": {
        "colab": {
          "base_uri": "https://localhost:8080/",
          "height": 423
        },
        "id": "Khqaztb7FuRn",
        "outputId": "0e7844cd-9d06-4320-84d1-63623dd9107c"
      },
      "execution_count": null,
      "outputs": [
        {
          "output_type": "execute_result",
          "data": {
            "text/plain": [
              "    species  island  bill_length_mm  bill_depth_mm  flipper_length_mm  \\\n",
              "220  Gentoo  Biscoe            46.1           13.2              211.0   \n",
              "221  Gentoo  Biscoe            50.0           16.3              230.0   \n",
              "222  Gentoo  Biscoe            48.7           14.1              210.0   \n",
              "223  Gentoo  Biscoe            50.0           15.2              218.0   \n",
              "224  Gentoo  Biscoe            47.6           14.5              215.0   \n",
              "..      ...     ...             ...            ...                ...   \n",
              "339  Gentoo  Biscoe             NaN            NaN                NaN   \n",
              "340  Gentoo  Biscoe            46.8           14.3              215.0   \n",
              "341  Gentoo  Biscoe            50.4           15.7              222.0   \n",
              "342  Gentoo  Biscoe            45.2           14.8              212.0   \n",
              "343  Gentoo  Biscoe            49.9           16.1              213.0   \n",
              "\n",
              "     body_mass_g     sex  \n",
              "220       4500.0  FEMALE  \n",
              "221       5700.0    MALE  \n",
              "222       4450.0  FEMALE  \n",
              "223       5700.0    MALE  \n",
              "224       5400.0    MALE  \n",
              "..           ...     ...  \n",
              "339          NaN     NaN  \n",
              "340       4850.0  FEMALE  \n",
              "341       5750.0    MALE  \n",
              "342       5200.0  FEMALE  \n",
              "343       5400.0    MALE  \n",
              "\n",
              "[124 rows x 7 columns]"
            ],
            "text/html": [
              "\n",
              "\n",
              "  <div id=\"df-447f3412-bcd0-4b8e-a758-fc0835156ecd\">\n",
              "    <div class=\"colab-df-container\">\n",
              "      <div>\n",
              "<style scoped>\n",
              "    .dataframe tbody tr th:only-of-type {\n",
              "        vertical-align: middle;\n",
              "    }\n",
              "\n",
              "    .dataframe tbody tr th {\n",
              "        vertical-align: top;\n",
              "    }\n",
              "\n",
              "    .dataframe thead th {\n",
              "        text-align: right;\n",
              "    }\n",
              "</style>\n",
              "<table border=\"1\" class=\"dataframe\">\n",
              "  <thead>\n",
              "    <tr style=\"text-align: right;\">\n",
              "      <th></th>\n",
              "      <th>species</th>\n",
              "      <th>island</th>\n",
              "      <th>bill_length_mm</th>\n",
              "      <th>bill_depth_mm</th>\n",
              "      <th>flipper_length_mm</th>\n",
              "      <th>body_mass_g</th>\n",
              "      <th>sex</th>\n",
              "    </tr>\n",
              "  </thead>\n",
              "  <tbody>\n",
              "    <tr>\n",
              "      <th>220</th>\n",
              "      <td>Gentoo</td>\n",
              "      <td>Biscoe</td>\n",
              "      <td>46.1</td>\n",
              "      <td>13.2</td>\n",
              "      <td>211.0</td>\n",
              "      <td>4500.0</td>\n",
              "      <td>FEMALE</td>\n",
              "    </tr>\n",
              "    <tr>\n",
              "      <th>221</th>\n",
              "      <td>Gentoo</td>\n",
              "      <td>Biscoe</td>\n",
              "      <td>50.0</td>\n",
              "      <td>16.3</td>\n",
              "      <td>230.0</td>\n",
              "      <td>5700.0</td>\n",
              "      <td>MALE</td>\n",
              "    </tr>\n",
              "    <tr>\n",
              "      <th>222</th>\n",
              "      <td>Gentoo</td>\n",
              "      <td>Biscoe</td>\n",
              "      <td>48.7</td>\n",
              "      <td>14.1</td>\n",
              "      <td>210.0</td>\n",
              "      <td>4450.0</td>\n",
              "      <td>FEMALE</td>\n",
              "    </tr>\n",
              "    <tr>\n",
              "      <th>223</th>\n",
              "      <td>Gentoo</td>\n",
              "      <td>Biscoe</td>\n",
              "      <td>50.0</td>\n",
              "      <td>15.2</td>\n",
              "      <td>218.0</td>\n",
              "      <td>5700.0</td>\n",
              "      <td>MALE</td>\n",
              "    </tr>\n",
              "    <tr>\n",
              "      <th>224</th>\n",
              "      <td>Gentoo</td>\n",
              "      <td>Biscoe</td>\n",
              "      <td>47.6</td>\n",
              "      <td>14.5</td>\n",
              "      <td>215.0</td>\n",
              "      <td>5400.0</td>\n",
              "      <td>MALE</td>\n",
              "    </tr>\n",
              "    <tr>\n",
              "      <th>...</th>\n",
              "      <td>...</td>\n",
              "      <td>...</td>\n",
              "      <td>...</td>\n",
              "      <td>...</td>\n",
              "      <td>...</td>\n",
              "      <td>...</td>\n",
              "      <td>...</td>\n",
              "    </tr>\n",
              "    <tr>\n",
              "      <th>339</th>\n",
              "      <td>Gentoo</td>\n",
              "      <td>Biscoe</td>\n",
              "      <td>NaN</td>\n",
              "      <td>NaN</td>\n",
              "      <td>NaN</td>\n",
              "      <td>NaN</td>\n",
              "      <td>NaN</td>\n",
              "    </tr>\n",
              "    <tr>\n",
              "      <th>340</th>\n",
              "      <td>Gentoo</td>\n",
              "      <td>Biscoe</td>\n",
              "      <td>46.8</td>\n",
              "      <td>14.3</td>\n",
              "      <td>215.0</td>\n",
              "      <td>4850.0</td>\n",
              "      <td>FEMALE</td>\n",
              "    </tr>\n",
              "    <tr>\n",
              "      <th>341</th>\n",
              "      <td>Gentoo</td>\n",
              "      <td>Biscoe</td>\n",
              "      <td>50.4</td>\n",
              "      <td>15.7</td>\n",
              "      <td>222.0</td>\n",
              "      <td>5750.0</td>\n",
              "      <td>MALE</td>\n",
              "    </tr>\n",
              "    <tr>\n",
              "      <th>342</th>\n",
              "      <td>Gentoo</td>\n",
              "      <td>Biscoe</td>\n",
              "      <td>45.2</td>\n",
              "      <td>14.8</td>\n",
              "      <td>212.0</td>\n",
              "      <td>5200.0</td>\n",
              "      <td>FEMALE</td>\n",
              "    </tr>\n",
              "    <tr>\n",
              "      <th>343</th>\n",
              "      <td>Gentoo</td>\n",
              "      <td>Biscoe</td>\n",
              "      <td>49.9</td>\n",
              "      <td>16.1</td>\n",
              "      <td>213.0</td>\n",
              "      <td>5400.0</td>\n",
              "      <td>MALE</td>\n",
              "    </tr>\n",
              "  </tbody>\n",
              "</table>\n",
              "<p>124 rows × 7 columns</p>\n",
              "</div>\n",
              "      <button class=\"colab-df-convert\" onclick=\"convertToInteractive('df-447f3412-bcd0-4b8e-a758-fc0835156ecd')\"\n",
              "              title=\"Convert this dataframe to an interactive table.\"\n",
              "              style=\"display:none;\">\n",
              "\n",
              "  <svg xmlns=\"http://www.w3.org/2000/svg\" height=\"24px\"viewBox=\"0 0 24 24\"\n",
              "       width=\"24px\">\n",
              "    <path d=\"M0 0h24v24H0V0z\" fill=\"none\"/>\n",
              "    <path d=\"M18.56 5.44l.94 2.06.94-2.06 2.06-.94-2.06-.94-.94-2.06-.94 2.06-2.06.94zm-11 1L8.5 8.5l.94-2.06 2.06-.94-2.06-.94L8.5 2.5l-.94 2.06-2.06.94zm10 10l.94 2.06.94-2.06 2.06-.94-2.06-.94-.94-2.06-.94 2.06-2.06.94z\"/><path d=\"M17.41 7.96l-1.37-1.37c-.4-.4-.92-.59-1.43-.59-.52 0-1.04.2-1.43.59L10.3 9.45l-7.72 7.72c-.78.78-.78 2.05 0 2.83L4 21.41c.39.39.9.59 1.41.59.51 0 1.02-.2 1.41-.59l7.78-7.78 2.81-2.81c.8-.78.8-2.07 0-2.86zM5.41 20L4 18.59l7.72-7.72 1.47 1.35L5.41 20z\"/>\n",
              "  </svg>\n",
              "      </button>\n",
              "\n",
              "\n",
              "\n",
              "    <div id=\"df-bbf8e546-ed71-46e2-a68c-487b112b7b0a\">\n",
              "      <button class=\"colab-df-quickchart\" onclick=\"quickchart('df-bbf8e546-ed71-46e2-a68c-487b112b7b0a')\"\n",
              "              title=\"Suggest charts.\"\n",
              "              style=\"display:none;\">\n",
              "\n",
              "<svg xmlns=\"http://www.w3.org/2000/svg\" height=\"24px\"viewBox=\"0 0 24 24\"\n",
              "     width=\"24px\">\n",
              "    <g>\n",
              "        <path d=\"M19 3H5c-1.1 0-2 .9-2 2v14c0 1.1.9 2 2 2h14c1.1 0 2-.9 2-2V5c0-1.1-.9-2-2-2zM9 17H7v-7h2v7zm4 0h-2V7h2v10zm4 0h-2v-4h2v4z\"/>\n",
              "    </g>\n",
              "</svg>\n",
              "      </button>\n",
              "    </div>\n",
              "\n",
              "<style>\n",
              "  .colab-df-quickchart {\n",
              "    background-color: #E8F0FE;\n",
              "    border: none;\n",
              "    border-radius: 50%;\n",
              "    cursor: pointer;\n",
              "    display: none;\n",
              "    fill: #1967D2;\n",
              "    height: 32px;\n",
              "    padding: 0 0 0 0;\n",
              "    width: 32px;\n",
              "  }\n",
              "\n",
              "  .colab-df-quickchart:hover {\n",
              "    background-color: #E2EBFA;\n",
              "    box-shadow: 0px 1px 2px rgba(60, 64, 67, 0.3), 0px 1px 3px 1px rgba(60, 64, 67, 0.15);\n",
              "    fill: #174EA6;\n",
              "  }\n",
              "\n",
              "  [theme=dark] .colab-df-quickchart {\n",
              "    background-color: #3B4455;\n",
              "    fill: #D2E3FC;\n",
              "  }\n",
              "\n",
              "  [theme=dark] .colab-df-quickchart:hover {\n",
              "    background-color: #434B5C;\n",
              "    box-shadow: 0px 1px 3px 1px rgba(0, 0, 0, 0.15);\n",
              "    filter: drop-shadow(0px 1px 2px rgba(0, 0, 0, 0.3));\n",
              "    fill: #FFFFFF;\n",
              "  }\n",
              "</style>\n",
              "\n",
              "    <script>\n",
              "      async function quickchart(key) {\n",
              "        const containerElement = document.querySelector('#' + key);\n",
              "        const charts = await google.colab.kernel.invokeFunction(\n",
              "            'suggestCharts', [key], {});\n",
              "      }\n",
              "    </script>\n",
              "\n",
              "      <script>\n",
              "\n",
              "function displayQuickchartButton(domScope) {\n",
              "  let quickchartButtonEl =\n",
              "    domScope.querySelector('#df-bbf8e546-ed71-46e2-a68c-487b112b7b0a button.colab-df-quickchart');\n",
              "  quickchartButtonEl.style.display =\n",
              "    google.colab.kernel.accessAllowed ? 'block' : 'none';\n",
              "}\n",
              "\n",
              "        displayQuickchartButton(document);\n",
              "      </script>\n",
              "      <style>\n",
              "    .colab-df-container {\n",
              "      display:flex;\n",
              "      flex-wrap:wrap;\n",
              "      gap: 12px;\n",
              "    }\n",
              "\n",
              "    .colab-df-convert {\n",
              "      background-color: #E8F0FE;\n",
              "      border: none;\n",
              "      border-radius: 50%;\n",
              "      cursor: pointer;\n",
              "      display: none;\n",
              "      fill: #1967D2;\n",
              "      height: 32px;\n",
              "      padding: 0 0 0 0;\n",
              "      width: 32px;\n",
              "    }\n",
              "\n",
              "    .colab-df-convert:hover {\n",
              "      background-color: #E2EBFA;\n",
              "      box-shadow: 0px 1px 2px rgba(60, 64, 67, 0.3), 0px 1px 3px 1px rgba(60, 64, 67, 0.15);\n",
              "      fill: #174EA6;\n",
              "    }\n",
              "\n",
              "    [theme=dark] .colab-df-convert {\n",
              "      background-color: #3B4455;\n",
              "      fill: #D2E3FC;\n",
              "    }\n",
              "\n",
              "    [theme=dark] .colab-df-convert:hover {\n",
              "      background-color: #434B5C;\n",
              "      box-shadow: 0px 1px 3px 1px rgba(0, 0, 0, 0.15);\n",
              "      filter: drop-shadow(0px 1px 2px rgba(0, 0, 0, 0.3));\n",
              "      fill: #FFFFFF;\n",
              "    }\n",
              "  </style>\n",
              "\n",
              "      <script>\n",
              "        const buttonEl =\n",
              "          document.querySelector('#df-447f3412-bcd0-4b8e-a758-fc0835156ecd button.colab-df-convert');\n",
              "        buttonEl.style.display =\n",
              "          google.colab.kernel.accessAllowed ? 'block' : 'none';\n",
              "\n",
              "        async function convertToInteractive(key) {\n",
              "          const element = document.querySelector('#df-447f3412-bcd0-4b8e-a758-fc0835156ecd');\n",
              "          const dataTable =\n",
              "            await google.colab.kernel.invokeFunction('convertToInteractive',\n",
              "                                                     [key], {});\n",
              "          if (!dataTable) return;\n",
              "\n",
              "          const docLinkHtml = 'Like what you see? Visit the ' +\n",
              "            '<a target=\"_blank\" href=https://colab.research.google.com/notebooks/data_table.ipynb>data table notebook</a>'\n",
              "            + ' to learn more about interactive tables.';\n",
              "          element.innerHTML = '';\n",
              "          dataTable['output_type'] = 'display_data';\n",
              "          await google.colab.output.renderOutput(dataTable, element);\n",
              "          const docLink = document.createElement('div');\n",
              "          docLink.innerHTML = docLinkHtml;\n",
              "          element.appendChild(docLink);\n",
              "        }\n",
              "      </script>\n",
              "    </div>\n",
              "  </div>\n"
            ]
          },
          "metadata": {},
          "execution_count": 13
        }
      ]
    },
    {
      "cell_type": "code",
      "source": [
        "# lines with the sort 'Gentoo' will result in boolean TRURE the rest FALSE\n",
        "df['species'] == 'Gentoo'"
      ],
      "metadata": {
        "colab": {
          "base_uri": "https://localhost:8080/"
        },
        "id": "i2fiOuz1IlJ4",
        "outputId": "16b2823f-1ecb-429f-cd1e-3cc438f1cc30"
      },
      "execution_count": null,
      "outputs": [
        {
          "output_type": "execute_result",
          "data": {
            "text/plain": [
              "0      False\n",
              "1      False\n",
              "2      False\n",
              "3      False\n",
              "4      False\n",
              "       ...  \n",
              "339     True\n",
              "340     True\n",
              "341     True\n",
              "342     True\n",
              "343     True\n",
              "Name: species, Length: 344, dtype: bool"
            ]
          },
          "metadata": {},
          "execution_count": 17
        }
      ]
    },
    {
      "cell_type": "markdown",
      "source": [
        "> ☝️ The spreadsheet equivalent is a column filter (the funnel symbol) or the `=QUERY()` function with a `WHERE` clause."
      ],
      "metadata": {
        "id": "HV4ENha0F41k"
      }
    },
    {
      "cell_type": "markdown",
      "source": [
        "## Aggregate functions"
      ],
      "metadata": {
        "id": "JSrNoSBHGcvU"
      }
    },
    {
      "cell_type": "markdown",
      "source": [
        "If at this point we wanted to know the mean value of the `body_mass_g` column of this species of penguin, it would be enough to add the `.mean()` method to the previous line preceded by the name of the column for which we want to calculate the mean, i.e. `[' body_mass_g']`:"
      ],
      "metadata": {
        "id": "g3j6Mj-FGm8Q"
      }
    },
    {
      "cell_type": "code",
      "source": [
        "df['body_mass_g'].mean()"
      ],
      "metadata": {
        "colab": {
          "base_uri": "https://localhost:8080/"
        },
        "id": "q-pB0BCMJ2Jk",
        "outputId": "0beb3816-f357-4211-d40c-cb32ada6224e"
      },
      "execution_count": null,
      "outputs": [
        {
          "output_type": "execute_result",
          "data": {
            "text/plain": [
              "4201.754385964912"
            ]
          },
          "metadata": {},
          "execution_count": 18
        }
      ]
    },
    {
      "cell_type": "code",
      "source": [
        "df[df['species']=='Gentoo']['body_mass_g'].mean()"
      ],
      "metadata": {
        "colab": {
          "base_uri": "https://localhost:8080/"
        },
        "id": "KOKdr_bbGrXo",
        "outputId": "df88a6c4-59b4-4521-d4fa-9200af75cf71"
      },
      "execution_count": null,
      "outputs": [
        {
          "output_type": "execute_result",
          "data": {
            "text/plain": [
              "5076.016260162602"
            ]
          },
          "metadata": {},
          "execution_count": 14
        }
      ]
    },
    {
      "cell_type": "markdown",
      "source": [
        "The 'Gentoo' species has an average mass higher than the total DataFrame average; therefore it is assumed that they are larger than the other species."
      ],
      "metadata": {
        "id": "r3YAXF5YKSL0"
      }
    },
    {
      "cell_type": "markdown",
      "source": [
        "To display more characters you create CONDITIONS:\n",
        "\n",
        " `df [ (1st condiction) & (2nd condiction) ] `"
      ],
      "metadata": {
        "id": "zeLf8SN1KZ4o"
      }
    },
    {
      "cell_type": "code",
      "source": [
        "# AND boolean operator: and = &\n",
        "df[ (df['species']=='Gentoo') & (df['sex'] == 'MALE') ]"
      ],
      "metadata": {
        "colab": {
          "base_uri": "https://localhost:8080/",
          "height": 423
        },
        "id": "pMS8sBeTKqRF",
        "outputId": "c387cf36-017d-4d17-f70d-2f5456e40f84"
      },
      "execution_count": null,
      "outputs": [
        {
          "output_type": "execute_result",
          "data": {
            "text/plain": [
              "    species  island  bill_length_mm  bill_depth_mm  flipper_length_mm  \\\n",
              "221  Gentoo  Biscoe            50.0           16.3              230.0   \n",
              "223  Gentoo  Biscoe            50.0           15.2              218.0   \n",
              "224  Gentoo  Biscoe            47.6           14.5              215.0   \n",
              "227  Gentoo  Biscoe            46.7           15.3              219.0   \n",
              "229  Gentoo  Biscoe            46.8           15.4              215.0   \n",
              "..      ...     ...             ...            ...                ...   \n",
              "333  Gentoo  Biscoe            51.5           16.3              230.0   \n",
              "335  Gentoo  Biscoe            55.1           16.0              230.0   \n",
              "337  Gentoo  Biscoe            48.8           16.2              222.0   \n",
              "341  Gentoo  Biscoe            50.4           15.7              222.0   \n",
              "343  Gentoo  Biscoe            49.9           16.1              213.0   \n",
              "\n",
              "     body_mass_g   sex  \n",
              "221       5700.0  MALE  \n",
              "223       5700.0  MALE  \n",
              "224       5400.0  MALE  \n",
              "227       5200.0  MALE  \n",
              "229       5150.0  MALE  \n",
              "..           ...   ...  \n",
              "333       5500.0  MALE  \n",
              "335       5850.0  MALE  \n",
              "337       6000.0  MALE  \n",
              "341       5750.0  MALE  \n",
              "343       5400.0  MALE  \n",
              "\n",
              "[61 rows x 7 columns]"
            ],
            "text/html": [
              "\n",
              "\n",
              "  <div id=\"df-0ff54049-1374-43be-ac0d-885cd3e7def8\">\n",
              "    <div class=\"colab-df-container\">\n",
              "      <div>\n",
              "<style scoped>\n",
              "    .dataframe tbody tr th:only-of-type {\n",
              "        vertical-align: middle;\n",
              "    }\n",
              "\n",
              "    .dataframe tbody tr th {\n",
              "        vertical-align: top;\n",
              "    }\n",
              "\n",
              "    .dataframe thead th {\n",
              "        text-align: right;\n",
              "    }\n",
              "</style>\n",
              "<table border=\"1\" class=\"dataframe\">\n",
              "  <thead>\n",
              "    <tr style=\"text-align: right;\">\n",
              "      <th></th>\n",
              "      <th>species</th>\n",
              "      <th>island</th>\n",
              "      <th>bill_length_mm</th>\n",
              "      <th>bill_depth_mm</th>\n",
              "      <th>flipper_length_mm</th>\n",
              "      <th>body_mass_g</th>\n",
              "      <th>sex</th>\n",
              "    </tr>\n",
              "  </thead>\n",
              "  <tbody>\n",
              "    <tr>\n",
              "      <th>221</th>\n",
              "      <td>Gentoo</td>\n",
              "      <td>Biscoe</td>\n",
              "      <td>50.0</td>\n",
              "      <td>16.3</td>\n",
              "      <td>230.0</td>\n",
              "      <td>5700.0</td>\n",
              "      <td>MALE</td>\n",
              "    </tr>\n",
              "    <tr>\n",
              "      <th>223</th>\n",
              "      <td>Gentoo</td>\n",
              "      <td>Biscoe</td>\n",
              "      <td>50.0</td>\n",
              "      <td>15.2</td>\n",
              "      <td>218.0</td>\n",
              "      <td>5700.0</td>\n",
              "      <td>MALE</td>\n",
              "    </tr>\n",
              "    <tr>\n",
              "      <th>224</th>\n",
              "      <td>Gentoo</td>\n",
              "      <td>Biscoe</td>\n",
              "      <td>47.6</td>\n",
              "      <td>14.5</td>\n",
              "      <td>215.0</td>\n",
              "      <td>5400.0</td>\n",
              "      <td>MALE</td>\n",
              "    </tr>\n",
              "    <tr>\n",
              "      <th>227</th>\n",
              "      <td>Gentoo</td>\n",
              "      <td>Biscoe</td>\n",
              "      <td>46.7</td>\n",
              "      <td>15.3</td>\n",
              "      <td>219.0</td>\n",
              "      <td>5200.0</td>\n",
              "      <td>MALE</td>\n",
              "    </tr>\n",
              "    <tr>\n",
              "      <th>229</th>\n",
              "      <td>Gentoo</td>\n",
              "      <td>Biscoe</td>\n",
              "      <td>46.8</td>\n",
              "      <td>15.4</td>\n",
              "      <td>215.0</td>\n",
              "      <td>5150.0</td>\n",
              "      <td>MALE</td>\n",
              "    </tr>\n",
              "    <tr>\n",
              "      <th>...</th>\n",
              "      <td>...</td>\n",
              "      <td>...</td>\n",
              "      <td>...</td>\n",
              "      <td>...</td>\n",
              "      <td>...</td>\n",
              "      <td>...</td>\n",
              "      <td>...</td>\n",
              "    </tr>\n",
              "    <tr>\n",
              "      <th>333</th>\n",
              "      <td>Gentoo</td>\n",
              "      <td>Biscoe</td>\n",
              "      <td>51.5</td>\n",
              "      <td>16.3</td>\n",
              "      <td>230.0</td>\n",
              "      <td>5500.0</td>\n",
              "      <td>MALE</td>\n",
              "    </tr>\n",
              "    <tr>\n",
              "      <th>335</th>\n",
              "      <td>Gentoo</td>\n",
              "      <td>Biscoe</td>\n",
              "      <td>55.1</td>\n",
              "      <td>16.0</td>\n",
              "      <td>230.0</td>\n",
              "      <td>5850.0</td>\n",
              "      <td>MALE</td>\n",
              "    </tr>\n",
              "    <tr>\n",
              "      <th>337</th>\n",
              "      <td>Gentoo</td>\n",
              "      <td>Biscoe</td>\n",
              "      <td>48.8</td>\n",
              "      <td>16.2</td>\n",
              "      <td>222.0</td>\n",
              "      <td>6000.0</td>\n",
              "      <td>MALE</td>\n",
              "    </tr>\n",
              "    <tr>\n",
              "      <th>341</th>\n",
              "      <td>Gentoo</td>\n",
              "      <td>Biscoe</td>\n",
              "      <td>50.4</td>\n",
              "      <td>15.7</td>\n",
              "      <td>222.0</td>\n",
              "      <td>5750.0</td>\n",
              "      <td>MALE</td>\n",
              "    </tr>\n",
              "    <tr>\n",
              "      <th>343</th>\n",
              "      <td>Gentoo</td>\n",
              "      <td>Biscoe</td>\n",
              "      <td>49.9</td>\n",
              "      <td>16.1</td>\n",
              "      <td>213.0</td>\n",
              "      <td>5400.0</td>\n",
              "      <td>MALE</td>\n",
              "    </tr>\n",
              "  </tbody>\n",
              "</table>\n",
              "<p>61 rows × 7 columns</p>\n",
              "</div>\n",
              "      <button class=\"colab-df-convert\" onclick=\"convertToInteractive('df-0ff54049-1374-43be-ac0d-885cd3e7def8')\"\n",
              "              title=\"Convert this dataframe to an interactive table.\"\n",
              "              style=\"display:none;\">\n",
              "\n",
              "  <svg xmlns=\"http://www.w3.org/2000/svg\" height=\"24px\"viewBox=\"0 0 24 24\"\n",
              "       width=\"24px\">\n",
              "    <path d=\"M0 0h24v24H0V0z\" fill=\"none\"/>\n",
              "    <path d=\"M18.56 5.44l.94 2.06.94-2.06 2.06-.94-2.06-.94-.94-2.06-.94 2.06-2.06.94zm-11 1L8.5 8.5l.94-2.06 2.06-.94-2.06-.94L8.5 2.5l-.94 2.06-2.06.94zm10 10l.94 2.06.94-2.06 2.06-.94-2.06-.94-.94-2.06-.94 2.06-2.06.94z\"/><path d=\"M17.41 7.96l-1.37-1.37c-.4-.4-.92-.59-1.43-.59-.52 0-1.04.2-1.43.59L10.3 9.45l-7.72 7.72c-.78.78-.78 2.05 0 2.83L4 21.41c.39.39.9.59 1.41.59.51 0 1.02-.2 1.41-.59l7.78-7.78 2.81-2.81c.8-.78.8-2.07 0-2.86zM5.41 20L4 18.59l7.72-7.72 1.47 1.35L5.41 20z\"/>\n",
              "  </svg>\n",
              "      </button>\n",
              "\n",
              "\n",
              "\n",
              "    <div id=\"df-b484ae6b-b321-42dc-acb3-d1c98762fcb4\">\n",
              "      <button class=\"colab-df-quickchart\" onclick=\"quickchart('df-b484ae6b-b321-42dc-acb3-d1c98762fcb4')\"\n",
              "              title=\"Suggest charts.\"\n",
              "              style=\"display:none;\">\n",
              "\n",
              "<svg xmlns=\"http://www.w3.org/2000/svg\" height=\"24px\"viewBox=\"0 0 24 24\"\n",
              "     width=\"24px\">\n",
              "    <g>\n",
              "        <path d=\"M19 3H5c-1.1 0-2 .9-2 2v14c0 1.1.9 2 2 2h14c1.1 0 2-.9 2-2V5c0-1.1-.9-2-2-2zM9 17H7v-7h2v7zm4 0h-2V7h2v10zm4 0h-2v-4h2v4z\"/>\n",
              "    </g>\n",
              "</svg>\n",
              "      </button>\n",
              "    </div>\n",
              "\n",
              "<style>\n",
              "  .colab-df-quickchart {\n",
              "    background-color: #E8F0FE;\n",
              "    border: none;\n",
              "    border-radius: 50%;\n",
              "    cursor: pointer;\n",
              "    display: none;\n",
              "    fill: #1967D2;\n",
              "    height: 32px;\n",
              "    padding: 0 0 0 0;\n",
              "    width: 32px;\n",
              "  }\n",
              "\n",
              "  .colab-df-quickchart:hover {\n",
              "    background-color: #E2EBFA;\n",
              "    box-shadow: 0px 1px 2px rgba(60, 64, 67, 0.3), 0px 1px 3px 1px rgba(60, 64, 67, 0.15);\n",
              "    fill: #174EA6;\n",
              "  }\n",
              "\n",
              "  [theme=dark] .colab-df-quickchart {\n",
              "    background-color: #3B4455;\n",
              "    fill: #D2E3FC;\n",
              "  }\n",
              "\n",
              "  [theme=dark] .colab-df-quickchart:hover {\n",
              "    background-color: #434B5C;\n",
              "    box-shadow: 0px 1px 3px 1px rgba(0, 0, 0, 0.15);\n",
              "    filter: drop-shadow(0px 1px 2px rgba(0, 0, 0, 0.3));\n",
              "    fill: #FFFFFF;\n",
              "  }\n",
              "</style>\n",
              "\n",
              "    <script>\n",
              "      async function quickchart(key) {\n",
              "        const containerElement = document.querySelector('#' + key);\n",
              "        const charts = await google.colab.kernel.invokeFunction(\n",
              "            'suggestCharts', [key], {});\n",
              "      }\n",
              "    </script>\n",
              "\n",
              "      <script>\n",
              "\n",
              "function displayQuickchartButton(domScope) {\n",
              "  let quickchartButtonEl =\n",
              "    domScope.querySelector('#df-b484ae6b-b321-42dc-acb3-d1c98762fcb4 button.colab-df-quickchart');\n",
              "  quickchartButtonEl.style.display =\n",
              "    google.colab.kernel.accessAllowed ? 'block' : 'none';\n",
              "}\n",
              "\n",
              "        displayQuickchartButton(document);\n",
              "      </script>\n",
              "      <style>\n",
              "    .colab-df-container {\n",
              "      display:flex;\n",
              "      flex-wrap:wrap;\n",
              "      gap: 12px;\n",
              "    }\n",
              "\n",
              "    .colab-df-convert {\n",
              "      background-color: #E8F0FE;\n",
              "      border: none;\n",
              "      border-radius: 50%;\n",
              "      cursor: pointer;\n",
              "      display: none;\n",
              "      fill: #1967D2;\n",
              "      height: 32px;\n",
              "      padding: 0 0 0 0;\n",
              "      width: 32px;\n",
              "    }\n",
              "\n",
              "    .colab-df-convert:hover {\n",
              "      background-color: #E2EBFA;\n",
              "      box-shadow: 0px 1px 2px rgba(60, 64, 67, 0.3), 0px 1px 3px 1px rgba(60, 64, 67, 0.15);\n",
              "      fill: #174EA6;\n",
              "    }\n",
              "\n",
              "    [theme=dark] .colab-df-convert {\n",
              "      background-color: #3B4455;\n",
              "      fill: #D2E3FC;\n",
              "    }\n",
              "\n",
              "    [theme=dark] .colab-df-convert:hover {\n",
              "      background-color: #434B5C;\n",
              "      box-shadow: 0px 1px 3px 1px rgba(0, 0, 0, 0.15);\n",
              "      filter: drop-shadow(0px 1px 2px rgba(0, 0, 0, 0.3));\n",
              "      fill: #FFFFFF;\n",
              "    }\n",
              "  </style>\n",
              "\n",
              "      <script>\n",
              "        const buttonEl =\n",
              "          document.querySelector('#df-0ff54049-1374-43be-ac0d-885cd3e7def8 button.colab-df-convert');\n",
              "        buttonEl.style.display =\n",
              "          google.colab.kernel.accessAllowed ? 'block' : 'none';\n",
              "\n",
              "        async function convertToInteractive(key) {\n",
              "          const element = document.querySelector('#df-0ff54049-1374-43be-ac0d-885cd3e7def8');\n",
              "          const dataTable =\n",
              "            await google.colab.kernel.invokeFunction('convertToInteractive',\n",
              "                                                     [key], {});\n",
              "          if (!dataTable) return;\n",
              "\n",
              "          const docLinkHtml = 'Like what you see? Visit the ' +\n",
              "            '<a target=\"_blank\" href=https://colab.research.google.com/notebooks/data_table.ipynb>data table notebook</a>'\n",
              "            + ' to learn more about interactive tables.';\n",
              "          element.innerHTML = '';\n",
              "          dataTable['output_type'] = 'display_data';\n",
              "          await google.colab.output.renderOutput(dataTable, element);\n",
              "          const docLink = document.createElement('div');\n",
              "          docLink.innerHTML = docLinkHtml;\n",
              "          element.appendChild(docLink);\n",
              "        }\n",
              "      </script>\n",
              "    </div>\n",
              "  </div>\n"
            ]
          },
          "metadata": {},
          "execution_count": 19
        }
      ]
    },
    {
      "cell_type": "markdown",
      "source": [
        "> ☝️ The spreadsheet equivalent would be:\n",
        "- use the `=AVERAGE()` function on the `body_mass_g` column after filtering the `species` variable, or\n",
        "- use the `=QUERY()` function with the `WHERE` clause and the `AVG()` aggregate function in the `SELECT` clause."
      ],
      "metadata": {
        "id": "A7vJ4QGgGz9Z"
      }
    },
    {
      "cell_type": "markdown",
      "source": [
        "## Data grouping"
      ],
      "metadata": {
        "id": "NnPlKw9fG1sg"
      }
    },
    {
      "cell_type": "markdown",
      "source": [
        "To know the average of all three species we could repeat the previous step three times (changing the name of the species each time). A faster and more efficient way to achieve the same result is to use the `.groupby()` method."
      ],
      "metadata": {
        "id": "inNhbdwCHLHS"
      }
    },
    {
      "cell_type": "code",
      "source": [
        "df.groupby('species')['body_mass_g'].mean()"
      ],
      "metadata": {
        "colab": {
          "base_uri": "https://localhost:8080/"
        },
        "id": "Ll9DncV3MpYk",
        "outputId": "b6d1e354-9d54-48ef-e685-b10e597fe4fd"
      },
      "execution_count": null,
      "outputs": [
        {
          "output_type": "execute_result",
          "data": {
            "text/plain": [
              "species\n",
              "Adelie       3700.662252\n",
              "Chinstrap    3733.088235\n",
              "Gentoo       5076.016260\n",
              "Name: body_mass_g, dtype: float64"
            ]
          },
          "metadata": {},
          "execution_count": 22
        }
      ]
    },
    {
      "cell_type": "markdown",
      "source": [
        "> ☝️ This is a Pandas🐼 object, to get a DataFrame you need to put the parameter `as_index = False` 👇"
      ],
      "metadata": {
        "id": "owXqVblmMwok"
      }
    },
    {
      "cell_type": "code",
      "source": [
        "df.groupby('species', as_index = False)['body_mass_g'].mean()"
      ],
      "metadata": {
        "colab": {
          "base_uri": "https://localhost:8080/",
          "height": 143
        },
        "id": "lesPVCukHO2b",
        "outputId": "29276e16-3025-4db6-ca1c-0269a3c36c80"
      },
      "execution_count": null,
      "outputs": [
        {
          "output_type": "execute_result",
          "data": {
            "text/plain": [
              "     species  body_mass_g\n",
              "0     Adelie  3700.662252\n",
              "1  Chinstrap  3733.088235\n",
              "2     Gentoo  5076.016260"
            ],
            "text/html": [
              "\n",
              "\n",
              "  <div id=\"df-c8d8d996-8fd1-482c-bb04-f3c01a79feeb\">\n",
              "    <div class=\"colab-df-container\">\n",
              "      <div>\n",
              "<style scoped>\n",
              "    .dataframe tbody tr th:only-of-type {\n",
              "        vertical-align: middle;\n",
              "    }\n",
              "\n",
              "    .dataframe tbody tr th {\n",
              "        vertical-align: top;\n",
              "    }\n",
              "\n",
              "    .dataframe thead th {\n",
              "        text-align: right;\n",
              "    }\n",
              "</style>\n",
              "<table border=\"1\" class=\"dataframe\">\n",
              "  <thead>\n",
              "    <tr style=\"text-align: right;\">\n",
              "      <th></th>\n",
              "      <th>species</th>\n",
              "      <th>body_mass_g</th>\n",
              "    </tr>\n",
              "  </thead>\n",
              "  <tbody>\n",
              "    <tr>\n",
              "      <th>0</th>\n",
              "      <td>Adelie</td>\n",
              "      <td>3700.662252</td>\n",
              "    </tr>\n",
              "    <tr>\n",
              "      <th>1</th>\n",
              "      <td>Chinstrap</td>\n",
              "      <td>3733.088235</td>\n",
              "    </tr>\n",
              "    <tr>\n",
              "      <th>2</th>\n",
              "      <td>Gentoo</td>\n",
              "      <td>5076.016260</td>\n",
              "    </tr>\n",
              "  </tbody>\n",
              "</table>\n",
              "</div>\n",
              "      <button class=\"colab-df-convert\" onclick=\"convertToInteractive('df-c8d8d996-8fd1-482c-bb04-f3c01a79feeb')\"\n",
              "              title=\"Convert this dataframe to an interactive table.\"\n",
              "              style=\"display:none;\">\n",
              "\n",
              "  <svg xmlns=\"http://www.w3.org/2000/svg\" height=\"24px\"viewBox=\"0 0 24 24\"\n",
              "       width=\"24px\">\n",
              "    <path d=\"M0 0h24v24H0V0z\" fill=\"none\"/>\n",
              "    <path d=\"M18.56 5.44l.94 2.06.94-2.06 2.06-.94-2.06-.94-.94-2.06-.94 2.06-2.06.94zm-11 1L8.5 8.5l.94-2.06 2.06-.94-2.06-.94L8.5 2.5l-.94 2.06-2.06.94zm10 10l.94 2.06.94-2.06 2.06-.94-2.06-.94-.94-2.06-.94 2.06-2.06.94z\"/><path d=\"M17.41 7.96l-1.37-1.37c-.4-.4-.92-.59-1.43-.59-.52 0-1.04.2-1.43.59L10.3 9.45l-7.72 7.72c-.78.78-.78 2.05 0 2.83L4 21.41c.39.39.9.59 1.41.59.51 0 1.02-.2 1.41-.59l7.78-7.78 2.81-2.81c.8-.78.8-2.07 0-2.86zM5.41 20L4 18.59l7.72-7.72 1.47 1.35L5.41 20z\"/>\n",
              "  </svg>\n",
              "      </button>\n",
              "\n",
              "\n",
              "\n",
              "    <div id=\"df-0cea28a4-cbcc-4845-bebd-d664644e7c65\">\n",
              "      <button class=\"colab-df-quickchart\" onclick=\"quickchart('df-0cea28a4-cbcc-4845-bebd-d664644e7c65')\"\n",
              "              title=\"Suggest charts.\"\n",
              "              style=\"display:none;\">\n",
              "\n",
              "<svg xmlns=\"http://www.w3.org/2000/svg\" height=\"24px\"viewBox=\"0 0 24 24\"\n",
              "     width=\"24px\">\n",
              "    <g>\n",
              "        <path d=\"M19 3H5c-1.1 0-2 .9-2 2v14c0 1.1.9 2 2 2h14c1.1 0 2-.9 2-2V5c0-1.1-.9-2-2-2zM9 17H7v-7h2v7zm4 0h-2V7h2v10zm4 0h-2v-4h2v4z\"/>\n",
              "    </g>\n",
              "</svg>\n",
              "      </button>\n",
              "    </div>\n",
              "\n",
              "<style>\n",
              "  .colab-df-quickchart {\n",
              "    background-color: #E8F0FE;\n",
              "    border: none;\n",
              "    border-radius: 50%;\n",
              "    cursor: pointer;\n",
              "    display: none;\n",
              "    fill: #1967D2;\n",
              "    height: 32px;\n",
              "    padding: 0 0 0 0;\n",
              "    width: 32px;\n",
              "  }\n",
              "\n",
              "  .colab-df-quickchart:hover {\n",
              "    background-color: #E2EBFA;\n",
              "    box-shadow: 0px 1px 2px rgba(60, 64, 67, 0.3), 0px 1px 3px 1px rgba(60, 64, 67, 0.15);\n",
              "    fill: #174EA6;\n",
              "  }\n",
              "\n",
              "  [theme=dark] .colab-df-quickchart {\n",
              "    background-color: #3B4455;\n",
              "    fill: #D2E3FC;\n",
              "  }\n",
              "\n",
              "  [theme=dark] .colab-df-quickchart:hover {\n",
              "    background-color: #434B5C;\n",
              "    box-shadow: 0px 1px 3px 1px rgba(0, 0, 0, 0.15);\n",
              "    filter: drop-shadow(0px 1px 2px rgba(0, 0, 0, 0.3));\n",
              "    fill: #FFFFFF;\n",
              "  }\n",
              "</style>\n",
              "\n",
              "    <script>\n",
              "      async function quickchart(key) {\n",
              "        const containerElement = document.querySelector('#' + key);\n",
              "        const charts = await google.colab.kernel.invokeFunction(\n",
              "            'suggestCharts', [key], {});\n",
              "      }\n",
              "    </script>\n",
              "\n",
              "      <script>\n",
              "\n",
              "function displayQuickchartButton(domScope) {\n",
              "  let quickchartButtonEl =\n",
              "    domScope.querySelector('#df-0cea28a4-cbcc-4845-bebd-d664644e7c65 button.colab-df-quickchart');\n",
              "  quickchartButtonEl.style.display =\n",
              "    google.colab.kernel.accessAllowed ? 'block' : 'none';\n",
              "}\n",
              "\n",
              "        displayQuickchartButton(document);\n",
              "      </script>\n",
              "      <style>\n",
              "    .colab-df-container {\n",
              "      display:flex;\n",
              "      flex-wrap:wrap;\n",
              "      gap: 12px;\n",
              "    }\n",
              "\n",
              "    .colab-df-convert {\n",
              "      background-color: #E8F0FE;\n",
              "      border: none;\n",
              "      border-radius: 50%;\n",
              "      cursor: pointer;\n",
              "      display: none;\n",
              "      fill: #1967D2;\n",
              "      height: 32px;\n",
              "      padding: 0 0 0 0;\n",
              "      width: 32px;\n",
              "    }\n",
              "\n",
              "    .colab-df-convert:hover {\n",
              "      background-color: #E2EBFA;\n",
              "      box-shadow: 0px 1px 2px rgba(60, 64, 67, 0.3), 0px 1px 3px 1px rgba(60, 64, 67, 0.15);\n",
              "      fill: #174EA6;\n",
              "    }\n",
              "\n",
              "    [theme=dark] .colab-df-convert {\n",
              "      background-color: #3B4455;\n",
              "      fill: #D2E3FC;\n",
              "    }\n",
              "\n",
              "    [theme=dark] .colab-df-convert:hover {\n",
              "      background-color: #434B5C;\n",
              "      box-shadow: 0px 1px 3px 1px rgba(0, 0, 0, 0.15);\n",
              "      filter: drop-shadow(0px 1px 2px rgba(0, 0, 0, 0.3));\n",
              "      fill: #FFFFFF;\n",
              "    }\n",
              "  </style>\n",
              "\n",
              "      <script>\n",
              "        const buttonEl =\n",
              "          document.querySelector('#df-c8d8d996-8fd1-482c-bb04-f3c01a79feeb button.colab-df-convert');\n",
              "        buttonEl.style.display =\n",
              "          google.colab.kernel.accessAllowed ? 'block' : 'none';\n",
              "\n",
              "        async function convertToInteractive(key) {\n",
              "          const element = document.querySelector('#df-c8d8d996-8fd1-482c-bb04-f3c01a79feeb');\n",
              "          const dataTable =\n",
              "            await google.colab.kernel.invokeFunction('convertToInteractive',\n",
              "                                                     [key], {});\n",
              "          if (!dataTable) return;\n",
              "\n",
              "          const docLinkHtml = 'Like what you see? Visit the ' +\n",
              "            '<a target=\"_blank\" href=https://colab.research.google.com/notebooks/data_table.ipynb>data table notebook</a>'\n",
              "            + ' to learn more about interactive tables.';\n",
              "          element.innerHTML = '';\n",
              "          dataTable['output_type'] = 'display_data';\n",
              "          await google.colab.output.renderOutput(dataTable, element);\n",
              "          const docLink = document.createElement('div');\n",
              "          docLink.innerHTML = docLinkHtml;\n",
              "          element.appendChild(docLink);\n",
              "        }\n",
              "      </script>\n",
              "    </div>\n",
              "  </div>\n"
            ]
          },
          "metadata": {},
          "execution_count": 15
        }
      ]
    },
    {
      "cell_type": "markdown",
      "source": [
        "> ☝️ The spreadsheet equivalent of the `.groupby()` method would be:\n",
        "- use a pivot table, or\n",
        "- use the `QUERY()` function with the `GROUP BY` clause, remembering to insert the grouping variable and the `AVG()` aggregation function in the `SELECT`."
      ],
      "metadata": {
        "id": "wIIXieMjHXSF"
      }
    },
    {
      "cell_type": "markdown",
      "source": [
        "> *Note: the `as_index = False` parameter specifies that we want the aggregate variable (in this case `species`) to be displayed as a column of the DataFrame (as it happens in the SQL output) and not as the index of the DataFrame (which would be the default output of the `.groupby()`). For more information, see the [documentation](https://pandas.pydata.org/docs/reference/api/pandas.DataFrame.groupby.html).*\n",
        "\n",
        "`group by` is an important concept in data analysis and in fact is also found in the SQL query language and, as seen above, even in spreadsheets.\n",
        "\n",
        "In fact, in a group by we go to **group all the lines** of a variable that have the same category (for example the penguin species). A group by is always **followed by an aggregation function** (such as the sum, the average, etc.) because having grouped so many rows we must summarize the numerical variables with a synthesis function, such as the sum or the average ."
      ],
      "metadata": {
        "id": "ITcJJx5QHdh0"
      }
    },
    {
      "cell_type": "markdown",
      "source": [
        "Another aggregation function is count, if we wanted to know the number of male and female penguins, for example, we could group by `sex` and then count the number of rows using the `.size()` method:"
      ],
      "metadata": {
        "id": "8ImhD-nDHiO4"
      }
    },
    {
      "cell_type": "code",
      "source": [
        "df.groupby('sex', as_index = False).size()"
      ],
      "metadata": {
        "colab": {
          "base_uri": "https://localhost:8080/",
          "height": 112
        },
        "id": "fcXbnolDH493",
        "outputId": "eb16861a-f698-400e-8ee6-dbdc40f870be"
      },
      "execution_count": null,
      "outputs": [
        {
          "output_type": "execute_result",
          "data": {
            "text/plain": [
              "      sex  size\n",
              "0  FEMALE   165\n",
              "1    MALE   168"
            ],
            "text/html": [
              "\n",
              "\n",
              "  <div id=\"df-4aab0d0f-750d-44ae-bf40-6ade82786cae\">\n",
              "    <div class=\"colab-df-container\">\n",
              "      <div>\n",
              "<style scoped>\n",
              "    .dataframe tbody tr th:only-of-type {\n",
              "        vertical-align: middle;\n",
              "    }\n",
              "\n",
              "    .dataframe tbody tr th {\n",
              "        vertical-align: top;\n",
              "    }\n",
              "\n",
              "    .dataframe thead th {\n",
              "        text-align: right;\n",
              "    }\n",
              "</style>\n",
              "<table border=\"1\" class=\"dataframe\">\n",
              "  <thead>\n",
              "    <tr style=\"text-align: right;\">\n",
              "      <th></th>\n",
              "      <th>sex</th>\n",
              "      <th>size</th>\n",
              "    </tr>\n",
              "  </thead>\n",
              "  <tbody>\n",
              "    <tr>\n",
              "      <th>0</th>\n",
              "      <td>FEMALE</td>\n",
              "      <td>165</td>\n",
              "    </tr>\n",
              "    <tr>\n",
              "      <th>1</th>\n",
              "      <td>MALE</td>\n",
              "      <td>168</td>\n",
              "    </tr>\n",
              "  </tbody>\n",
              "</table>\n",
              "</div>\n",
              "      <button class=\"colab-df-convert\" onclick=\"convertToInteractive('df-4aab0d0f-750d-44ae-bf40-6ade82786cae')\"\n",
              "              title=\"Convert this dataframe to an interactive table.\"\n",
              "              style=\"display:none;\">\n",
              "\n",
              "  <svg xmlns=\"http://www.w3.org/2000/svg\" height=\"24px\"viewBox=\"0 0 24 24\"\n",
              "       width=\"24px\">\n",
              "    <path d=\"M0 0h24v24H0V0z\" fill=\"none\"/>\n",
              "    <path d=\"M18.56 5.44l.94 2.06.94-2.06 2.06-.94-2.06-.94-.94-2.06-.94 2.06-2.06.94zm-11 1L8.5 8.5l.94-2.06 2.06-.94-2.06-.94L8.5 2.5l-.94 2.06-2.06.94zm10 10l.94 2.06.94-2.06 2.06-.94-2.06-.94-.94-2.06-.94 2.06-2.06.94z\"/><path d=\"M17.41 7.96l-1.37-1.37c-.4-.4-.92-.59-1.43-.59-.52 0-1.04.2-1.43.59L10.3 9.45l-7.72 7.72c-.78.78-.78 2.05 0 2.83L4 21.41c.39.39.9.59 1.41.59.51 0 1.02-.2 1.41-.59l7.78-7.78 2.81-2.81c.8-.78.8-2.07 0-2.86zM5.41 20L4 18.59l7.72-7.72 1.47 1.35L5.41 20z\"/>\n",
              "  </svg>\n",
              "      </button>\n",
              "\n",
              "\n",
              "\n",
              "    <div id=\"df-419499f8-2762-4204-906e-85b32df78eb0\">\n",
              "      <button class=\"colab-df-quickchart\" onclick=\"quickchart('df-419499f8-2762-4204-906e-85b32df78eb0')\"\n",
              "              title=\"Suggest charts.\"\n",
              "              style=\"display:none;\">\n",
              "\n",
              "<svg xmlns=\"http://www.w3.org/2000/svg\" height=\"24px\"viewBox=\"0 0 24 24\"\n",
              "     width=\"24px\">\n",
              "    <g>\n",
              "        <path d=\"M19 3H5c-1.1 0-2 .9-2 2v14c0 1.1.9 2 2 2h14c1.1 0 2-.9 2-2V5c0-1.1-.9-2-2-2zM9 17H7v-7h2v7zm4 0h-2V7h2v10zm4 0h-2v-4h2v4z\"/>\n",
              "    </g>\n",
              "</svg>\n",
              "      </button>\n",
              "    </div>\n",
              "\n",
              "<style>\n",
              "  .colab-df-quickchart {\n",
              "    background-color: #E8F0FE;\n",
              "    border: none;\n",
              "    border-radius: 50%;\n",
              "    cursor: pointer;\n",
              "    display: none;\n",
              "    fill: #1967D2;\n",
              "    height: 32px;\n",
              "    padding: 0 0 0 0;\n",
              "    width: 32px;\n",
              "  }\n",
              "\n",
              "  .colab-df-quickchart:hover {\n",
              "    background-color: #E2EBFA;\n",
              "    box-shadow: 0px 1px 2px rgba(60, 64, 67, 0.3), 0px 1px 3px 1px rgba(60, 64, 67, 0.15);\n",
              "    fill: #174EA6;\n",
              "  }\n",
              "\n",
              "  [theme=dark] .colab-df-quickchart {\n",
              "    background-color: #3B4455;\n",
              "    fill: #D2E3FC;\n",
              "  }\n",
              "\n",
              "  [theme=dark] .colab-df-quickchart:hover {\n",
              "    background-color: #434B5C;\n",
              "    box-shadow: 0px 1px 3px 1px rgba(0, 0, 0, 0.15);\n",
              "    filter: drop-shadow(0px 1px 2px rgba(0, 0, 0, 0.3));\n",
              "    fill: #FFFFFF;\n",
              "  }\n",
              "</style>\n",
              "\n",
              "    <script>\n",
              "      async function quickchart(key) {\n",
              "        const containerElement = document.querySelector('#' + key);\n",
              "        const charts = await google.colab.kernel.invokeFunction(\n",
              "            'suggestCharts', [key], {});\n",
              "      }\n",
              "    </script>\n",
              "\n",
              "      <script>\n",
              "\n",
              "function displayQuickchartButton(domScope) {\n",
              "  let quickchartButtonEl =\n",
              "    domScope.querySelector('#df-419499f8-2762-4204-906e-85b32df78eb0 button.colab-df-quickchart');\n",
              "  quickchartButtonEl.style.display =\n",
              "    google.colab.kernel.accessAllowed ? 'block' : 'none';\n",
              "}\n",
              "\n",
              "        displayQuickchartButton(document);\n",
              "      </script>\n",
              "      <style>\n",
              "    .colab-df-container {\n",
              "      display:flex;\n",
              "      flex-wrap:wrap;\n",
              "      gap: 12px;\n",
              "    }\n",
              "\n",
              "    .colab-df-convert {\n",
              "      background-color: #E8F0FE;\n",
              "      border: none;\n",
              "      border-radius: 50%;\n",
              "      cursor: pointer;\n",
              "      display: none;\n",
              "      fill: #1967D2;\n",
              "      height: 32px;\n",
              "      padding: 0 0 0 0;\n",
              "      width: 32px;\n",
              "    }\n",
              "\n",
              "    .colab-df-convert:hover {\n",
              "      background-color: #E2EBFA;\n",
              "      box-shadow: 0px 1px 2px rgba(60, 64, 67, 0.3), 0px 1px 3px 1px rgba(60, 64, 67, 0.15);\n",
              "      fill: #174EA6;\n",
              "    }\n",
              "\n",
              "    [theme=dark] .colab-df-convert {\n",
              "      background-color: #3B4455;\n",
              "      fill: #D2E3FC;\n",
              "    }\n",
              "\n",
              "    [theme=dark] .colab-df-convert:hover {\n",
              "      background-color: #434B5C;\n",
              "      box-shadow: 0px 1px 3px 1px rgba(0, 0, 0, 0.15);\n",
              "      filter: drop-shadow(0px 1px 2px rgba(0, 0, 0, 0.3));\n",
              "      fill: #FFFFFF;\n",
              "    }\n",
              "  </style>\n",
              "\n",
              "      <script>\n",
              "        const buttonEl =\n",
              "          document.querySelector('#df-4aab0d0f-750d-44ae-bf40-6ade82786cae button.colab-df-convert');\n",
              "        buttonEl.style.display =\n",
              "          google.colab.kernel.accessAllowed ? 'block' : 'none';\n",
              "\n",
              "        async function convertToInteractive(key) {\n",
              "          const element = document.querySelector('#df-4aab0d0f-750d-44ae-bf40-6ade82786cae');\n",
              "          const dataTable =\n",
              "            await google.colab.kernel.invokeFunction('convertToInteractive',\n",
              "                                                     [key], {});\n",
              "          if (!dataTable) return;\n",
              "\n",
              "          const docLinkHtml = 'Like what you see? Visit the ' +\n",
              "            '<a target=\"_blank\" href=https://colab.research.google.com/notebooks/data_table.ipynb>data table notebook</a>'\n",
              "            + ' to learn more about interactive tables.';\n",
              "          element.innerHTML = '';\n",
              "          dataTable['output_type'] = 'display_data';\n",
              "          await google.colab.output.renderOutput(dataTable, element);\n",
              "          const docLink = document.createElement('div');\n",
              "          docLink.innerHTML = docLinkHtml;\n",
              "          element.appendChild(docLink);\n",
              "        }\n",
              "      </script>\n",
              "    </div>\n",
              "  </div>\n"
            ]
          },
          "metadata": {},
          "execution_count": 16
        }
      ]
    },
    {
      "cell_type": "markdown",
      "source": [
        "> ❓👇 If you wanted to group by multiple variables?"
      ],
      "metadata": {
        "id": "Ez37UwaWNwIU"
      }
    },
    {
      "cell_type": "code",
      "source": [
        "df.groupby(['sex', 'species']).size()"
      ],
      "metadata": {
        "colab": {
          "base_uri": "https://localhost:8080/"
        },
        "id": "QyHZvA-0OGeH",
        "outputId": "b62488f9-ee60-490b-b119-3e184a1d5975"
      },
      "execution_count": null,
      "outputs": [
        {
          "output_type": "execute_result",
          "data": {
            "text/plain": [
              "sex     species  \n",
              "FEMALE  Adelie       73\n",
              "        Chinstrap    34\n",
              "        Gentoo       58\n",
              "MALE    Adelie       73\n",
              "        Chinstrap    34\n",
              "        Gentoo       61\n",
              "dtype: int64"
            ]
          },
          "metadata": {},
          "execution_count": 24
        }
      ]
    },
    {
      "cell_type": "code",
      "source": [
        "df.groupby(['sex', 'species'], as_index = False).size()"
      ],
      "metadata": {
        "colab": {
          "base_uri": "https://localhost:8080/",
          "height": 237
        },
        "id": "Ue5DEBjvOUWM",
        "outputId": "18e340d8-6e88-4248-cafc-7124752b6655"
      },
      "execution_count": null,
      "outputs": [
        {
          "output_type": "execute_result",
          "data": {
            "text/plain": [
              "      sex    species  size\n",
              "0  FEMALE     Adelie    73\n",
              "1  FEMALE  Chinstrap    34\n",
              "2  FEMALE     Gentoo    58\n",
              "3    MALE     Adelie    73\n",
              "4    MALE  Chinstrap    34\n",
              "5    MALE     Gentoo    61"
            ],
            "text/html": [
              "\n",
              "\n",
              "  <div id=\"df-a73e2f2f-c596-4eeb-8409-37cf28bd524e\">\n",
              "    <div class=\"colab-df-container\">\n",
              "      <div>\n",
              "<style scoped>\n",
              "    .dataframe tbody tr th:only-of-type {\n",
              "        vertical-align: middle;\n",
              "    }\n",
              "\n",
              "    .dataframe tbody tr th {\n",
              "        vertical-align: top;\n",
              "    }\n",
              "\n",
              "    .dataframe thead th {\n",
              "        text-align: right;\n",
              "    }\n",
              "</style>\n",
              "<table border=\"1\" class=\"dataframe\">\n",
              "  <thead>\n",
              "    <tr style=\"text-align: right;\">\n",
              "      <th></th>\n",
              "      <th>sex</th>\n",
              "      <th>species</th>\n",
              "      <th>size</th>\n",
              "    </tr>\n",
              "  </thead>\n",
              "  <tbody>\n",
              "    <tr>\n",
              "      <th>0</th>\n",
              "      <td>FEMALE</td>\n",
              "      <td>Adelie</td>\n",
              "      <td>73</td>\n",
              "    </tr>\n",
              "    <tr>\n",
              "      <th>1</th>\n",
              "      <td>FEMALE</td>\n",
              "      <td>Chinstrap</td>\n",
              "      <td>34</td>\n",
              "    </tr>\n",
              "    <tr>\n",
              "      <th>2</th>\n",
              "      <td>FEMALE</td>\n",
              "      <td>Gentoo</td>\n",
              "      <td>58</td>\n",
              "    </tr>\n",
              "    <tr>\n",
              "      <th>3</th>\n",
              "      <td>MALE</td>\n",
              "      <td>Adelie</td>\n",
              "      <td>73</td>\n",
              "    </tr>\n",
              "    <tr>\n",
              "      <th>4</th>\n",
              "      <td>MALE</td>\n",
              "      <td>Chinstrap</td>\n",
              "      <td>34</td>\n",
              "    </tr>\n",
              "    <tr>\n",
              "      <th>5</th>\n",
              "      <td>MALE</td>\n",
              "      <td>Gentoo</td>\n",
              "      <td>61</td>\n",
              "    </tr>\n",
              "  </tbody>\n",
              "</table>\n",
              "</div>\n",
              "      <button class=\"colab-df-convert\" onclick=\"convertToInteractive('df-a73e2f2f-c596-4eeb-8409-37cf28bd524e')\"\n",
              "              title=\"Convert this dataframe to an interactive table.\"\n",
              "              style=\"display:none;\">\n",
              "\n",
              "  <svg xmlns=\"http://www.w3.org/2000/svg\" height=\"24px\"viewBox=\"0 0 24 24\"\n",
              "       width=\"24px\">\n",
              "    <path d=\"M0 0h24v24H0V0z\" fill=\"none\"/>\n",
              "    <path d=\"M18.56 5.44l.94 2.06.94-2.06 2.06-.94-2.06-.94-.94-2.06-.94 2.06-2.06.94zm-11 1L8.5 8.5l.94-2.06 2.06-.94-2.06-.94L8.5 2.5l-.94 2.06-2.06.94zm10 10l.94 2.06.94-2.06 2.06-.94-2.06-.94-.94-2.06-.94 2.06-2.06.94z\"/><path d=\"M17.41 7.96l-1.37-1.37c-.4-.4-.92-.59-1.43-.59-.52 0-1.04.2-1.43.59L10.3 9.45l-7.72 7.72c-.78.78-.78 2.05 0 2.83L4 21.41c.39.39.9.59 1.41.59.51 0 1.02-.2 1.41-.59l7.78-7.78 2.81-2.81c.8-.78.8-2.07 0-2.86zM5.41 20L4 18.59l7.72-7.72 1.47 1.35L5.41 20z\"/>\n",
              "  </svg>\n",
              "      </button>\n",
              "\n",
              "\n",
              "\n",
              "    <div id=\"df-9da1f88c-e478-43e5-8606-47ce5d0c18c1\">\n",
              "      <button class=\"colab-df-quickchart\" onclick=\"quickchart('df-9da1f88c-e478-43e5-8606-47ce5d0c18c1')\"\n",
              "              title=\"Suggest charts.\"\n",
              "              style=\"display:none;\">\n",
              "\n",
              "<svg xmlns=\"http://www.w3.org/2000/svg\" height=\"24px\"viewBox=\"0 0 24 24\"\n",
              "     width=\"24px\">\n",
              "    <g>\n",
              "        <path d=\"M19 3H5c-1.1 0-2 .9-2 2v14c0 1.1.9 2 2 2h14c1.1 0 2-.9 2-2V5c0-1.1-.9-2-2-2zM9 17H7v-7h2v7zm4 0h-2V7h2v10zm4 0h-2v-4h2v4z\"/>\n",
              "    </g>\n",
              "</svg>\n",
              "      </button>\n",
              "    </div>\n",
              "\n",
              "<style>\n",
              "  .colab-df-quickchart {\n",
              "    background-color: #E8F0FE;\n",
              "    border: none;\n",
              "    border-radius: 50%;\n",
              "    cursor: pointer;\n",
              "    display: none;\n",
              "    fill: #1967D2;\n",
              "    height: 32px;\n",
              "    padding: 0 0 0 0;\n",
              "    width: 32px;\n",
              "  }\n",
              "\n",
              "  .colab-df-quickchart:hover {\n",
              "    background-color: #E2EBFA;\n",
              "    box-shadow: 0px 1px 2px rgba(60, 64, 67, 0.3), 0px 1px 3px 1px rgba(60, 64, 67, 0.15);\n",
              "    fill: #174EA6;\n",
              "  }\n",
              "\n",
              "  [theme=dark] .colab-df-quickchart {\n",
              "    background-color: #3B4455;\n",
              "    fill: #D2E3FC;\n",
              "  }\n",
              "\n",
              "  [theme=dark] .colab-df-quickchart:hover {\n",
              "    background-color: #434B5C;\n",
              "    box-shadow: 0px 1px 3px 1px rgba(0, 0, 0, 0.15);\n",
              "    filter: drop-shadow(0px 1px 2px rgba(0, 0, 0, 0.3));\n",
              "    fill: #FFFFFF;\n",
              "  }\n",
              "</style>\n",
              "\n",
              "    <script>\n",
              "      async function quickchart(key) {\n",
              "        const containerElement = document.querySelector('#' + key);\n",
              "        const charts = await google.colab.kernel.invokeFunction(\n",
              "            'suggestCharts', [key], {});\n",
              "      }\n",
              "    </script>\n",
              "\n",
              "      <script>\n",
              "\n",
              "function displayQuickchartButton(domScope) {\n",
              "  let quickchartButtonEl =\n",
              "    domScope.querySelector('#df-9da1f88c-e478-43e5-8606-47ce5d0c18c1 button.colab-df-quickchart');\n",
              "  quickchartButtonEl.style.display =\n",
              "    google.colab.kernel.accessAllowed ? 'block' : 'none';\n",
              "}\n",
              "\n",
              "        displayQuickchartButton(document);\n",
              "      </script>\n",
              "      <style>\n",
              "    .colab-df-container {\n",
              "      display:flex;\n",
              "      flex-wrap:wrap;\n",
              "      gap: 12px;\n",
              "    }\n",
              "\n",
              "    .colab-df-convert {\n",
              "      background-color: #E8F0FE;\n",
              "      border: none;\n",
              "      border-radius: 50%;\n",
              "      cursor: pointer;\n",
              "      display: none;\n",
              "      fill: #1967D2;\n",
              "      height: 32px;\n",
              "      padding: 0 0 0 0;\n",
              "      width: 32px;\n",
              "    }\n",
              "\n",
              "    .colab-df-convert:hover {\n",
              "      background-color: #E2EBFA;\n",
              "      box-shadow: 0px 1px 2px rgba(60, 64, 67, 0.3), 0px 1px 3px 1px rgba(60, 64, 67, 0.15);\n",
              "      fill: #174EA6;\n",
              "    }\n",
              "\n",
              "    [theme=dark] .colab-df-convert {\n",
              "      background-color: #3B4455;\n",
              "      fill: #D2E3FC;\n",
              "    }\n",
              "\n",
              "    [theme=dark] .colab-df-convert:hover {\n",
              "      background-color: #434B5C;\n",
              "      box-shadow: 0px 1px 3px 1px rgba(0, 0, 0, 0.15);\n",
              "      filter: drop-shadow(0px 1px 2px rgba(0, 0, 0, 0.3));\n",
              "      fill: #FFFFFF;\n",
              "    }\n",
              "  </style>\n",
              "\n",
              "      <script>\n",
              "        const buttonEl =\n",
              "          document.querySelector('#df-a73e2f2f-c596-4eeb-8409-37cf28bd524e button.colab-df-convert');\n",
              "        buttonEl.style.display =\n",
              "          google.colab.kernel.accessAllowed ? 'block' : 'none';\n",
              "\n",
              "        async function convertToInteractive(key) {\n",
              "          const element = document.querySelector('#df-a73e2f2f-c596-4eeb-8409-37cf28bd524e');\n",
              "          const dataTable =\n",
              "            await google.colab.kernel.invokeFunction('convertToInteractive',\n",
              "                                                     [key], {});\n",
              "          if (!dataTable) return;\n",
              "\n",
              "          const docLinkHtml = 'Like what you see? Visit the ' +\n",
              "            '<a target=\"_blank\" href=https://colab.research.google.com/notebooks/data_table.ipynb>data table notebook</a>'\n",
              "            + ' to learn more about interactive tables.';\n",
              "          element.innerHTML = '';\n",
              "          dataTable['output_type'] = 'display_data';\n",
              "          await google.colab.output.renderOutput(dataTable, element);\n",
              "          const docLink = document.createElement('div');\n",
              "          docLink.innerHTML = docLinkHtml;\n",
              "          element.appendChild(docLink);\n",
              "        }\n",
              "      </script>\n",
              "    </div>\n",
              "  </div>\n"
            ]
          },
          "metadata": {},
          "execution_count": 26
        }
      ]
    },
    {
      "cell_type": "markdown",
      "source": [
        "> 🤓 Check out [this article](https://realpython.com/pandas-groupby/) to learn more about the `groupby()` method in Python; also, watch [this video](https://www.youtube.com/watch?v=x2_mOJ3skSc&t=178s) to understand\n",
        "how `GROUP BY` clause works in SQL."
      ],
      "metadata": {
        "id": "1IkpfxUYH-5X"
      }
    },
    {
      "cell_type": "markdown",
      "source": [
        "## Data visualization"
      ],
      "metadata": {
        "id": "p9AxJGpRLxwT"
      }
    },
    {
      "cell_type": "markdown",
      "source": [
        "There are several libraries for visualizing data in Python. The best known and most used is undoubtedly [matplotlib](https://matplotlib.org/stable/users/getting_started/), it is very versatile and allows you to create a [multitude](https://matplotlib.org/stable /plot_types/index.html#) of plots and visualizations. Another library worth mentioning is [plotly](https://plotly.com/python/), much appreciated above all for its interactivity and versatility.\n",
        "\n",
        "The [seaborn](https://seaborn.pydata.org/) library is also very popular, both for its ease of use and for its aesthetic factor, which in our opinion beats matplotlib despite being based on this very 'last library and is therefore the one we will deal with here."
      ],
      "metadata": {
        "id": "8fR_CJ0FL2Pf"
      }
    },
    {
      "cell_type": "markdown",
      "source": [
        "It is common practice to import `seaborn` with the alias `sns` and immediately after [set the theme](https://seaborn.pydata.org/generated/seaborn.set_theme.html#seaborn.set_theme) with the command `sns .set_theme()`:"
      ],
      "metadata": {
        "id": "fs0X5IcVL6mA"
      }
    },
    {
      "cell_type": "code",
      "source": [
        "import seaborn as sns\n",
        "sns.set_theme()"
      ],
      "metadata": {
        "id": "mJ8dKYNgMAss"
      },
      "execution_count": null,
      "outputs": []
    },
    {
      "cell_type": "markdown",
      "source": [
        "## Distribution"
      ],
      "metadata": {
        "id": "HhWcE0NrMXPG"
      }
    },
    {
      "cell_type": "markdown",
      "source": [
        "Let's try to create a graph right away. Let's imagine we want to explore the **distribution** of penguin body mass; a great tool for doing this is the **boxplot**:"
      ],
      "metadata": {
        "id": "0kezGwTkMboW"
      }
    },
    {
      "cell_type": "code",
      "source": [
        "sns.boxplot(data=df, x='body_mass_g')"
      ],
      "metadata": {
        "colab": {
          "base_uri": "https://localhost:8080/",
          "height": 475
        },
        "id": "DBmN3IwxMi09",
        "outputId": "2673ffda-0ee0-4248-a3ef-57cb0c3e19ad"
      },
      "execution_count": null,
      "outputs": [
        {
          "output_type": "execute_result",
          "data": {
            "text/plain": [
              "<Axes: xlabel='body_mass_g'>"
            ]
          },
          "metadata": {},
          "execution_count": 23
        },
        {
          "output_type": "display_data",
          "data": {
            "text/plain": [
              "<Figure size 640x480 with 1 Axes>"
            ],
            "image/png": "[encoded data removed]"
          },
          "metadata": {}
        }
      ]
    },
    {
      "cell_type": "markdown",
      "source": [
        "**How do we interpret this graph?** 🫤❓"
      ],
      "metadata": {
        "id": "o7sqED9UNZsA"
      }
    },
    {
      "cell_type": "markdown",
      "source": [
        "- First of all, on the horizontal axis we read the value of the mass of the penguins and note that on the extreme left and right of the graph, there are vertical bars, these two points represent the **minimum** and the **maximum** value recorded in the dataset."
      ],
      "metadata": {
        "id": "yXCi804JNaaN"
      }
    },
    {
      "cell_type": "markdown",
      "source": [
        "- Between these two values, we find all the observations in our dataset."
      ],
      "metadata": {
        "id": "DSHNASGQO1J-"
      }
    },
    {
      "cell_type": "markdown",
      "source": [
        "- Within the left and right limits of the \"blue box\" we find 50% of our observations, in fact:\n",
        "   - the left limit of the \"blue box\" represents the **first quartile**, i.e. the point that separates the first 25% of the data (on the left) from the remaining 75% (on the right);\n",
        "   - the line in the middle of the \"blue box\" represents the **median**, i.e. the point that separates the first 50% of the data (on the left) from the remaining 50% (on the right);\n",
        "   - the right limit of the \"blue box\" represents the **third quartile**, i.e. the point that separates the first 75% of the data (on the left) from the remaining 25% (on the right);"
      ],
      "metadata": {
        "id": "sUPMzbcaO5C8"
      }
    },
    {
      "cell_type": "markdown",
      "source": [
        "- the **interquartile range** is defined as the difference of the value in the third quartile minus the value in the first quartile."
      ],
      "metadata": {
        "id": "f0IIsHapO9QU"
      }
    },
    {
      "cell_type": "markdown",
      "source": [
        "Once you understand how to interpret a boxplot (and after having seen many), this graph allows us to guess at a glance the distribution of a variable. In this case, for example, we can immediately see that half of the penguins in our dataset have a mass between 3.5 kg and 4.75 kg. We also note that, with respect to the total range of variation (min - max), the distribution of body mass of the penguins is slightly shifted to the left, in the direction of lighter masses."
      ],
      "metadata": {
        "id": "ga2UHhXkPDWs"
      }
    },
    {
      "cell_type": "markdown",
      "source": [
        "It is often useful to analyze how the distribution of one variable changes based on a third categorical variable; for example we might want to see how the body mass of penguins changes based on their gender:"
      ],
      "metadata": {
        "id": "rJ38ZII_PIDI"
      }
    },
    {
      "cell_type": "code",
      "source": [
        "sns.boxplot(data=df, x='body_mass_g', y='sex')"
      ],
      "metadata": {
        "colab": {
          "base_uri": "https://localhost:8080/",
          "height": 475
        },
        "id": "PjrGmH9kPL75",
        "outputId": "468a7dbd-14dd-4a60-da2d-3c177e5a4ed3"
      },
      "execution_count": null,
      "outputs": [
        {
          "output_type": "execute_result",
          "data": {
            "text/plain": [
              "<Axes: xlabel='body_mass_g', ylabel='sex'>"
            ]
          },
          "metadata": {},
          "execution_count": 27
        },
        {
          "output_type": "display_data",
          "data": {
            "text/plain": [
              "<Figure size 640x480 with 1 Axes>"
            ],
            "image/png": "[encoded data removed]"
          },
          "metadata": {}
        }
      ]
    },
    {
      "cell_type": "markdown",
      "source": [
        "As might be expected, in general male penguins have larger body masses than female penguins, although there is considerable overlap: for example, *the bottom 25% of females have greater body masses than the top 50% of males* ."
      ],
      "metadata": {
        "id": "hIVXbQaEPWt1"
      }
    },
    {
      "cell_type": "markdown",
      "source": [
        "![body_mass_pingu.png](data:image/png;base64,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)"
      ],
      "metadata": {
        "id": "-2ssh3tSTJOE"
      }
    },
    {
      "cell_type": "markdown",
      "source": [
        "Very likely that it is due to the different SPECIES of penguins: probably 25% of female penguins with mass greater than that of male penguins belong to the species 'Gentoo', which happens to be the species with greater body mass."
      ],
      "metadata": {
        "id": "pFe53uCwTK5D"
      }
    },
    {
      "cell_type": "markdown",
      "source": [
        "Then with a BOOLEAN MASK you can filter by the species:"
      ],
      "metadata": {
        "id": "75ZHijNET_uw"
      }
    },
    {
      "cell_type": "code",
      "source": [
        "sns.boxplot(data=df[df['species']=='Gentoo'] , x='body_mass_g', y='sex')"
      ],
      "metadata": {
        "colab": {
          "base_uri": "https://localhost:8080/",
          "height": 475
        },
        "id": "f7KD6YL8RSwQ",
        "outputId": "4d396da2-59d5-4cec-b642-99337473937c"
      },
      "execution_count": null,
      "outputs": [
        {
          "output_type": "execute_result",
          "data": {
            "text/plain": [
              "<Axes: xlabel='body_mass_g', ylabel='sex'>"
            ]
          },
          "metadata": {},
          "execution_count": 30
        },
        {
          "output_type": "display_data",
          "data": {
            "text/plain": [
              "<Figure size 640x480 with 1 Axes>"
            ],
            "image/png": "[encoded data removed]"
          },
          "metadata": {}
        }
      ]
    },
    {
      "cell_type": "markdown",
      "source": [
        "> 🤓 Read this [article](https://builtin.com/data-science/boxplot) to learn more about data distribution and how to read a Box Plot."
      ],
      "metadata": {
        "id": "GOcVj46YPavV"
      }
    },
    {
      "cell_type": "markdown",
      "source": [
        "## Relation"
      ],
      "metadata": {
        "id": "RJ2L-94LQDXQ"
      }
    },
    {
      "cell_type": "markdown",
      "source": [
        "When we want to evaluate the relationship between two variables, one of the best graphs we can use is the **scatterplot**, which allows us to observe how one variable behaves as the other varies.\n",
        "\n",
        "We can use the [`sns.scatterplot()`](https://seaborn.pydata.org/generated/seaborn.scatterplot.html) function of `seaborn` to plot the body mass of the penguins on the horizontal axis and the length of the wings on the vertical axis:"
      ],
      "metadata": {
        "id": "M2bkb9fpQHTc"
      }
    },
    {
      "cell_type": "code",
      "source": [
        "sns.scatterplot(df, x='body_mass_g', y='flipper_length_mm')"
      ],
      "metadata": {
        "colab": {
          "base_uri": "https://localhost:8080/",
          "height": 475
        },
        "id": "0_RxnHGfQLCU",
        "outputId": "797b04b1-9bee-4895-d559-7be2e017f84f"
      },
      "execution_count": null,
      "outputs": [
        {
          "output_type": "execute_result",
          "data": {
            "text/plain": [
              "<Axes: xlabel='body_mass_g', ylabel='flipper_length_mm'>"
            ]
          },
          "metadata": {},
          "execution_count": 28
        },
        {
          "output_type": "display_data",
          "data": {
            "text/plain": [
              "<Figure size 640x480 with 1 Axes>"
            ],
            "image/png": "[encoded data removed]"
          },
          "metadata": {}
        }
      ]
    },
    {
      "cell_type": "markdown",
      "source": [
        "We immediately notice a linear relationship between the two variables, that is, as the length of the wings increases, the body mass increases; and if we think about it it makes sense, the longer a penguin's wing is, the bigger the penguin is and therefore the greater its mass.\n",
        "\n",
        "We can also add a categorical variable like `sex` or `species` using the `hue` parameter:"
      ],
      "metadata": {
        "id": "ZUybbjx5QVyp"
      }
    },
    {
      "cell_type": "code",
      "source": [
        "# the hue parameter is used to diversify with colors based on a variable\n",
        "sns.scatterplot(df, x='body_mass_g', y='flipper_length_mm', hue='species')"
      ],
      "metadata": {
        "colab": {
          "base_uri": "https://localhost:8080/",
          "height": 475
        },
        "id": "KiEH6uizQW4Q",
        "outputId": "924e5f9b-f408-4e5a-f3d1-732f124fc3a4"
      },
      "execution_count": null,
      "outputs": [
        {
          "output_type": "execute_result",
          "data": {
            "text/plain": [
              "<Axes: xlabel='body_mass_g', ylabel='flipper_length_mm'>"
            ]
          },
          "metadata": {},
          "execution_count": 29
        },
        {
          "output_type": "display_data",
          "data": {
            "text/plain": [
              "<Figure size 640x480 with 1 Axes>"
            ],
            "image/png": "[encoded data removed]"
          },
          "metadata": {}
        }
      ]
    },
    {
      "cell_type": "code",
      "source": [
        "# it is possible to customize the graphs, an example:\n",
        "ax = sns.scatterplot(df, x='body_mass_g', y='flipper_length_mm', hue='species')\n",
        "ax.set(xlim =(0, 7000))\n",
        "ax.set(ylim =(0, 300))"
      ],
      "metadata": {
        "colab": {
          "base_uri": "https://localhost:8080/",
          "height": 481
        },
        "id": "mz4UIol8W2V_",
        "outputId": "ec385e8c-56d1-4587-d27e-3936da270c13"
      },
      "execution_count": null,
      "outputs": [
        {
          "output_type": "execute_result",
          "data": {
            "text/plain": [
              "[(0.0, 300.0)]"
            ]
          },
          "metadata": {},
          "execution_count": 35
        },
        {
          "output_type": "display_data",
          "data": {
            "text/plain": [
              "<Figure size 640x480 with 1 Axes>"
            ],
            "image/png": "[encoded data removed]"
          },
          "metadata": {}
        }
      ]
    }
  ]
}